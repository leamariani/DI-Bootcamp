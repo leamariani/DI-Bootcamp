{
 "cells": [
  {
   "cell_type": "code",
   "execution_count": 1,
   "id": "72cba397",
   "metadata": {},
   "outputs": [],
   "source": [
    "import pandas as pd\n",
    "from sklearn.preprocessing import MinMaxScaler\n",
    "from sklearn.decomposition import PCA"
   ]
  },
  {
   "cell_type": "code",
   "execution_count": 2,
   "id": "441a4797",
   "metadata": {},
   "outputs": [],
   "source": [
    "# 1. Charger le dataset\n",
    "df = pd.read_csv(\"datascience_salaries.csv\")"
   ]
  },
  {
   "cell_type": "code",
   "execution_count": 3,
   "id": "1c60de87",
   "metadata": {},
   "outputs": [],
   "source": [
    "# 2. Normaliser la colonne 'salary' entre 0 et 1\n",
    "scaler = MinMaxScaler()\n",
    "df['salary_normalized'] = scaler.fit_transform(df[['salary']])"
   ]
  },
  {
   "cell_type": "code",
   "execution_count": 4,
   "id": "1d6491e3",
   "metadata": {},
   "outputs": [],
   "source": [
    "# 3. Réduction de dimensions avec PCA (appliquée aux données numériques uniquement)\n",
    "numeric_df = df.select_dtypes(include=['float64', 'int64']).drop(columns=['salary'])\n",
    "pca = PCA(n_components=2)\n",
    "pca_result = pca.fit_transform(numeric_df)\n",
    "df[['PCA1', 'PCA2']] = pca_result"
   ]
  },
  {
   "cell_type": "code",
   "execution_count": 5,
   "id": "f96a28a8",
   "metadata": {},
   "outputs": [],
   "source": [
    "# 4. Regrouper par 'experience_level' et calculer la moyenne et la médiane\n",
    "grouped_salary_stats = df.groupby('experience_level')['salary'].agg(['mean', 'median']).reset_index()"
   ]
  },
  {
   "cell_type": "code",
   "execution_count": 6,
   "id": "5a366711",
   "metadata": {},
   "outputs": [
    {
     "name": "stdout",
     "output_type": "stream",
     "text": [
      "      Unnamed: 0       job_title    job_type experience_level       location  \\\n",
      "0              0  Data scientist   Full Time           Senior  New York City   \n",
      "1              2  Data scientist   Full Time           Senior         Boston   \n",
      "2              3  Data scientist   Full Time           Senior         London   \n",
      "3              4  Data scientist   Full Time           Senior         Boston   \n",
      "4              5  Data scientist   Full Time           Senior  New York City   \n",
      "...          ...             ...         ...              ...            ...   \n",
      "1166        2243          ML Ops   Full Time           Senior        Toronto   \n",
      "1167        2249          ML Ops   Full Time           Senior         Boston   \n",
      "1168        2250          ML Ops   Full Time           Senior          Delhi   \n",
      "1169        2255          ML Ops   Full Time           Senior  San Francisco   \n",
      "1170        2259          ML Ops  Internship           Senior  New York City   \n",
      "\n",
      "     salary_currency  salary  salary_normalized         PCA1      PCA2  \n",
      "0                USD  149000           0.601010  -931.620836  0.427553  \n",
      "1                USD  120000           0.454545  -929.620836  0.281083  \n",
      "2                USD   68000           0.191919  -928.620837  0.018454  \n",
      "3                USD  120000           0.454545  -927.620836  0.281077  \n",
      "4                USD  149000           0.601010  -926.620836  0.427539  \n",
      "...              ...     ...                ...          ...       ...  \n",
      "1166             USD  228000           1.000000  1311.379165  0.820566  \n",
      "1167             USD  115000           0.429293  1317.379164  0.249843  \n",
      "1168             USD   76000           0.232323  1318.379163  0.052871  \n",
      "1169             USD   68000           0.191919  1323.379163  0.012454  \n",
      "1170             USD  135000           0.530303  1327.379164  0.350827  \n",
      "\n",
      "[1171 rows x 10 columns]\n"
     ]
    }
   ],
   "source": [
    "print(df)"
   ]
  },
  {
   "cell_type": "code",
   "execution_count": 7,
   "id": "a36bf768",
   "metadata": {},
   "outputs": [
    {
     "name": "stdout",
     "output_type": "stream",
     "text": [
      "  experience_level  salary  salary_normalized        PCA1      PCA2\n",
      "0           Senior  149000           0.601010 -931.620836  0.427553\n",
      "1           Senior  120000           0.454545 -929.620836  0.281083\n",
      "2           Senior   68000           0.191919 -928.620837  0.018454\n",
      "3           Senior  120000           0.454545 -927.620836  0.281077\n",
      "4           Senior  149000           0.601010 -926.620836  0.427539\n"
     ]
    }
   ],
   "source": [
    "print(df[['experience_level', 'salary', 'salary_normalized', 'PCA1', 'PCA2']].head())"
   ]
  },
  {
   "cell_type": "code",
   "execution_count": 8,
   "id": "70a6769f",
   "metadata": {},
   "outputs": [
    {
     "name": "stdout",
     "output_type": "stream",
     "text": [
      "  experience_level          mean   median\n",
      "0            Entry  36111.111111  30000.0\n",
      "1        Executive  76076.923077  46000.0\n",
      "2              Mid  51786.885246  51000.0\n",
      "3           Senior  75088.033012  68000.0\n"
     ]
    }
   ],
   "source": [
    "print(grouped_salary_stats)"
   ]
  },
  {
   "cell_type": "code",
   "execution_count": null,
   "id": "8cc757b4",
   "metadata": {},
   "outputs": [],
   "source": []
  }
 ],
 "metadata": {
  "kernelspec": {
   "display_name": "Python 3",
   "language": "python",
   "name": "python3"
  },
  "language_info": {
   "codemirror_mode": {
    "name": "ipython",
    "version": 3
   },
   "file_extension": ".py",
   "mimetype": "text/x-python",
   "name": "python",
   "nbconvert_exporter": "python",
   "pygments_lexer": "ipython3",
   "version": "3.9.6"
  }
 },
 "nbformat": 4,
 "nbformat_minor": 5
}
