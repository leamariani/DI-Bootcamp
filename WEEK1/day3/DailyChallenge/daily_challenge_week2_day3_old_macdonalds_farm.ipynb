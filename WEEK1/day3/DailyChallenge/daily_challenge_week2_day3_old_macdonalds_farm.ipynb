{
 "cells": [
  {
   "cell_type": "code",
   "execution_count": 2,
   "id": "b9a03c18",
   "metadata": {},
   "outputs": [
    {
     "name": "stdout",
     "output_type": "stream",
     "text": [
      "Old MacDonald's Farm\n",
      "cow        : 3\n",
      "pig        : 2\n",
      "horse      : 1\n",
      "E-I-E-I-O!\n"
     ]
    }
   ],
   "source": [
    "#Instructions: Old MacDonald’s Farm\n",
    "#You are given example code and output. Your task is to create a Farm class that produces the same output.\n",
    "\n",
    "class Farm:\n",
    "    def __init__(self,farm_name):\n",
    "        self.name = farm_name\n",
    "        self.animals = {}\n",
    "    def add_animal(self, animal_type, count=1):\n",
    "        if animal_type in self.animals:\n",
    "            self.animals[animal_type] += count\n",
    "        else:\n",
    "            self.animals[animal_type] = count\n",
    "    def get_info(self):\n",
    "        info = f\"{self.name}'s Farm\\n\"\n",
    "        for animal, count in self.animals.items():\n",
    "            info += f\"{animal:10} : {count}\\n\"\n",
    "        info += \"E-I-E-I-O!\"\n",
    "        return info\n",
    "#Test\n",
    "macdonald_farm = Farm(\"Old MacDonald\")\n",
    "macdonald_farm.add_animal(\"cow\",3)\n",
    "macdonald_farm.add_animal(\"pig\",2)\n",
    "macdonald_farm.add_animal(\"horse\",1)\n",
    "print(macdonald_farm.get_info())\n",
    "\n",
    "\n",
    "\n",
    "\n",
    "\n",
    "\n"
   ]
  },
  {
   "cell_type": "code",
   "execution_count": null,
   "id": "6384b008",
   "metadata": {},
   "outputs": [],
   "source": []
  }
 ],
 "metadata": {
  "kernelspec": {
   "display_name": "Python 3",
   "language": "python",
   "name": "python3"
  },
  "language_info": {
   "codemirror_mode": {
    "name": "ipython",
    "version": 3
   },
   "file_extension": ".py",
   "mimetype": "text/x-python",
   "name": "python",
   "nbconvert_exporter": "python",
   "pygments_lexer": "ipython3",
   "version": "3.9.6"
  }
 },
 "nbformat": 4,
 "nbformat_minor": 5
}
