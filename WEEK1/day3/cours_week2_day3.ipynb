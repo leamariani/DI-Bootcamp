{
 "cells": [
  {
   "cell_type": "code",
   "execution_count": 1,
   "id": "c302a077",
   "metadata": {},
   "outputs": [
    {
     "name": "stdout",
     "output_type": "stream",
     "text": [
      "A new dog has been initialized !\n",
      "His name is Rex\n",
      "A new dog has been initialized !\n",
      "His name is Rex\n"
     ]
    }
   ],
   "source": [
    "class Dog():\n",
    "    # Initializer / Instance Attributes\n",
    "    def __init__(self, name_of_the_dog):\n",
    "        print(\"A new dog has been initialized !\")\n",
    "        print(\"His name is\", name_of_the_dog)\n",
    "\n",
    "shelter_dog = Dog(name_of_the_dog=\"Rex\")\n",
    "# or\n",
    "shelter_dog = Dog(\"Rex\")"
   ]
  },
  {
   "cell_type": "code",
   "execution_count": 2,
   "id": "309b3d53",
   "metadata": {},
   "outputs": [
    {
     "name": "stdout",
     "output_type": "stream",
     "text": [
      "John\n",
      "36\n"
     ]
    }
   ],
   "source": [
    "class Person():\n",
    "  def __init__(self, name, age):\n",
    "    self.name = name\n",
    "    self.age = age\n",
    "\n",
    "first_person = Person(\"John\", 36)\n",
    "\n",
    "print(first_person.name)\n",
    "print(first_person.age)"
   ]
  },
  {
   "cell_type": "code",
   "execution_count": 3,
   "id": "36070390",
   "metadata": {},
   "outputs": [
    {
     "name": "stdout",
     "output_type": "stream",
     "text": [
      "p.x is: 3\n",
      "p.y is: 4\n"
     ]
    }
   ],
   "source": [
    "class Point():\n",
    "    def __init__(self, x, y):\n",
    "        self.x = x\n",
    "        self.y = y\n",
    "\n",
    "## create an instance of the class\n",
    "p = Point(3,4)\n",
    "\n",
    "## access the attributes\n",
    "print(\"p.x is:\", p.x)\n",
    "print(\"p.y is:\", p.y)"
   ]
  },
  {
   "cell_type": "code",
   "execution_count": null,
   "id": "42aa23cc",
   "metadata": {},
   "outputs": [
    {
     "name": "stdout",
     "output_type": "stream",
     "text": [
      "Hello my name is Antoine and my age is 40\n"
     ]
    }
   ],
   "source": [
    "class Person():\n",
    "    def __init__(self, name, age):\n",
    "        self.name = name\n",
    "        self.age = age\n",
    "\n",
    "    def show_details(self):\n",
    "        print(f\"Hello my name is {self.name} and my age is {self.age}\")\n",
    "\n",
    "    def rename(self, new_name):\n",
    "        self.name = new_name\n",
    "\n",
    "    def reage(self, new_age):\n",
    "        self.age = new_age\n",
    "\n",
    "first_person = Person(\"John\", 36)\n",
    "\n",
    "first_person.rename(\"Antoine\")\n",
    "\n",
    "first_person.reage(40)\n",
    "\n",
    "first_person.show_details()"
   ]
  },
  {
   "cell_type": "code",
   "execution_count": null,
   "id": "d41b63c8",
   "metadata": {},
   "outputs": [],
   "source": []
  }
 ],
 "metadata": {
  "kernelspec": {
   "display_name": "Python 3",
   "language": "python",
   "name": "python3"
  },
  "language_info": {
   "codemirror_mode": {
    "name": "ipython",
    "version": 3
   },
   "file_extension": ".py",
   "mimetype": "text/x-python",
   "name": "python",
   "nbconvert_exporter": "python",
   "pygments_lexer": "ipython3",
   "version": "3.9.6"
  }
 },
 "nbformat": 4,
 "nbformat_minor": 5
}
