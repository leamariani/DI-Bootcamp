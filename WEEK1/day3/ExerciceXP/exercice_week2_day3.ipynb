{
 "cells": [
  {
   "cell_type": "code",
   "execution_count": 1,
   "id": "c1ff834c",
   "metadata": {},
   "outputs": [
    {
     "name": "stdout",
     "output_type": "stream",
     "text": [
      "The oldest cat is Luna, and is 5 years old.\n"
     ]
    }
   ],
   "source": [
    "#Exercise 1: Cats\n",
    "\n",
    "# Définition de la classe\n",
    "class Cat:\n",
    "    def __init__(self, cat_name, cat_age):\n",
    "        self.name = cat_name\n",
    "        self.age = cat_age\n",
    "\n",
    "# Step 1: Créer trois objets Cat\n",
    "cat1 = Cat(\"Milo\", 3)\n",
    "cat2 = Cat(\"Luna\", 5)\n",
    "cat3 = Cat(\"Simba\", 2)\n",
    "\n",
    "# Step 2: Créer une fonction pour trouver le chat le plus âgé\n",
    "def find_oldest_cat(cat1, cat2, cat3):\n",
    "    oldest = max([cat1, cat2, cat3], key=lambda cat: cat.age)\n",
    "    return oldest\n",
    "\n",
    "# Step 3: Afficher les détails du chat le plus âgé\n",
    "oldest_cat = find_oldest_cat(cat1, cat2, cat3)\n",
    "print(f\"The oldest cat is {oldest_cat.name}, and is {oldest_cat.age} years old.\")"
   ]
  },
  {
   "cell_type": "code",
   "execution_count": 10,
   "id": "944a2521",
   "metadata": {},
   "outputs": [
    {
     "name": "stdout",
     "output_type": "stream",
     "text": [
      "The oldest cat is 3 years old and his name is three.\n"
     ]
    }
   ],
   "source": [
    "#Exercice 1 version 2 :\n",
    "class Cat:\n",
    "    def __init__(self, cat_name, cat_age):\n",
    "        self.name = cat_name\n",
    "        self.age = cat_age\n",
    "# Step 1: Create cat objects\n",
    "cat1 = Cat(\"one\", 1)\n",
    "cat2 = Cat(\"two\", 2)\n",
    "cat3 = Cat(\"three\", 3)\n",
    "# Step 2: Create a function to find the oldest cat\n",
    "def find_oldest_cat(*cats):\n",
    "    return max(cats, key=lambda cat: cat.age)\n",
    "# Step 3: Print the oldest cat's details\n",
    "oldest_cat = find_oldest_cat(cat1, cat2, cat3)\n",
    "print(f\"The oldest cat is {oldest_cat.age} years old and his name is {oldest_cat.name}.\")\n"
   ]
  },
  {
   "cell_type": "code",
   "execution_count": 9,
   "id": "b8456ce6",
   "metadata": {},
   "outputs": [
    {
     "name": "stdout",
     "output_type": "stream",
     "text": [
      "Rex is 50 cm tall.\n",
      "Rex goes woof!\n",
      "Rex jumps 100 cm high!\n",
      "Teacup is 20 cm tall.\n",
      "Teacup goes woof!\n",
      "Teacup jumps 40 cm high!\n",
      "Rex is taller.\n"
     ]
    }
   ],
   "source": [
    "#Exercise 2 : Dogs\n",
    "\n",
    "#Étape 1 : Créer la classe Dog\n",
    "class Dog:\n",
    "    def __init__(self, name, height):\n",
    "        self.name = name\n",
    "        self.height = height\n",
    "\n",
    "    def bark(self):\n",
    "        print(f\"{self.name} goes woof!\")\n",
    "\n",
    "    def jump(self):\n",
    "        print(f\"{self.name} jumps {self.height * 2} cm high!\")\n",
    "\n",
    "#Étape 2 : Créer les objets davids_dog et sarahs_dog\n",
    "davids_dog = Dog(\"Rex\", 50)\n",
    "sarahs_dog = Dog(\"Teacup\", 20)\n",
    "\n",
    "#Étape 3 : Afficher les détails et appeler les méthodes\n",
    "print(f\"{davids_dog.name} is {davids_dog.height} cm tall.\")\n",
    "davids_dog.bark()\n",
    "davids_dog.jump()\n",
    "\n",
    "print(f\"{sarahs_dog.name} is {sarahs_dog.height} cm tall.\")\n",
    "sarahs_dog.bark()\n",
    "sarahs_dog.jump()\n",
    "\n",
    "\n",
    "#Étape 4 : Comparer la taille des chiens\n",
    "if davids_dog.height > sarahs_dog.height:\n",
    "    print(f\"{davids_dog.name} is taller.\")\n",
    "elif davids_dog.height < sarahs_dog.height:\n",
    "    print(f\"{sarahs_dog.name} is taller.\")\n",
    "else:\n",
    "    print(\"Both dogs are the same height.\")\n",
    "\n"
   ]
  },
  {
   "cell_type": "code",
   "execution_count": 12,
   "id": "70e2a534",
   "metadata": {},
   "outputs": [
    {
     "name": "stdout",
     "output_type": "stream",
     "text": [
      "Woof!\n",
      "Rex jumped 50\n",
      "Woof!\n",
      "Tom jumped 100\n"
     ]
    }
   ],
   "source": [
    "#Version 1\n",
    "class Dog:\n",
    "    def __init__(self,name, height):\n",
    "        self.name = name\n",
    "        self.height = height\n",
    "    def bark(self):\n",
    "        print(\"Woof!\")\n",
    "    def jump(self):\n",
    "        jump_height = self.height*2\n",
    "        print(self.name,\"jumped\",jump_height)\n",
    "davids_dog = Dog(\"Rex\",25)\n",
    "davids_dog.bark()\n",
    "davids_dog.jump()\n",
    "sarahs_dog = Dog(\"Tom\",50)\n",
    "sarahs_dog.bark()\n",
    "sarahs_dog.jump()\n",
    "def find_winner():\n",
    "    if sarahs_dog.height > davids_dog.height:\n",
    "        sarahs_dog = True\n",
    "        davids_dog = False\n",
    "    else:\n",
    "        davids_dog = True\n",
    "        sarahs_dog = False\n",
    "    print(\"David's dog is the winner:\", davids_dog.winner)\n",
    "    print(\"Sarah's dog is the winner:\", sarahs_dog.winner)"
   ]
  },
  {
   "cell_type": "code",
   "execution_count": 15,
   "id": "4082a134",
   "metadata": {},
   "outputs": [
    {
     "name": "stdout",
     "output_type": "stream",
     "text": [
      "There’s a lady who's sure\n",
      "all that glitters is gold\n",
      "and she’s buying a stairway to heaven\n"
     ]
    }
   ],
   "source": [
    "#Exercise 3 : Who’s the song producer?\n",
    "\n",
    "#Étape 1 : Créer la classe Song\n",
    "class Song:\n",
    "    def __init__(self, lyrics):\n",
    "        self.lyrics = lyrics\n",
    "\n",
    "    def sing_me_a_song(self):\n",
    "        for line in self.lyrics:\n",
    "            print(line)\n",
    "\n",
    "#Exemple d'utilisation :\n",
    "stairway = Song([\n",
    "    \"There’s a lady who's sure\",\n",
    "    \"all that glitters is gold\",\n",
    "    \"and she’s buying a stairway to heaven\"\n",
    "])\n",
    "\n",
    "stairway.sing_me_a_song()"
   ]
  },
  {
   "cell_type": "code",
   "execution_count": 16,
   "id": "1d703fe3",
   "metadata": {},
   "outputs": [
    {
     "name": "stdout",
     "output_type": "stream",
     "text": [
      "Animals in the zoo: ['Lion', 'Tiger', 'Bear']\n",
      "Sorted animals {'B': ['Bear'], 'L': ['Lion'], 'T': ['Tiger']}\n"
     ]
    }
   ],
   "source": [
    "#Exercise 4 : Afternoon at the Zoo\n",
    "\n",
    "#Code de la classe Zoo :\n",
    "class Zoo:\n",
    "    def __init__(self,zoo_name):\n",
    "        self.zoo_name = zoo_name\n",
    "        self.animals = []\n",
    "    def add_animal(self,new_animal):\n",
    "        if new_animal not in self.animals:\n",
    "            self.animals.append(new_animal)\n",
    "    def get_animals(self):\n",
    "        print(\"Animals in the zoo:\",self.animals)\n",
    "    def sell_animal(self,animal_sold):\n",
    "        if animal_sold in self.animals:\n",
    "            self.animals.remove(animal_sold)\n",
    "    def sort_animals(self):\n",
    "        self.animals.sort()\n",
    "        sorted_animals = {}\n",
    "        for animal in self.animals:\n",
    "            first_letter = animal[0]\n",
    "            if first_letter not in sorted_animals:\n",
    "                sorted_animals[first_letter] = []\n",
    "            sorted_animals[first_letter].append(animal)\n",
    "        return sorted_animals\n",
    "#Test\n",
    "my_zoo = Zoo(\"Safari Park\")\n",
    "my_zoo.add_animal(\"Lion\")\n",
    "my_zoo.add_animal(\"Tiger\")\n",
    "my_zoo.add_animal(\"Bear\")\n",
    "my_zoo.get_animals()\n",
    "sorted_animals = my_zoo.sort_animals()\n",
    "print(\"Sorted animals\", sorted_animals)\n",
    "\n"
   ]
  },
  {
   "cell_type": "code",
   "execution_count": null,
   "id": "2e5d4993",
   "metadata": {},
   "outputs": [],
   "source": []
  }
 ],
 "metadata": {
  "kernelspec": {
   "display_name": "Python 3",
   "language": "python",
   "name": "python3"
  },
  "language_info": {
   "codemirror_mode": {
    "name": "ipython",
    "version": 3
   },
   "file_extension": ".py",
   "mimetype": "text/x-python",
   "name": "python",
   "nbconvert_exporter": "python",
   "pygments_lexer": "ipython3",
   "version": "3.9.6"
  }
 },
 "nbformat": 4,
 "nbformat_minor": 5
}
