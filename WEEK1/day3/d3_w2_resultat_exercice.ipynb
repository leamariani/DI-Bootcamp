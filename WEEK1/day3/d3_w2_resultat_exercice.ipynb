{
 "cells": [
  {
   "cell_type": "markdown",
   "id": "fab55e41",
   "metadata": {},
   "source": [
    "### BootCamp : D3_W2  "
   ]
  },
  {
   "cell_type": "markdown",
   "id": "f87bd79d",
   "metadata": {},
   "source": [
    "###### Author : Clara Martinez"
   ]
  },
  {
   "cell_type": "markdown",
   "id": "e3636a47",
   "metadata": {},
   "source": [
    "Exemple 1 : Instance Methods"
   ]
  },
  {
   "cell_type": "code",
   "execution_count": 8,
   "id": "811ad8d5",
   "metadata": {},
   "outputs": [
    {
     "name": "stdout",
     "output_type": "stream",
     "text": [
      "Hello my name is Antoine and my age is 36\n"
     ]
    }
   ],
   "source": [
    "class Person():\n",
    "    def __init__(self, name, age):\n",
    "        self.name = name\n",
    "        self.age = age\n",
    "        \n",
    "    def show_details(self):\n",
    "        print(f\"Hello my name is {self.name} and my age is {self.age}\")\n",
    "\n",
    "    def rename(self,new_name):\n",
    "        self.name = new_name\n",
    "\n",
    "\n",
    "first_person = Person(\"John\", 36) # l'objet first_person\n",
    "\n",
    "first_person.rename(\"Antoine\")\n",
    "first_person.show_details()"
   ]
  },
  {
   "cell_type": "code",
   "execution_count": null,
   "id": "2a75677d",
   "metadata": {},
   "outputs": [
    {
     "name": "stdout",
     "output_type": "stream",
     "text": [
      "Hello my name is Antoine\n"
     ]
    }
   ],
   "source": [
    "class Person():\n",
    "    def __init__(self, name, age):\n",
    "        self.name = name\n",
    "        self.age = age\n",
    "        \n",
    "    def show_details(self):\n",
    "        print(\"Hello my name is \" + self.name)\n",
    "\n",
    "    def rename(self, new_name):\n",
    "        self.name = new_name\n",
    "\n",
    "\n",
    "first_person = Person(\"John\", 36)\n",
    "first_person.rename('Antoine')\n",
    "first_person.show_details()"
   ]
  },
  {
   "cell_type": "markdown",
   "id": "aad07e51",
   "metadata": {},
   "source": [
    "Exercice 1"
   ]
  },
  {
   "cell_type": "code",
   "execution_count": 16,
   "id": "eb689279",
   "metadata": {},
   "outputs": [
    {
     "name": "stdout",
     "output_type": "stream",
     "text": [
      "The oldest cat is 3 years old and his name is three.\n"
     ]
    }
   ],
   "source": [
    "class Cat:\n",
    "    def __init__(self, cat_name, cat_age):\n",
    "        self.name = cat_name\n",
    "        self.age = cat_age\n",
    "\n",
    "# Step 1: Create cat objects\n",
    "cat1 = Cat(\"one\", 1)\n",
    "cat2 = Cat(\"two\", 2)\n",
    "cat3 = Cat(\"three\", 3)\n",
    "\n",
    "# Step 2: Create a function to find the oldest cat\n",
    "def find_oldest_cat(*cats):\n",
    "    return max(cats, key=lambda cat: cat.age)\n",
    "\n",
    "# Step 3: Print the oldest cat's details\n",
    "oldest_cat = find_oldest_cat(cat1, cat2, cat3)\n",
    "print(f\"The oldest cat is {oldest_cat.age} years old and his name is {oldest_cat.name}.\")"
   ]
  },
  {
   "cell_type": "code",
   "execution_count": 13,
   "id": "1ccafb7c",
   "metadata": {},
   "outputs": [
    {
     "name": "stdout",
     "output_type": "stream",
     "text": [
      "The oldest cat is 3 years old\n"
     ]
    }
   ],
   "source": [
    "class Cat:\n",
    "    def __init__(self, cat_name, cat_age):\n",
    "        self.name = cat_name\n",
    "        self.age = cat_age\n",
    "\n",
    "# Step 1: Create cat objects\n",
    "cat1 = Cat(\"one\",1)\n",
    "cat2 = Cat(\"two\",2)\n",
    "cat3 = Cat(\"tree\",3)\n",
    "\n",
    "\n",
    "# Step 2: Create a function to find the oldest cat\n",
    "def find_oldest_cat(cat1, cat2, cat3):\n",
    "    return max(cat1,cat2,cat3)\n",
    "\n",
    "def find_oldest_cat(cat1, cat2, cat3):\n",
    "    cats = [cat1, cat2, cat3]\n",
    "    oldest = cat1\n",
    "    for cat in cats:\n",
    "        if cat.age > oldest.age:\n",
    "            oldest = cat\n",
    "    return oldest\n",
    "\n",
    "# Step 3: Print the oldest cat's details\n",
    "print(f\"The oldest cat is {find_oldest_cat(cat1,cat2,cat3).age} years old\")"
   ]
  },
  {
   "cell_type": "markdown",
   "id": "f22262dd",
   "metadata": {},
   "source": [
    "Exercice 2"
   ]
  },
  {
   "cell_type": "code",
   "execution_count": 3,
   "id": "ff395460",
   "metadata": {},
   "outputs": [
    {
     "name": "stdout",
     "output_type": "stream",
     "text": [
      "Woof!\n",
      "Rex jumped 50 cm\n",
      "Woof!\n",
      "Tom jumped 100 cm\n",
      "The winner is Tom.\n"
     ]
    }
   ],
   "source": [
    "class Dog:\n",
    "    def __init__(self, name, height):\n",
    "        self.name = name\n",
    "        self.height = height\n",
    "\n",
    "    def bark(self):\n",
    "        print(\"Woof!\")\n",
    "\n",
    "    def jump(self):\n",
    "        jump_height = self.height * 2\n",
    "        print(self.name, \"jumped\", jump_height, \"cm\")\n",
    "\n",
    "davids_dog = Dog(\"Rex\", 25)\n",
    "sarahs_dog = Dog(\"Tom\", 50)\n",
    "\n",
    "davids_dog.bark()\n",
    "davids_dog.jump()\n",
    "\n",
    "sarahs_dog.bark()\n",
    "sarahs_dog.jump()\n",
    "\n",
    "def find_winner(dog1, dog2):\n",
    "    if dog1.height > dog2.height:\n",
    "        return dog1\n",
    "    else:\n",
    "        return dog2\n",
    "\n",
    "winner = find_winner(davids_dog, sarahs_dog)\n",
    "print(f\"The winner is {winner.name}.\")"
   ]
  },
  {
   "cell_type": "code",
   "execution_count": 29,
   "id": "9ecef3df",
   "metadata": {},
   "outputs": [
    {
     "name": "stdout",
     "output_type": "stream",
     "text": [
      "<__main__.Dog object at 0x0000028D578F6990>\n",
      "Woof!\n",
      "Rex jumped 50\n",
      "<__main__.Dog object at 0x0000028D578F6850>\n",
      "Woof!\n",
      "Tom jumped 100\n",
      "Le plus grand chien est Tom (50 cm).\n"
     ]
    }
   ],
   "source": [
    "class Dog:\n",
    "    def __init__(self,name, height):\n",
    "        self.name = name\n",
    "        self.height = height\n",
    "\n",
    "    def bark(self):\n",
    "        print(\"Woof!\")\n",
    "\n",
    "    def jump(self):\n",
    "        jump_height = self.height*2\n",
    "        print(self.name,\"jumped\",jump_height)\n",
    "\n",
    "davids_dog = Dog(\"Rex\",25)\n",
    "print(davids_dog)\n",
    "davids_dog.bark()\n",
    "davids_dog.jump()\n",
    "\n",
    "sarahs_dog = Dog(\"Tom\",50)\n",
    "print(sarahs_dog)\n",
    "sarahs_dog.bark()\n",
    "sarahs_dog.jump()\n",
    "\n",
    "def find_tallest(*dogs):\n",
    "        tallest = max(dogs, key=lambda d: d.height)\n",
    "        print(f\"Le plus grand chien est {tallest.name} ({tallest.height} cm).\")\n",
    "\n",
    "\n",
    "find_tallest(davids_dog,sarahs_dog)\n",
    "\n"
   ]
  },
  {
   "cell_type": "markdown",
   "id": "0db9e439",
   "metadata": {},
   "source": [
    "Exercice 3 "
   ]
  },
  {
   "cell_type": "code",
   "execution_count": null,
   "id": "50043756",
   "metadata": {},
   "outputs": [
    {
     "name": "stdout",
     "output_type": "stream",
     "text": [
      "Happy Birthday to you\n"
     ]
    }
   ],
   "source": [
    "class Song:\n",
    "    def __init__(self,lyrics):\n",
    "        self.lyrics = lyrics\n",
    "\n",
    "    def sing_me_a_song(self):\n",
    "        for i in self.lyrics:\n",
    "            print(i)\n",
    "\n",
    "happy_bday = Song([\"Happy Birthday to you\"])\n",
    "happy_bday.sing_me_a_song()"
   ]
  },
  {
   "cell_type": "markdown",
   "id": "7ff0e283",
   "metadata": {},
   "source": [
    "Exercice 4"
   ]
  },
  {
   "cell_type": "code",
   "execution_count": 5,
   "id": "3b70a724",
   "metadata": {},
   "outputs": [
    {
     "name": "stdout",
     "output_type": "stream",
     "text": [
      "Animals in the zoo: ['Lion', 'Tiger', 'Bear']\n",
      "Sorted animals {'B': ['Bear'], 'L': ['Lion'], 'T': ['Tiger']}\n"
     ]
    }
   ],
   "source": [
    "class Zoo:\n",
    "\n",
    "    def __init__(self,zoo_name):\n",
    "        self.zoo_name = zoo_name\n",
    "        self.animals = []\n",
    "\n",
    "    def add_animal(self,new_animal):\n",
    "        if new_animal not in self.animals:\n",
    "            self.animals.append(new_animal)\n",
    "    \n",
    "    def get_animals(self):\n",
    "        print(\"Animals in the zoo:\",self.animals)\n",
    "\n",
    "    def sell_animal(self,animal_sold):\n",
    "        if animal_sold in self.animals:\n",
    "            self.animals.remove(animal_sold)\n",
    "\n",
    "    def sort_animals(self):\n",
    "        self.animals.sort()\n",
    "        sorted_animals = {}\n",
    "\n",
    "        for animal in self.animals:\n",
    "            first_letter = animal[0]\n",
    "            if first_letter not in sorted_animals:\n",
    "                sorted_animals[first_letter] = []\n",
    "\n",
    "            sorted_animals[first_letter].append(animal)\n",
    "\n",
    "        return sorted_animals\n",
    "    \n",
    "\n",
    "#Test \n",
    "my_zoo = Zoo(\"Safari Park\")\n",
    "\n",
    "my_zoo.add_animal(\"Lion\")\n",
    "my_zoo.add_animal(\"Tiger\")\n",
    "my_zoo.add_animal(\"Bear\")\n",
    "\n",
    "my_zoo.get_animals()\n",
    "\n",
    "sorted_animals = my_zoo.sort_animals()\n",
    "print(\"Sorted animals\", sorted_animals)"
   ]
  },
  {
   "cell_type": "markdown",
   "id": "d47969ad",
   "metadata": {},
   "source": [
    "Daily Challenge"
   ]
  },
  {
   "cell_type": "code",
   "execution_count": 7,
   "id": "748bd420",
   "metadata": {},
   "outputs": [
    {
     "name": "stdout",
     "output_type": "stream",
     "text": [
      "Old MacDonald's Farm\n",
      "cow        : 1\n",
      "pig        : 1\n",
      "horse      : 1\n",
      "E-I-E-I-O!\n"
     ]
    }
   ],
   "source": [
    "class Farm:\n",
    "    def __init__(self,farm_name):\n",
    "        self.name = farm_name\n",
    "        self.animals = {}\n",
    "\n",
    "    def add_animal(self, animal_type, count=1):\n",
    "        if animal_type in self.animals:\n",
    "            self.animals[animal_type] += count\n",
    "\n",
    "        else: \n",
    "            self.animals[animal_type] = count\n",
    "\n",
    "    def get_info(self):\n",
    "        info = f\"{self.name}'s Farm\\n\"\n",
    "        for animal, count in self.animals.items():\n",
    "            info += f\"{animal:10} : {count}\\n\"\n",
    "        info += \"E-I-E-I-O!\"\n",
    "        return info \n",
    "\n",
    "#Test\n",
    "\n",
    "macdonald_farm = Farm(\"Old MacDonald\")\n",
    "\n",
    "macdonald_farm.add_animal(\"cow\",1)\n",
    "macdonald_farm.add_animal(\"pig\",1)\n",
    "macdonald_farm.add_animal(\"horse\",1)\n",
    "\n",
    "print(macdonald_farm.get_info())\n",
    "\n",
    "\n",
    "    "
   ]
  }
 ],
 "metadata": {
  "kernelspec": {
   "display_name": "Python 3",
   "language": "python",
   "name": "python3"
  },
  "language_info": {
   "codemirror_mode": {
    "name": "ipython",
    "version": 3
   },
   "file_extension": ".py",
   "mimetype": "text/x-python",
   "name": "python",
   "nbconvert_exporter": "python",
   "pygments_lexer": "ipython3",
   "version": "3.11.9"
  }
 },
 "nbformat": 4,
 "nbformat_minor": 5
}
