{
 "cells": [
  {
   "cell_type": "code",
   "execution_count": 2,
   "id": "d6cd3f6c",
   "metadata": {},
   "outputs": [
    {
     "name": "stdout",
     "output_type": "stream",
     "text": [
      "Hello World\n"
     ]
    }
   ],
   "source": [
    "#Exercise 1 : Hello World\n",
    "#Print the following output in one line of code:\n",
    "\n",
    "print(\"Hello World\")"
   ]
  },
  {
   "cell_type": "code",
   "execution_count": null,
   "id": "096cd8ec",
   "metadata": {},
   "outputs": [
    {
     "name": "stdout",
     "output_type": "stream",
     "text": [
      "768\n"
     ]
    }
   ],
   "source": [
    "#Exercise 2 : Some Math\n",
    "#Write code that calculates the result of: (99^3)*8 (meaning 99 to the power of 3, times 8).\n",
    "\n",
    "print((99^3)*8)"
   ]
  },
  {
   "cell_type": "code",
   "execution_count": 3,
   "id": "664efd10",
   "metadata": {},
   "outputs": [
    {
     "name": "stdout",
     "output_type": "stream",
     "text": [
      "Nice to meet you, LOLA! But clearly, Alex is the cooler name 😎\n"
     ]
    }
   ],
   "source": [
    "#Exercise 3 : What’s your name ?\n",
    "#Write code that asks the user for their name and determines whether or not you have the same name, print out a funny message based on the outcome.\n",
    "\n",
    "# Ton propre nom (à personnaliser si tu veux)\n",
    "my_name = \"Alex\"\n",
    "\n",
    "# Demande à l'utilisateur son nom\n",
    "user_name = input(\"What's your name? \")\n",
    "\n",
    "# Comparaison (insensible à la casse)\n",
    "if user_name.strip().lower() == my_name.lower():\n",
    "    print(f\"No way! We have the same name — {my_name}! Are you my clone? 🤯\")\n",
    "else:\n",
    "    print(f\"Nice to meet you, {user_name}! But clearly, {my_name} is the cooler name 😎\")\n",
    "\n",
    "\n",
    "\n",
    "\n",
    "\n",
    "\n",
    "\n"
   ]
  },
  {
   "cell_type": "code",
   "execution_count": 1,
   "id": "0041668b",
   "metadata": {},
   "outputs": [
    {
     "name": "stdout",
     "output_type": "stream",
     "text": [
      "Sorry, you need to grow some more to ride.\n"
     ]
    }
   ],
   "source": [
    "#exercie 4\n",
    "\n",
    "# Demander la taille de l'utilisateur\n",
    "height = input(\"Enter your height in cm: \")\n",
    "\n",
    "# Vérifier que la saisie est un nombre\n",
    "if height.isdigit():\n",
    "    height = int(height)\n",
    "    if height >= 145:\n",
    "        print(\"You're tall enough to ride!\")\n",
    "    else:\n",
    "        print(\"Sorry, you need to grow some more to ride.\")\n",
    "else:\n",
    "    print(\"Please enter a valid number.\")\n"
   ]
  },
  {
   "cell_type": "code",
   "execution_count": 4,
   "id": "b04c64d1",
   "metadata": {},
   "outputs": [
    {
     "name": "stdout",
     "output_type": "stream",
     "text": [
      "My favorite numbers: {21, 14, 7}\n",
      "After adding 2 numbers: {35, 7, 14, 21, 28}\n",
      "After removing the last added number: {7, 14, 21, 28}\n",
      "Friend's favorite numbers: {42, 3, 14}\n",
      "Our favorite numbers: {3, 21, 7, 42, 28, 14}\n"
     ]
    }
   ],
   "source": [
    "# Exercie 5\n",
    "\n",
    "# Créer un ensemble avec tes nombres préférés\n",
    "my_fav_numbers = {7, 14, 21}\n",
    "print(\"My favorite numbers:\", my_fav_numbers)\n",
    "\n",
    "# Ajouter deux nouveaux nombres\n",
    "my_fav_numbers.add(28)\n",
    "my_fav_numbers.add(35)\n",
    "print(\"After adding 2 numbers:\", my_fav_numbers)\n",
    "\n",
    "# Supprimer le dernier nombre ajouté (ici on choisit manuellement le dernier qu'on a ajouté)\n",
    "my_fav_numbers.remove(35)\n",
    "print(\"After removing the last added number:\", my_fav_numbers)\n",
    "\n",
    "# Créer un ensemble avec les nombres préférés de ton ami(e)\n",
    "friend_fav_numbers = {3, 14, 42}\n",
    "print(\"Friend's favorite numbers:\", friend_fav_numbers)\n",
    "\n",
    "# Fusionner les deux ensembles sans doublons\n",
    "our_fav_numbers = my_fav_numbers.union(friend_fav_numbers)\n",
    "print(\"Our favorite numbers:\", our_fav_numbers)"
   ]
  },
  {
   "cell_type": "code",
   "execution_count": 5,
   "id": "c2e8af60",
   "metadata": {},
   "outputs": [
    {
     "name": "stdout",
     "output_type": "stream",
     "text": [
      "Original tuple: (1, 2, 3)\n",
      "Error: 'tuple' object has no attribute 'append'\n",
      "Error: 'tuple' object does not support item assignment\n",
      "New tuple with added values: (1, 2, 3, 4, 5)\n"
     ]
    }
   ],
   "source": [
    "# Exercie 6\n",
    "\n",
    "# Un tuple d'entiers\n",
    "my_tuple = (1, 2, 3)\n",
    "print(\"Original tuple:\", my_tuple)\n",
    "\n",
    "# Tentative d'ajout direct — cela NE fonctionne PAS\n",
    "try:\n",
    "    my_tuple.append(4)  # Cette méthode n'existe pas pour les tuples\n",
    "except AttributeError as e:\n",
    "    print(\"Error:\", e)\n",
    "\n",
    "# Tentative de modification — cela NE fonctionne PAS\n",
    "try:\n",
    "    my_tuple[0] = 10  # Impossible de modifier une valeur dans un tuple\n",
    "except TypeError as e:\n",
    "    print(\"Error:\", e)\n",
    "\n",
    "# ➕ Si tu veux \"ajouter\", il faut créer un NOUVEAU tuple\n",
    "new_tuple = my_tuple + (4, 5)\n",
    "print(\"New tuple with added values:\", new_tuple)"
   ]
  },
  {
   "cell_type": "code",
   "execution_count": 6,
   "id": "c7164e66",
   "metadata": {},
   "outputs": [
    {
     "name": "stdout",
     "output_type": "stream",
     "text": [
      "'Apples' appears 2 times.\n",
      "Final basket: []\n"
     ]
    }
   ],
   "source": [
    "# Exercice 7\n",
    "\n",
    "# Liste initiale\n",
    "basket = [\"Banana\", \"Apples\", \"Oranges\", \"Blueberries\"]\n",
    "\n",
    "# Supprimer \"Banana\"\n",
    "basket.remove(\"Banana\")\n",
    "\n",
    "# Supprimer \"Blueberries\"\n",
    "basket.remove(\"Blueberries\")\n",
    "\n",
    "# Ajouter \"Kiwi\" à la fin\n",
    "basket.append(\"Kiwi\")\n",
    "\n",
    "# Ajouter \"Apples\" au début\n",
    "basket.insert(0, \"Apples\")\n",
    "\n",
    "# Compter combien de fois \"Apples\" apparaît\n",
    "apple_count = basket.count(\"Apples\")\n",
    "print(f\"'Apples' appears {apple_count} times.\")\n",
    "\n",
    "# Vider complètement la liste\n",
    "basket.clear()\n",
    "\n",
    "# Afficher l'état final de la liste\n",
    "print(\"Final basket:\", basket)"
   ]
  },
  {
   "cell_type": "code",
   "execution_count": 7,
   "id": "d82634f2",
   "metadata": {},
   "outputs": [
    {
     "name": "stdout",
     "output_type": "stream",
     "text": [
      "The deli has run out of pastrami.\n",
      "\n",
      "I made your tuna sandwich\n",
      "I made your avocado sandwich\n",
      "I made your egg sandwich\n",
      "I made your chicken sandwich\n"
     ]
    }
   ],
   "source": [
    "# Exercice 8\n",
    "\n",
    "# Liste initiale de commandes\n",
    "sandwich_orders = [\n",
    "    \"Tuna sandwich\", \"Pastrami sandwich\", \"Avocado sandwich\",\n",
    "    \"Pastrami sandwich\", \"Egg sandwich\", \"Chicken sandwich\",\n",
    "    \"Pastrami sandwich\"\n",
    "]\n",
    "\n",
    "# Annonce : plus de pastrami\n",
    "print(\"The deli has run out of pastrami.\\n\")\n",
    "\n",
    "# Supprimer tous les \"Pastrami sandwich\" avec une boucle while\n",
    "while \"Pastrami sandwich\" in sandwich_orders:\n",
    "    sandwich_orders.remove(\"Pastrami sandwich\")\n",
    "\n",
    "# Liste pour les sandwiches terminés\n",
    "finished_sandwiches = []\n",
    "\n",
    "# Préparer chaque sandwich restant\n",
    "while sandwich_orders:\n",
    "    sandwich = sandwich_orders.pop(0)  # retirer le premier sandwich\n",
    "    print(f\"I made your {sandwich.lower()}\")\n",
    "    finished_sandwiches.append(sandwich)"
   ]
  },
  {
   "cell_type": "code",
   "execution_count": null,
   "id": "a12eb1b1",
   "metadata": {},
   "outputs": [],
   "source": []
  }
 ],
 "metadata": {
  "kernelspec": {
   "display_name": "Python 3",
   "language": "python",
   "name": "python3"
  },
  "language_info": {
   "codemirror_mode": {
    "name": "ipython",
    "version": 3
   },
   "file_extension": ".py",
   "mimetype": "text/x-python",
   "name": "python",
   "nbconvert_exporter": "python",
   "pygments_lexer": "ipython3",
   "version": "3.9.6"
  }
 },
 "nbformat": 4,
 "nbformat_minor": 5
}
