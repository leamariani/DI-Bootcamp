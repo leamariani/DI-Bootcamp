{
 "cells": [
  {
   "cell_type": "code",
   "execution_count": 19,
   "id": "26230133",
   "metadata": {},
   "outputs": [
    {
     "name": "stdout",
     "output_type": "stream",
     "text": [
      "[4, 8, 12, 16, 20]\n"
     ]
    }
   ],
   "source": [
    "#Challenge 1\n",
    "#Ask the user for a number and a length.\n",
    "#Create a program that prints a list of multiples of the number until the list length reaches length.\n",
    "\n",
    "number = int(input(\"give me a number\"))\n",
    "length = int(input (\"give me a length\"))\n",
    "#print(number)\n",
    "#print(length)\n",
    "\n",
    "\n",
    "multiples = [number * i for i in range (1, length + 1)]\n",
    "print(multiples)\n"
   ]
  },
  {
   "cell_type": "code",
   "execution_count": 23,
   "id": "961ced19",
   "metadata": {},
   "outputs": [
    {
     "name": "stdout",
     "output_type": "stream",
     "text": [
      "word\n"
     ]
    }
   ],
   "source": [
    "#Challenge 2\n",
    "#Write a program that asks a string to the user,\n",
    "#and display a new string with any duplicate consecutive letters removed.\n",
    "\n",
    "user_input = input(\"Enter a word\")\n",
    "\n",
    "result = user_input[0]\n",
    "\n",
    "for i in range(1, len(user_input)):\n",
    "    if user_input[i] != user_input[i-1]:\n",
    "        result += user_input[i]\n",
    "\n",
    "print(result)\n",
    "\n",
    "\n"
   ]
  }
 ],
 "metadata": {
  "kernelspec": {
   "display_name": "Python 3",
   "language": "python",
   "name": "python3"
  },
  "language_info": {
   "codemirror_mode": {
    "name": "ipython",
    "version": 3
   },
   "file_extension": ".py",
   "mimetype": "text/x-python",
   "name": "python",
   "nbconvert_exporter": "python",
   "pygments_lexer": "ipython3",
   "version": "3.9.6"
  }
 },
 "nbformat": 4,
 "nbformat_minor": 5
}
