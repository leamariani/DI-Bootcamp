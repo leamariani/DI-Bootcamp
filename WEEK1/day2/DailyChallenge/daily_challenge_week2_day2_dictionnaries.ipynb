{
 "cells": [
  {
   "cell_type": "code",
   "execution_count": 4,
   "id": "9d2f062d",
   "metadata": {},
   "outputs": [
    {
     "name": "stdout",
     "output_type": "stream",
     "text": [
      "{'w': [0], 'o': [1], 'r': [2], 'd': [3]}\n"
     ]
    }
   ],
   "source": [
    "# Demander un mot à l'utilisateur\n",
    "word = input(\"Enter a word: \")\n",
    "\n",
    "# Créer un dictionnaire vide\n",
    "letter_indexes = {}\n",
    "\n",
    "# Parcourir chaque lettre et son index\n",
    "for index, letter in enumerate(word):\n",
    "    if letter in letter_indexes:\n",
    "        letter_indexes[letter].append(index)\n",
    "    else:\n",
    "        letter_indexes[letter] = [index]\n",
    "\n",
    "# Afficher le résultat\n",
    "print(letter_indexes)"
   ]
  },
  {
   "cell_type": "code",
   "execution_count": null,
   "id": "f5a455db",
   "metadata": {},
   "outputs": [],
   "source": []
  }
 ],
 "metadata": {
  "kernelspec": {
   "display_name": "Python 3",
   "language": "python",
   "name": "python3"
  },
  "language_info": {
   "codemirror_mode": {
    "name": "ipython",
    "version": 3
   },
   "file_extension": ".py",
   "mimetype": "text/x-python",
   "name": "python",
   "nbconvert_exporter": "python",
   "pygments_lexer": "ipython3",
   "version": "3.9.6"
  }
 },
 "nbformat": 4,
 "nbformat_minor": 5
}
