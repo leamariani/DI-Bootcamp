{
 "cells": [
  {
   "cell_type": "code",
   "execution_count": 2,
   "id": "d3a68d4d",
   "metadata": {},
   "outputs": [
    {
     "name": "stdout",
     "output_type": "stream",
     "text": [
      "['Hello, Rick!', 'Hello, Beth!']\n"
     ]
    }
   ],
   "source": [
    "#people = [\"Rick\", \"Morty\", \"Beth\", \"Jerry\", \"Snowball\"]\n",
    "#Using map and filter, try to say hello to everyone who's name is less than or equal to 4 letters\n",
    "\n",
    "people = [\"Rick\", \"Morty\", \"Beth\", \"Jerry\", \"Snowball\"]\n",
    "\n",
    "short_names = filter(lambda name: len(name) <= 4, people)\n",
    "greetings = map(lambda name: f\"Hello, {name}!\", short_names)\n",
    "\n",
    "# To see the result, convert it to a list\n",
    "print(list(greetings))"
   ]
  },
  {
   "cell_type": "code",
   "execution_count": 6,
   "id": "eda6b82e",
   "metadata": {},
   "outputs": [
    {
     "name": "stdout",
     "output_type": "stream",
     "text": [
      "['Hello Rick!', 'Hello Beth!']\n"
     ]
    }
   ],
   "source": [
    "def is_short_name(name):\n",
    "    return len(name) <= 4\n",
    "\n",
    "def greet(name):\n",
    "    return f\"Hello {name}!\"\n",
    "\n",
    "people = [\"Rick\", \"Morty\", \"Beth\", \"Jerry\", \"Snowball\"]\n",
    "\n",
    "# Use filter and map with function definitions\n",
    "\n",
    "short_names = filter(is_short_name, people)\n",
    "greetings = map(greet, short_names)\n",
    "\n",
    "# Print the greetings\n",
    "print(list(greetings))"
   ]
  },
  {
   "cell_type": "code",
   "execution_count": null,
   "id": "64c49a47",
   "metadata": {},
   "outputs": [],
   "source": []
  }
 ],
 "metadata": {
  "kernelspec": {
   "display_name": "Python 3",
   "language": "python",
   "name": "python3"
  },
  "language_info": {
   "codemirror_mode": {
    "name": "ipython",
    "version": 3
   },
   "file_extension": ".py",
   "mimetype": "text/x-python",
   "name": "python",
   "nbconvert_exporter": "python",
   "pygments_lexer": "ipython3",
   "version": "3.9.6"
  }
 },
 "nbformat": 4,
 "nbformat_minor": 5
}
