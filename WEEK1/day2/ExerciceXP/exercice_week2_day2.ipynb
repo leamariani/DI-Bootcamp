{
 "cells": [
  {
   "cell_type": "code",
   "execution_count": 4,
   "id": "554d74c2",
   "metadata": {},
   "outputs": [
    {
     "name": "stdout",
     "output_type": "stream",
     "text": [
      "{'Ten': 10, 'Twenty': 20, 'Thirty': 30}\n"
     ]
    }
   ],
   "source": [
    "#1 Exercise 1: Converting Lists into Dictionaries\n",
    "#Key Python Topics:\n",
    "\n",
    "#Creating dictionaries\n",
    "#Zip function or dictionary comprehension\n",
    "\n",
    "#Instructions\n",
    "#You are given two lists. Convert them into a dictionary where the first list contains the keys and the second list contains the corresponding values.\n",
    "\n",
    "\n",
    "keys = ['Ten', 'Twenty', 'Thirty']\n",
    "values = [10, 20, 30]\n",
    "\n",
    "number = dict(zip(keys,values))\n",
    "print(number)\n"
   ]
  },
  {
   "cell_type": "code",
   "execution_count": 14,
   "id": "a495ab21",
   "metadata": {},
   "outputs": [
    {
     "name": "stdout",
     "output_type": "stream",
     "text": [
      "rick pays €15\n",
      "beth pays €15\n",
      "morty pays €10\n",
      "summer pays €10\n",
      "Total cost: €50\n"
     ]
    }
   ],
   "source": [
    "#2 Exercise 2: Cinemax\n",
    "\n",
    "family = {\"rick\": 43, \"beth\": 13, \"morty\": 5, \"summer\": 8}\n",
    "\n",
    "total_cost = 0\n",
    "\n",
    "for member, age in family.items():\n",
    "    if age < 3:\n",
    "        price = 0\n",
    "    elif age <= 12:\n",
    "        price = 10\n",
    "    else:\n",
    "        price = 15\n",
    "    total_cost += price\n",
    "    print(f'{member} pays €{price}')\n",
    "\n",
    "print(f'Total cost: €{total_cost}')"
   ]
  },
  {
   "cell_type": "code",
   "execution_count": 25,
   "id": "5449cd06",
   "metadata": {},
   "outputs": [
    {
     "name": "stdout",
     "output_type": "stream",
     "text": [
      "Zara's clients include: men, women, children, home.\n",
      "Last international competitor: Desigual\n",
      "Major colors in the US: pink, green\n",
      "Number of keys in brand: 7\n",
      "Keys in brand: ['name', 'creator_name', 'type_of_clothes', 'international_competitors', 'number_stores', 'major_color', 'country_creation']\n",
      "Number of stores after updates': 8000\n"
     ]
    }
   ],
   "source": [
    "#3 Exercise 3: Zara\n",
    "\n",
    "brand = {\n",
    "    'name':\"Zara\",\n",
    "    'creation_date': 1975,\n",
    "    'creator_name': \"Amancio Ortega Gaona\",\n",
    "    'type_of_clothes': [\"men\", \"women\", \"children\", \"home\"],\n",
    "    'international_competitors': [\"Gap\", \"H&M\", \"Benetton\"],\n",
    "    'number_stores': 7000,\n",
    "    'major_color': { \n",
    "        'France': \"blue\",\n",
    "        'Spain': \"red\",\n",
    "        'US': [\"pink, green\"]\n",
    "        }\n",
    "}\n",
    "\n",
    "# 1. Change the value of number_stores to 2\n",
    "brand['number_stores'] = 2\n",
    "\n",
    "# 2. Print a sentence describing Zara’s clients using the type_of_clothes key\n",
    "print(f\"Zara's clients include: {', '.join(brand['type_of_clothes'])}.\")\n",
    "\n",
    "# 3. Add a new key country_creation with the value Spain\n",
    "brand['country_creation'] = \"Spain\"\n",
    "\n",
    "# 4. Check if international_competitors exists and add \"Desigual\"\n",
    "if 'international_competitors' in brand:\n",
    "    brand['international_competitors'].append(\"Desigual\")\n",
    "\n",
    "# 5. Delete the creation_date key\n",
    "if 'creation_date' in brand:\n",
    "    del brand['creation_date']\n",
    "\n",
    "# 6. Print the last item in international_competitors\n",
    "print(f\"Last international competitor:\", brand['international_competitors'][-1])\n",
    "\n",
    "# 7. Print the major colors in the US\n",
    "print(f\"Major colors in the US: {', '.join(brand['major_color']['US'])}\")\n",
    "                                                                 \n",
    "# 8. Print the number of keys in the dictionary\n",
    "print(f\"Number of keys in brand:\", len(brand))\n",
    "\n",
    "# 9. Print all keys of the dictionary\n",
    "print(f\"Keys in brand:\", list(brand.keys()))\n",
    "\n",
    "#Create another dictionary called more_on_zara with creation_date and number_stores. Merge this dictionary with the original brand dictionary and print the result.\n",
    "more_on_zara = {\"creation_date\": 1975, \"number_stores\": 8000}\n",
    "brand.update(more_on_zara)\n",
    "print(f\"Number of stores after updates': {brand['number_stores']}\")\n",
    "\n"
   ]
  },
  {
   "cell_type": "code",
   "execution_count": 41,
   "id": "a21a5816",
   "metadata": {},
   "outputs": [
    {
     "name": "stdout",
     "output_type": "stream",
     "text": [
      "Reykjavik is in Iceland.\n",
      "Tokyo is in Japan.\n",
      "Milan is in unknown.\n"
     ]
    }
   ],
   "source": [
    "#4 Exercise 4 : Some Geography\n",
    "\n",
    "def describe_city(city, country=\"unknown\"):\n",
    "    print(f\"{city} is in {country}.\")\n",
    "\n",
    "describe_city(\"Reykjavik\", \"Iceland\")\n",
    "describe_city(\"Tokyo\", \"Japan\")\n",
    "describe_city(\"Milan\")\n"
   ]
  },
  {
   "cell_type": "code",
   "execution_count": 68,
   "id": "484c5743",
   "metadata": {},
   "outputs": [
    {
     "name": "stdout",
     "output_type": "stream",
     "text": [
      "Fail! Your number: 30, Random number: 55\n"
     ]
    }
   ],
   "source": [
    "#5 Exercise 5 : Random\n",
    "\n",
    "# Step 1: Import the random Module\n",
    "import random\n",
    "\n",
    "# Step 2: Define a Function with a Parameter\n",
    "def randomize(user_number):\n",
    "    # Step 3: Generate a Random Number\n",
    "    random_number = random.randint(1, 100)\n",
    "\n",
    "    # Step 4: Compare the Numbers\n",
    "    if user_number == random_number:\n",
    "        print(\"Success!\")\n",
    "    else:\n",
    "        print(f\"Fail! Your number: {user_number}, Random number: {random_number}\")\n",
    "\n",
    "# Step 5: Call the Function\n",
    "randomize(30)  # You can replace 30 with any number between 1 and 100\n",
    "\n"
   ]
  },
  {
   "cell_type": "code",
   "execution_count": null,
   "id": "229b82f3",
   "metadata": {},
   "outputs": [
    {
     "name": "stdout",
     "output_type": "stream",
     "text": [
      "The size of the shirt is medium and the text is \"Code more, sleep less!\".\n",
      "The size of the shirt is large and the text is \"I love Python\".\n",
      "The size of the shirt is medium and the text is \"I love Python\".\n",
      "The size of the shirt is small and the text is \"Custom message\".\n",
      "The size of the shirt is small and the text is \"Hello!\".\n"
     ]
    }
   ],
   "source": [
    "#6 Exercise 6 : Let’s create some personalized shirts !\n",
    "\n",
    "def make_shirt(size, text):\n",
    "    print(f\"The size of the shirt is {size} and the text is \\\"{text}\\\".\")\n",
    "\n",
    "make_shirt(\"medium\", \"Code more, sleep less!\")\n",
    "\n",
    "def make_shirt(size=\"large\", text=\"I love Python\"):\n",
    "    print(f\"The size of the shirt is {size} and the text is \\\"{text}\\\".\")\n",
    "\n",
    "make_shirt()  # large, \"I love Python\"\n",
    "make_shirt(\"medium\")  # medium, \"I love Python\"\n",
    "make_shirt(\"small\", \"Custom message\")  # small, custom text\n",
    "make_shirt(size=\"small\", text=\"Hello!\")"
   ]
  },
  {
   "cell_type": "code",
   "execution_count": 79,
   "id": "4965fa77",
   "metadata": {},
   "outputs": [
    {
     "name": "stdout",
     "output_type": "stream",
     "text": [
      "The temperature right now is 23.6 degrees Celsius.\n",
      "Nice weather.\n"
     ]
    }
   ],
   "source": [
    "#7 Exercise 7 : Temperature Advice\n",
    "\n",
    "import random\n",
    "\n",
    "# Step 1 & 4: Get a random temperature, using random.uniform for floating-point accuracy\n",
    "def get_random_temp(season=None):\n",
    "    if season == \"winter\":\n",
    "        return round(random.uniform(-10, 10), 1)\n",
    "    elif season == \"spring\":\n",
    "        return round(random.uniform(10, 20), 1)\n",
    "    elif season == \"summer\":\n",
    "        return round(random.uniform(20, 40), 1)\n",
    "    elif season == \"autumn\":\n",
    "        return round(random.uniform(5, 25), 1)\n",
    "    else:\n",
    "        return round(random.uniform(-10, 40), 1)\n",
    "\n",
    "# Step 5: Determine season from month\n",
    "def get_season(month):\n",
    "    if month in [12, 1, 2]:\n",
    "        return \"winter\"\n",
    "    elif month in [3, 4, 5]:\n",
    "        return \"spring\"\n",
    "    elif month in [6, 7, 8]:\n",
    "        return \"summer\"\n",
    "    elif month in [9, 10, 11]:\n",
    "        return \"autumn\"\n",
    "    else:\n",
    "        return None\n",
    "\n",
    "# Step 2 & 3: Main function with temperature message and advice\n",
    "def main():\n",
    "    try:\n",
    "        month = int(input(\"Enter the month number (1-12): \"))\n",
    "        season = get_season(month)\n",
    "        if season is None:\n",
    "            print(\"Invalid month entered.\")\n",
    "            return\n",
    "\n",
    "        temp = get_random_temp(season)\n",
    "        print(f\"The temperature right now is {temp} degrees Celsius.\")\n",
    "\n",
    "        if temp < 0:\n",
    "            print(\"Brrr, that’s freezing! Wear some extra layers today.\")\n",
    "        elif 0 <= temp < 16:\n",
    "            print(\"Quite chilly! Don’t forget your coat.\")\n",
    "        elif 16 <= temp < 24:\n",
    "            print(\"Nice weather.\")\n",
    "        elif 24 <= temp < 33:\n",
    "            print(\"A bit warm, stay hydrated.\")\n",
    "        elif 33 <= temp <= 40:\n",
    "            print(\"It’s really hot! Stay cool.\")\n",
    "        else:\n",
    "            print(\"Unusual temperature reading.\")\n",
    "    except ValueError:\n",
    "        print(\"Please enter a valid number for the month.\")\n",
    "\n",
    "# Step 5: Call the main function\n",
    "main()\n",
    "\n",
    "\n"
   ]
  },
  {
   "cell_type": "code",
   "execution_count": 90,
   "id": "3788ef04",
   "metadata": {},
   "outputs": [
    {
     "name": "stdout",
     "output_type": "stream",
     "text": [
      "Enter pizza toppings one by one. Type 'quit' to finish.\n",
      "Adding tomato to your pizza.\n",
      "Adding mozza to your pizza.\n",
      "Adding pepper to your pizza.\n",
      "Adding olives to your pizza.\n",
      "Adding olive to your pizza.\n",
      "\n",
      "--- Pizza Order Summary ---\n",
      "Toppings:\n",
      "- tomato\n",
      "- mozza\n",
      "- pepper\n",
      "- olives\n",
      "- olive\n",
      "Total cost: $22.50\n"
     ]
    }
   ],
   "source": [
    "#8 Exercise 8: Pizza Toppings\n",
    "\n",
    "# Base settings\n",
    "base_price = 10.0\n",
    "topping_price = 2.5\n",
    "toppings = []\n",
    "\n",
    "# Prompt user in a loop\n",
    "print(\"Enter pizza toppings one by one. Type 'quit' to finish.\")\n",
    "\n",
    "while True:\n",
    "    topping = input(\"Enter a topping: \")\n",
    "    if topping.lower() == 'quit':\n",
    "        break\n",
    "    print(f\"Adding {topping} to your pizza.\")\n",
    "    toppings.append(topping)\n",
    "\n",
    "# Calculate total cost\n",
    "total_cost = base_price + topping_price * len(toppings)\n",
    "\n",
    "# Final summary\n",
    "print(\"\\n--- Pizza Order Summary ---\")\n",
    "if toppings:\n",
    "    print(\"Toppings:\")\n",
    "    for t in toppings:\n",
    "        print(f\"- {t}\")\n",
    "else:\n",
    "    print(\"No toppings added.\")\n",
    "print(f\"Total cost: ${total_cost:.2f}\")"
   ]
  }
 ],
 "metadata": {
  "kernelspec": {
   "display_name": "Python 3",
   "language": "python",
   "name": "python3"
  },
  "language_info": {
   "codemirror_mode": {
    "name": "ipython",
    "version": 3
   },
   "file_extension": ".py",
   "mimetype": "text/x-python",
   "name": "python",
   "nbconvert_exporter": "python",
   "pygments_lexer": "ipython3",
   "version": "3.9.6"
  }
 },
 "nbformat": 4,
 "nbformat_minor": 5
}
