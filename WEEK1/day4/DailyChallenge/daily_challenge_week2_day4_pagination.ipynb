{
 "cells": [
  {
   "cell_type": "code",
   "execution_count": null,
   "id": "a1211fd1",
   "metadata": {},
   "outputs": [],
   "source": []
  },
  {
   "cell_type": "code",
   "execution_count": 2,
   "id": "97347ce2",
   "metadata": {},
   "outputs": [
    {
     "name": "stdout",
     "output_type": "stream",
     "text": [
      "['a', 'b', 'c', 'd']\n",
      "['e', 'f', 'g', 'h']\n",
      "['y', 'z']\n"
     ]
    },
    {
     "ename": "ValueError",
     "evalue": "Page number out of range.",
     "output_type": "error",
     "traceback": [
      "\u001b[0;31m---------------------------------------------------------------------------\u001b[0m",
      "\u001b[0;31mValueError\u001b[0m                                Traceback (most recent call last)",
      "Cell \u001b[0;32mIn[2], line 59\u001b[0m\n\u001b[1;32m     56\u001b[0m \u001b[38;5;28mprint\u001b[39m(p\u001b[38;5;241m.\u001b[39mget_visible_items())\n\u001b[1;32m     57\u001b[0m \u001b[38;5;66;03m# ['y', 'z']\u001b[39;00m\n\u001b[0;32m---> 59\u001b[0m \u001b[43mp\u001b[49m\u001b[38;5;241;43m.\u001b[39;49m\u001b[43mgo_to_page\u001b[49m\u001b[43m(\u001b[49m\u001b[38;5;241;43m10\u001b[39;49m\u001b[43m)\u001b[49m\n\u001b[1;32m     60\u001b[0m \u001b[38;5;28mprint\u001b[39m(p\u001b[38;5;241m.\u001b[39mcurrent_idx \u001b[38;5;241m+\u001b[39m \u001b[38;5;241m1\u001b[39m)\n\u001b[1;32m     61\u001b[0m \u001b[38;5;66;03m# Output: 7 (because there are only 7 pages, so it jumps to last)\u001b[39;00m\n",
      "Cell \u001b[0;32mIn[2], line 20\u001b[0m, in \u001b[0;36mPagination.go_to_page\u001b[0;34m(self, page_num)\u001b[0m\n\u001b[1;32m     18\u001b[0m \u001b[38;5;28;01mdef\u001b[39;00m\u001b[38;5;250m \u001b[39m\u001b[38;5;21mgo_to_page\u001b[39m(\u001b[38;5;28mself\u001b[39m, page_num):\n\u001b[1;32m     19\u001b[0m     \u001b[38;5;28;01mif\u001b[39;00m \u001b[38;5;129;01mnot\u001b[39;00m (\u001b[38;5;241m1\u001b[39m \u001b[38;5;241m<\u001b[39m\u001b[38;5;241m=\u001b[39m page_num \u001b[38;5;241m<\u001b[39m\u001b[38;5;241m=\u001b[39m \u001b[38;5;28mself\u001b[39m\u001b[38;5;241m.\u001b[39mtotal_pages):\n\u001b[0;32m---> 20\u001b[0m         \u001b[38;5;28;01mraise\u001b[39;00m \u001b[38;5;167;01mValueError\u001b[39;00m(\u001b[38;5;124m\"\u001b[39m\u001b[38;5;124mPage number out of range.\u001b[39m\u001b[38;5;124m\"\u001b[39m)\n\u001b[1;32m     21\u001b[0m     \u001b[38;5;28mself\u001b[39m\u001b[38;5;241m.\u001b[39mcurrent_idx \u001b[38;5;241m=\u001b[39m page_num \u001b[38;5;241m-\u001b[39m \u001b[38;5;241m1\u001b[39m\n",
      "\u001b[0;31mValueError\u001b[0m: Page number out of range."
     ]
    }
   ],
   "source": [
    "#Daily Challenge : Pagination\n",
    "\n",
    "#Step-by-Step Pagination System\n",
    "import math\n",
    "\n",
    "class Pagination:\n",
    "    def __init__(self, items=None, page_size=10):\n",
    "        self.items = items if items is not None else []\n",
    "        self.page_size = page_size\n",
    "        self.current_idx = 0\n",
    "        self.total_pages = math.ceil(len(self.items) / self.page_size)\n",
    "\n",
    "    def get_visible_items(self):\n",
    "        start = self.current_idx * self.page_size\n",
    "        end = start + self.page_size\n",
    "        return self.items[start:end]\n",
    "\n",
    "    def go_to_page(self, page_num):\n",
    "        if not (1 <= page_num <= self.total_pages):\n",
    "            raise ValueError(\"Page number out of range.\")\n",
    "        self.current_idx = page_num - 1\n",
    "\n",
    "    def first_page(self):\n",
    "        self.current_idx = 0\n",
    "        return self\n",
    "\n",
    "    def last_page(self):\n",
    "        self.current_idx = self.total_pages - 1\n",
    "        return self\n",
    "\n",
    "    def next_page(self):\n",
    "        if self.current_idx < self.total_pages - 1:\n",
    "            self.current_idx += 1\n",
    "        return self\n",
    "\n",
    "    def previous_page(self):\n",
    "        if self.current_idx > 0:\n",
    "            self.current_idx -= 1\n",
    "        return self\n",
    "\n",
    "    def __str__(self):\n",
    "        return \"\\n\".join(self.get_visible_items())\n",
    "    \n",
    "#Step 6: Test Your Code\n",
    "alphabetList = list(\"abcdefghijklmnopqrstuvwxyz\")\n",
    "p = Pagination(alphabetList, 4)\n",
    "\n",
    "print(p.get_visible_items())\n",
    "# ['a', 'b', 'c', 'd']\n",
    "\n",
    "p.next_page()\n",
    "print(p.get_visible_items())\n",
    "# ['e', 'f', 'g', 'h']\n",
    "\n",
    "p.last_page()\n",
    "print(p.get_visible_items())\n",
    "# ['y', 'z']\n",
    "\n",
    "p.go_to_page(10)\n",
    "print(p.current_idx + 1)\n",
    "# Output: 7 (because there are only 7 pages, so it jumps to last)\n",
    "\n",
    "try:\n",
    "    p.go_to_page(0)\n",
    "except ValueError as e:\n",
    "    print(e)\n",
    "# Raises ValueError: Page number out of range."
   ]
  },
  {
   "cell_type": "code",
   "execution_count": null,
   "id": "a106d801",
   "metadata": {},
   "outputs": [],
   "source": []
  }
 ],
 "metadata": {
  "kernelspec": {
   "display_name": "Python 3",
   "language": "python",
   "name": "python3"
  },
  "language_info": {
   "codemirror_mode": {
    "name": "ipython",
    "version": 3
   },
   "file_extension": ".py",
   "mimetype": "text/x-python",
   "name": "python",
   "nbconvert_exporter": "python",
   "pygments_lexer": "ipython3",
   "version": "3.9.6"
  }
 },
 "nbformat": 4,
 "nbformat_minor": 5
}
