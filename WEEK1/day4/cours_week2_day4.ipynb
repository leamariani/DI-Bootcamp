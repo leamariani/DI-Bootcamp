{
 "cells": [
  {
   "cell_type": "code",
   "execution_count": 1,
   "id": "28f214ce",
   "metadata": {},
   "outputs": [
    {
     "name": "stdout",
     "output_type": "stream",
     "text": [
      "blue\n"
     ]
    }
   ],
   "source": [
    "class Circle:\n",
    "    color = \"red\"\n",
    "\n",
    "class NewCircle(Circle):\n",
    "    color = \"blue\"\n",
    "\n",
    "nc = NewCircle\n",
    "print(nc.color)\n",
    "# >> What will be the output ?"
   ]
  },
  {
   "cell_type": "code",
   "execution_count": 4,
   "id": "52370bb6",
   "metadata": {},
   "outputs": [
    {
     "name": "stdout",
     "output_type": "stream",
     "text": [
      "1\n",
      "4\n"
     ]
    }
   ],
   "source": [
    "class Circle:\n",
    "    def __init__(self, diameter):\n",
    "      self.diameter = diameter\n",
    "\n",
    "    def grow(self, factor=2):\n",
    "        \"\"\"grows the circle's diameter by factor\"\"\"\n",
    "        self.diameter = self.diameter * factor\n",
    "\n",
    "class NewCircle(Circle):\n",
    "    def grow(self, factor=2):\n",
    "        \"\"\"grows the area by factor...\"\"\"\n",
    "        self.diameter = self.diameter * factor * 2\n",
    "\n",
    "    \n",
    "\n",
    "nc = NewCircle(1)\n",
    "print(nc.diameter)\n",
    "\n",
    "nc.grow()\n",
    "\n",
    "print(nc.diameter)\n",
    "# >> What will be the output"
   ]
  },
  {
   "cell_type": "code",
   "execution_count": 5,
   "id": "a3c4e785",
   "metadata": {},
   "outputs": [
    {
     "name": "stdout",
     "output_type": "stream",
     "text": [
      "This animal is a: dog\n",
      "This dog has 4  legs\n",
      "This dog makes the sound  wouaf\n",
      "Does this dog fetchs balls ?  True\n"
     ]
    }
   ],
   "source": [
    "class Animal():\n",
    "    def __init__(self, type, number_legs, sound):\n",
    "        self.type = type\n",
    "        self.number_legs = number_legs\n",
    "        self.sound = sound\n",
    "\n",
    "class Dog(Animal):\n",
    "    def __init__(self, type, number_legs, sound, fetch_ball):\n",
    "        super().__init__(type, number_legs, sound)\n",
    "        # Or : Animal.__init__(self,type, number_legs, sound)\n",
    "        self.fetch_ball = fetch_ball\n",
    "\n",
    "rex = Dog('dog', 4, \"wouaf\", True)\n",
    "print('This animal is a:', rex.type)\n",
    "# >> This animal is a dog\n",
    "\n",
    "print('This dog has', rex.number_legs , ' legs')\n",
    "# >> This dog has 4 legs\n",
    "\n",
    "print('This dog makes the sound ', rex.sound)\n",
    "# >> This dog makes the sound wouaf\n",
    "\n",
    "print('Does this dog fetchs balls ? ', rex.fetch_ball)\n",
    "# >> Does this dog fetchs balls ? True"
   ]
  },
  {
   "cell_type": "code",
   "execution_count": 6,
   "id": "78740dd0",
   "metadata": {},
   "outputs": [
    {
     "ename": "SyntaxError",
     "evalue": "invalid syntax (3305816994.py, line 2)",
     "output_type": "error",
     "traceback": [
      "\u001b[0;36m  Cell \u001b[0;32mIn[6], line 2\u001b[0;36m\u001b[0m\n\u001b[0;31m    def __init__(self, *args, **kwargs)\u001b[0m\n\u001b[0m                                       ^\u001b[0m\n\u001b[0;31mSyntaxError\u001b[0m\u001b[0;31m:\u001b[0m invalid syntax\n"
     ]
    }
   ],
   "source": [
    "class A(B):\n",
    "    def __init__(self, *args, **kwargs)\n",
    "        B.__init__(self, *args, **kwargs)\n",
    "        pass"
   ]
  },
  {
   "cell_type": "code",
   "execution_count": 12,
   "id": "793b6616",
   "metadata": {},
   "outputs": [
    {
     "ename": "SyntaxError",
     "evalue": "invalid syntax (2520192862.py, line 2)",
     "output_type": "error",
     "traceback": [
      "\u001b[0;36m  Cell \u001b[0;32mIn[12], line 2\u001b[0;36m\u001b[0m\n\u001b[0;31m    def __init__(self, *args, **kwargs)\u001b[0m\n\u001b[0m                                       ^\u001b[0m\n\u001b[0;31mSyntaxError\u001b[0m\u001b[0;31m:\u001b[0m invalid syntax\n"
     ]
    }
   ],
   "source": [
    "class A(B):\n",
    "    def __init__(self, *args, **kwargs)\n",
    "        super().__init__(*args, **kwargs)\n",
    "        pass"
   ]
  },
  {
   "cell_type": "code",
   "execution_count": 14,
   "id": "f30169ba",
   "metadata": {},
   "outputs": [],
   "source": [
    "class Door:\n",
    "    def __init__(self,is_opened):\n",
    "        self.is_opened = is_opened\n",
    "    def open_door(self):\n",
    "        self.is_opened = True\n",
    "        print(\"Door is opened\")\n",
    "    def close_door(self):\n",
    "        self.is_opened = False\n",
    "        print(\"Door is closed\")\n",
    "class BlockedDoor(Door):\n",
    "    def open_door(self):\n",
    "        raise Exception(\"A blocked door cannot be opened\")\n",
    "    def close_door(self):\n",
    "        raise Exception(\"A blocked door cannot be closed\")\n",
    "\n"
   ]
  },
  {
   "cell_type": "code",
   "execution_count": 15,
   "id": "4fc877d3",
   "metadata": {},
   "outputs": [
    {
     "name": "stdout",
     "output_type": "stream",
     "text": [
      "doing this in A\n"
     ]
    }
   ],
   "source": [
    "class A():\n",
    "\n",
    "    def dothis(self):\n",
    "        print(\"doing this in A\")\n",
    "\n",
    "\n",
    "class B(A):\n",
    "    pass\n",
    "\n",
    "\n",
    "class C():\n",
    "    def dothis(self):\n",
    "        print(\"doing this in C\")\n",
    "\n",
    "\n",
    "class D(B, C):\n",
    "    pass\n",
    "\n",
    "d_instance = D()\n",
    "d_instance.dothis() "
   ]
  },
  {
   "cell_type": "code",
   "execution_count": 16,
   "id": "f0f93344",
   "metadata": {},
   "outputs": [
    {
     "name": "stdout",
     "output_type": "stream",
     "text": [
      "Woow this is an awesome book\n",
      "Title: Asimov\n",
      "5£\n",
      "False\n",
      "I am very bored\n",
      "True\n"
     ]
    }
   ],
   "source": [
    "class Book():\n",
    "    def __init__(self, title, author, publication_date, price):\n",
    "        self.title = title\n",
    "        self.author = author\n",
    "        self.publication = publication_date\n",
    "        self.price = price\n",
    "\n",
    "    def present(self):\n",
    "        print(f'Title: {self.title}')\n",
    "\n",
    "class Fiction(Book):\n",
    "    def __init__(self, title, author, publication_date, price, is_awesome):\n",
    "        super().__init__(title, author, publication_date, price)\n",
    "        self.genre = 'Fiction'\n",
    "        self.is_awesome = is_awesome\n",
    "        if self.is_awesome:\n",
    "            self.bored = False\n",
    "            print('Woow this is an awesome book')\n",
    "        else:\n",
    "            self.bored = True\n",
    "            print('I am very bored')\n",
    "\n",
    "if __name__ == '__main__':\n",
    "    foundation = Fiction('Asimov', 'Foundation', '1966', '5£', True)\n",
    "    foundation.present()\n",
    "    print(foundation.price)\n",
    "    print(foundation.bored)\n",
    "    boring_book = Fiction('boring_guy', 'boring_title', 'boring_date', '9000£', False)\n",
    "    print(boring_book.bored)"
   ]
  },
  {
   "cell_type": "code",
   "execution_count": 17,
   "id": "30941964",
   "metadata": {},
   "outputs": [
    {
     "name": "stdout",
     "output_type": "stream",
     "text": [
      "red\n",
      "red\n",
      "red\n",
      "6\n"
     ]
    }
   ],
   "source": [
    "class Circle:\n",
    "    color = \"red\"\n",
    "\n",
    "    def __init__(self, diameter):\n",
    "        self.diameter = diameter\n",
    "\n",
    "    def grow(self, factor=2):\n",
    "        self.diameter = self.diameter * factor\n",
    "\n",
    "    def get_color(self):\n",
    "       return Circle.color\n",
    "\n",
    "circle1 = Circle(2)\n",
    "print(circle1.color)\n",
    "print(Circle.color)\n",
    "print(circle1.get_color())\n",
    "circle1.grow(3)\n",
    "print(circle1.diameter)"
   ]
  },
  {
   "cell_type": "code",
   "execution_count": 18,
   "id": "e43775c7",
   "metadata": {},
   "outputs": [
    {
     "name": "stdout",
     "output_type": "stream",
     "text": [
      "\n",
      "Value of object : 10\n",
      "1\n",
      "\n",
      "Value of object : 20\n",
      "2\n"
     ]
    }
   ],
   "source": [
    "class MyClass(object):\n",
    "    count = 0\n",
    "\n",
    "    def __init__(self, val):\n",
    "        self.val = val\n",
    "        MyClass.count += 1\n",
    "\n",
    "    def set_val(self, newval):\n",
    "        self.val = newval\n",
    "\n",
    "    def get_val(self):\n",
    "        return self.val\n",
    "\n",
    "    @classmethod\n",
    "    def get_count(cls):\n",
    "        return cls.count\n",
    "\n",
    "object_1 = MyClass(10)\n",
    "print(\"\\nValue of object : %s\" % object_1.get_val())\n",
    "print(MyClass.get_count())\n",
    "\n",
    "object_2 = MyClass(20)\n",
    "print(\"\\nValue of object : %s\" % object_2.get_val())\n",
    "print(MyClass.get_count())"
   ]
  },
  {
   "cell_type": "code",
   "execution_count": 23,
   "id": "26a3e8e6",
   "metadata": {},
   "outputs": [],
   "source": [
    "# math module\n",
    "import math\n"
   ]
  },
  {
   "cell_type": "code",
   "execution_count": null,
   "id": "fa934eba",
   "metadata": {},
   "outputs": [],
   "source": []
  }
 ],
 "metadata": {
  "kernelspec": {
   "display_name": "Python 3",
   "language": "python",
   "name": "python3"
  },
  "language_info": {
   "codemirror_mode": {
    "name": "ipython",
    "version": 3
   },
   "file_extension": ".py",
   "mimetype": "text/x-python",
   "name": "python",
   "nbconvert_exporter": "python",
   "pygments_lexer": "ipython3",
   "version": "3.9.6"
  }
 },
 "nbformat": 4,
 "nbformat_minor": 5
}
