{
 "cells": [
  {
   "cell_type": "markdown",
   "id": "835360a2",
   "metadata": {},
   "source": [
    "# Meta-analyse sur les LLMs\n",
    "\n",
    "Ce dépôt contient un rapport d’analyse croisée de 3 articles scientifiques récents sur les grands modèles de langage (LLMs).\n",
    "\n",
    "## Objectif\n",
    "\n",
    "Le but de ce projet est de comparer différentes approches de recherche autour de l’alignement, de la robustesse et de l’évaluation des LLMs.  \n",
    "Le rapport identifie les points communs, les divergences et les limites méthodologiques des études analysées.\n",
    "\n",
    "## Rapport\n",
    "\n",
    "- [meta_analysis_llms.pdf](meta_analysis_llms.pdf)\n",
    "\n",
    "## Articles étudiés\n",
    "\n",
    "1. **Ouyang et al. (2022)**  \n",
    "   _Training language models to follow instructions with human feedback_  \n",
    "   ➤ [NeurIPS 2022](https://papers.nips.cc/paper_files/paper/2022/hash/1c5f5e2f5f9c0f37b0e89f14b5dc2f4b-Abstract-Conference.html)\n",
    "\n",
    "2. **Bai et al. (2022)**  \n",
    "   _Training a Helpful and Harmless Assistant with RLHF_  \n",
    "   ➤ [Anthropic](https://www.anthropic.com/index/rlhf)\n",
    "\n",
    "3. **OpenAI (2023)**  \n",
    "   _GPT-4 Technical Report_  \n",
    "   ➤ [arXiv:2303.08774](https://arxiv.org/abs/2303.08774)\n",
    "\n",
    "## Contenu du rapport\n",
    "\n",
    "- Résumé détaillé de chaque publication\n",
    "- Tableau comparatif des approches (objectifs, architectures, évaluation)\n",
    "- Synthèse des tendances et limitations actuelles\n",
    "- Recommandations et perspectives de recherche\n",
    "\n",
    "---\n",
    "\n",
    "Rédigé en français dans le cadre d’un mini-projet d’analyse critique.\n"
   ]
  },
  {
   "cell_type": "markdown",
   "id": "1d10d2d4",
   "metadata": {},
   "source": []
  }
 ],
 "metadata": {
  "language_info": {
   "name": "python"
  }
 },
 "nbformat": 4,
 "nbformat_minor": 5
}
