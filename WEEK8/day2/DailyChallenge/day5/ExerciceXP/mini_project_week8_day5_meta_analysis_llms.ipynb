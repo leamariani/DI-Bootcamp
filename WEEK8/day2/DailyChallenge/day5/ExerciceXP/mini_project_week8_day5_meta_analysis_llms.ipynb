{
 "cells": [
  {
   "cell_type": "markdown",
   "id": "118f594e",
   "metadata": {},
   "source": [
    "# Meta-analyse de publications scientifiques sur les grands modèles de langage (LLMs)"
   ]
  },
  {
   "cell_type": "markdown",
   "id": "bb44a1f7",
   "metadata": {},
   "source": [
    "## 1. Introduction"
   ]
  },
  {
   "cell_type": "markdown",
   "id": "add2dc8f",
   "metadata": {},
   "source": [
    "Les Grands Modèles de Langage (LLMs) comme GPT, PaLM ou LLaMA ont transformé l'intelligence artificielle moderne. Ce rapport vise à analyser de manière critique plusieurs travaux de recherche récents autour d'un thème central : **l'alignement des LLMs avec les objectifs humains**."
   ]
  },
  {
   "cell_type": "markdown",
   "id": "ca7cdd15",
   "metadata": {},
   "source": [
    "Papiers analysés :"
   ]
  },
  {
   "cell_type": "markdown",
   "id": "2c628795",
   "metadata": {},
   "source": [
    "- Ouyang et al. (2022), 'Training language models to follow instructions with human feedback', NeurIPS.\n",
    "- Bai et al. (2022), 'Training a Helpful and Harmless Assistant with RLHF', Anthropic.\n",
    "- OpenAI (2023), 'GPT-4 Technical Report', arXiv."
   ]
  },
  {
   "cell_type": "markdown",
   "id": "0d280a94",
   "metadata": {},
   "source": [
    "## 2. Résumés des articles"
   ]
  },
  {
   "cell_type": "markdown",
   "id": "c545bd6d",
   "metadata": {},
   "source": [
    "### Ouyang et al. (2022)"
   ]
  },
  {
   "cell_type": "markdown",
   "id": "bb95604b",
   "metadata": {},
   "source": [
    "Objectif : améliorer l'alignement des modèles via le RLHF (Reinforcement Learning from Human Feedback).\n",
    "Méthode : fine-tuning de GPT-3 avec supervision humaine, puis RL.\n",
    "Résultats : amélioration marquée sur des tâches d'instruction.\n",
    "Données : prompts humains, modèles GPT-3, métriques : MT-Bench, score de préférence humaine."
   ]
  },
  {
   "cell_type": "markdown",
   "id": "023b2d07",
   "metadata": {},
   "source": [
    "### Bai et al. (2022)"
   ]
  },
  {
   "cell_type": "markdown",
   "id": "d89d126f",
   "metadata": {},
   "source": [
    "Objectif : créer un assistant utile et inoffensif.\n",
    "Méthode : apprentissage par débat, RLHF, red teaming.\n",
    "Résultats : assistants plus robustes aux attaques adverses.\n",
    "Modèle propriétaire, évaluation par humains + adversaires."
   ]
  },
  {
   "cell_type": "markdown",
   "id": "e9dd5f88",
   "metadata": {},
   "source": [
    "### OpenAI (2023)"
   ]
  },
  {
   "cell_type": "markdown",
   "id": "217112b2",
   "metadata": {},
   "source": [
    "Objectif : présenter les capacités et limites de GPT-4.\n",
    "Méthode : non détaillée (modèle fermé), mais axée sur l'évaluation multitâches.\n",
    "Résultats : performances SOTA sur examens humains, codage, etc.\n",
    "Évaluation : benchmarks standard (MMLU, CodeEval, etc.)."
   ]
  },
  {
   "cell_type": "markdown",
   "id": "6663b208",
   "metadata": {},
   "source": [
    "## 3. Analyse comparative"
   ]
  },
  {
   "cell_type": "markdown",
   "id": "503e6f87",
   "metadata": {},
   "source": [
    "Comparaison entre les trois articles selon plusieurs critères :"
   ]
  },
  {
   "cell_type": "markdown",
   "id": "e40a2651",
   "metadata": {},
   "source": [
    "Objectif | Modèle | Stratégie | Évaluation | Points forts | Limites\n",
    "---|---|---|---|---|---\n",
    "Instruction following | GPT-3 | Supervised + RLHF | Human preference | Clarté de méthode | Coût élevé du RL\n",
    "Assistant robuste | Claude | RLHF + débats | Attaques adverses | Sécurité | Non reproductible\n",
    "Modèle généraliste | GPT-4 | ??? | Benchmarks multitâches | Performance | Boîte noire"
   ]
  },
  {
   "cell_type": "markdown",
   "id": "d04c3c87",
   "metadata": {},
   "source": [
    "## 4. Enseignements et réflexions"
   ]
  },
  {
   "cell_type": "markdown",
   "id": "1da6d4a9",
   "metadata": {},
   "source": [
    "- Tendance à renforcer la **sécurité et l'alignement** via l'apprentissage avec retour humain.\n",
    "- L'approche RLHF est omniprésente mais coûteuse.\n",
    "- Problème de **reproductibilité** et de transparence des modèles fermés.\n",
    "- Les futures directions incluent : open models, feedback automatique, alignement multi-culturel."
   ]
  },
  {
   "cell_type": "markdown",
   "id": "d443794b",
   "metadata": {},
   "source": [
    "## 5. Conclusion"
   ]
  },
  {
   "cell_type": "markdown",
   "id": "89235766",
   "metadata": {},
   "source": [
    "Les modèles LLM progressent rapidement en termes de puissance et d'usage. Néanmoins, leur **alignement**, **sécurité**, et **explicabilité** restent des défis majeurs. Une collaboration entre chercheurs, praticiens et utilisateurs finaux est essentielle pour construire des LLMs dignes de confiance."
   ]
  }
 ],
 "metadata": {},
 "nbformat": 4,
 "nbformat_minor": 5
}
