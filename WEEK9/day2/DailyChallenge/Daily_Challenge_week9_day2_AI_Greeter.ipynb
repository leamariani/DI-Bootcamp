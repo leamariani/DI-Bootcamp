{
 "cells": [
  {
   "cell_type": "markdown",
   "id": "16fe1bf4",
   "metadata": {},
   "source": [
    "# Daily Challenge — Construire un AI Greeter (Mini App de bienvenue)\n",
    "\n",
    "Ce notebook montre comment créer une mini application web qui salue l’utilisateur par son nom et adapte le message selon l’heure. Nous utilisons **Gradio** pour obtenir une interface web simple à partir d’une fonction Python.\n",
    "\n",
    "## Objectifs\n",
    "- Envelopper une fonction Python dans une interface web avec Gradio.\n",
    "- Relier des entrées (nom, langue) à une logique Python.\n",
    "- Déterminer le moment de la journée via `datetime` et adapter le message.\n",
    "- Fournir des exemples pour tester rapidement l’interface.\n",
    "\n",
    "## Choix techniques\n",
    "- Gradio est retenu pour sa simplicité d’intégration et son interactivité directe dans un notebook.\n",
    "- `datetime` satisfait le besoin de détection du moment de la journée pour un prototype.\n"
   ]
  },
  {
   "cell_type": "markdown",
   "id": "1f5cc23c",
   "metadata": {},
   "source": [
    "## Étape 0 — Installation/Import de Gradio\n",
    "\n",
    "La cellule suivante importe Gradio. Si le module est absent, il est installé automatiquement.\n"
   ]
  },
  {
   "cell_type": "code",
   "execution_count": 1,
   "id": "16a2e526",
   "metadata": {},
   "outputs": [
    {
     "name": "stderr",
     "output_type": "stream",
     "text": [
      "WARNING: You are using pip version 21.2.4; however, version 25.2 is available.\n",
      "You should consider upgrading via the '/Library/Developer/CommandLineTools/usr/bin/python3 -m pip install --upgrade pip' command.\n",
      "/Users/leamariani/Library/Python/3.9/lib/python/site-packages/urllib3/__init__.py:35: NotOpenSSLWarning: urllib3 v2 only supports OpenSSL 1.1.1+, currently the 'ssl' module is compiled with 'LibreSSL 2.8.3'. See: https://github.com/urllib3/urllib3/issues/3020\n",
      "  warnings.warn(\n",
      "/Users/leamariani/Library/Python/3.9/lib/python/site-packages/tqdm/auto.py:21: TqdmWarning: IProgress not found. Please update jupyter and ipywidgets. See https://ipywidgets.readthedocs.io/en/stable/user_install.html\n",
      "  from .autonotebook import tqdm as notebook_tqdm\n"
     ]
    },
    {
     "name": "stdout",
     "output_type": "stream",
     "text": [
      "Gradio prêt.\n"
     ]
    }
   ],
   "source": [
    "# Importe Gradio, installe-le si nécessaire (sans magie %pip)\n",
    "try:\n",
    "    import gradio as gr\n",
    "except Exception:\n",
    "    import sys, subprocess\n",
    "    subprocess.check_call([sys.executable, \"-m\", \"pip\", \"install\", \"gradio\", \"-q\"])\n",
    "    import gradio as gr\n",
    "print(\"Gradio prêt.\")"
   ]
  },
  {
   "cell_type": "markdown",
   "id": "cbf0412d",
   "metadata": {},
   "source": [
    "## Étape 1 — Définir la fonction de salutation\n",
    "\n",
    "La fonction `greeter(name, language)` :\n",
    "- Reçoit un nom et une langue.\n",
    "- Lit l’heure locale avec `datetime`.\n",
    "- Retourne un message adapté : en anglais, « Good morning/afternoon/evening » ; en français, « Bonjour/Bonsoir » selon l’usage courant.\n"
   ]
  },
  {
   "cell_type": "code",
   "execution_count": 2,
   "id": "db369737",
   "metadata": {},
   "outputs": [],
   "source": [
    "from datetime import datetime\n",
    "\n",
    "def greeter(name: str, language: str = \"English\") -> str:\n",
    "    # Nettoyage basique\n",
    "    if name is None:\n",
    "        name = \"\"\n",
    "    name = name.strip()\n",
    "    \n",
    "    hour = datetime.now().hour  # heure locale\n",
    "    if language.lower().startswith(\"en\"):\n",
    "        # 05-11 -> morning, 12-17 -> afternoon, sinon evening\n",
    "        if 5 <= hour <= 11:\n",
    "            base = \"Good morning\"\n",
    "        elif 12 <= hour <= 17:\n",
    "            base = \"Good afternoon\"\n",
    "        else:\n",
    "            base = \"Good evening\"\n",
    "        return f\"{base}, {name}!\" if name else f\"{base}!\"\n",
    "    else:\n",
    "        # Français : Bonjour jusqu'à 17h, Bonsoir à partir de 18h (et la nuit)\n",
    "        if 5 <= hour <= 17:\n",
    "            base = \"Bonjour\"\n",
    "        else:\n",
    "            base = \"Bonsoir\"\n",
    "        return f\"{base}, {name} !\" if name else f\"{base} !\" "
   ]
  },
  {
   "cell_type": "markdown",
   "id": "068fd07e",
   "metadata": {},
   "source": [
    "### Vérification rapide\n",
    "\n",
    "Appels directs pour valider la logique avant l’UI.\n"
   ]
  },
  {
   "cell_type": "code",
   "execution_count": 3,
   "id": "f1fafd98",
   "metadata": {},
   "outputs": [
    {
     "name": "stdout",
     "output_type": "stream",
     "text": [
      "Good afternoon, Alice!\n",
      "Bonjour, Jean !\n",
      "Bonjour !\n"
     ]
    }
   ],
   "source": [
    "print(greeter(\"Alice\", \"English\"))\n",
    "print(greeter(\"Jean\", \"French\"))\n",
    "print(greeter(\"\", \"French\"))"
   ]
  },
  {
   "cell_type": "markdown",
   "id": "04ca528d",
   "metadata": {},
   "source": [
    "## Étape 2 — Construire l’interface Gradio\n",
    "\n",
    "Nous associons la fonction à des composants d’entrée/sortie :\n",
    "- `Textbox` pour le nom.\n",
    "- `Dropdown` pour la langue.\n",
    "- `Textbox` pour le message de sortie.\n"
   ]
  },
  {
   "cell_type": "code",
   "execution_count": 4,
   "id": "be5c39d9",
   "metadata": {},
   "outputs": [
    {
     "name": "stdout",
     "output_type": "stream",
     "text": [
      "Interface créée.\n"
     ]
    }
   ],
   "source": [
    "demo = gr.Interface(\n",
    "    fn=greeter,\n",
    "    inputs=[\n",
    "        gr.Textbox(label=\"Nom\"),\n",
    "        gr.Dropdown(choices=[\"English\", \"French\"], value=\"English\", label=\"Langue\")\n",
    "    ],\n",
    "    outputs=gr.Textbox(label=\"Message de bienvenue\"),\n",
    "    title=\"AI Greeter — Mini App\",\n",
    "    description=\"Saisissez un nom, choisissez la langue, et obtenez une salutation adaptée au moment de la journée.\"\n",
    ")\n",
    "print(\"Interface créée.\")"
   ]
  },
  {
   "cell_type": "markdown",
   "id": "e82ff839",
   "metadata": {},
   "source": [
    "## Étape 3 — Ajouter des exemples\n",
    "\n",
    "Les exemples facilitent les tests et la démonstration.\n"
   ]
  },
  {
   "cell_type": "code",
   "execution_count": 5,
   "id": "ac35c0f6",
   "metadata": {},
   "outputs": [
    {
     "name": "stdout",
     "output_type": "stream",
     "text": [
      "Exemples ajoutés.\n"
     ]
    }
   ],
   "source": [
    "demo.examples = [\n",
    "    [\"Alice\", \"English\"],\n",
    "    [\"Jean\", \"French\"],\n",
    "]\n",
    "print(\"Exemples ajoutés.\")"
   ]
  },
  {
   "cell_type": "markdown",
   "id": "df16e805",
   "metadata": {},
   "source": [
    "## Étape 4 — Lancer l’application\n",
    "\n",
    "Exécuter la cellule ci-dessous pour démarrer l’interface dans le notebook et, si souhaité, ouvrir le lien local dans le navigateur.\n"
   ]
  },
  {
   "cell_type": "code",
   "execution_count": 6,
   "id": "ef663543",
   "metadata": {},
   "outputs": [
    {
     "name": "stdout",
     "output_type": "stream",
     "text": [
      "Running on local URL:  http://127.0.0.1:7860\n",
      "\n",
      "To create a public link, set `share=True` in `launch()`.\n"
     ]
    },
    {
     "data": {
      "text/html": [
       "<div><iframe src=\"http://127.0.0.1:7860/\" width=\"100%\" height=\"500\" allow=\"autoplay; camera; microphone; clipboard-read; clipboard-write;\" frameborder=\"0\" allowfullscreen></iframe></div>"
      ],
      "text/plain": [
       "<IPython.core.display.HTML object>"
      ]
     },
     "metadata": {},
     "output_type": "display_data"
    },
    {
     "data": {
      "text/plain": []
     },
     "execution_count": 6,
     "metadata": {},
     "output_type": "execute_result"
    }
   ],
   "source": [
    "demo.launch(share=False)"
   ]
  },
  {
   "cell_type": "markdown",
   "id": "b7cac5e4",
   "metadata": {},
   "source": [
    "## Bonus — Extensions possibles\n",
    "\n",
    "- Ajout d’un sélecteur de fuseau horaire.\n",
    "- Prise en charge d’autres langues.\n",
    "- Option de style de message (court, formel).\n",
    "- Persistance du dernier nom entré.\n"
   ]
  }
 ],
 "metadata": {
  "kernelspec": {
   "display_name": "Python 3",
   "name": "python3"
  },
  "language_info": {
   "codemirror_mode": {
    "name": "ipython",
    "version": 3
   },
   "file_extension": ".py",
   "mimetype": "text/x-python",
   "name": "python",
   "nbconvert_exporter": "python",
   "pygments_lexer": "ipython3",
   "version": "3.9.6"
  }
 },
 "nbformat": 4,
 "nbformat_minor": 5
}
