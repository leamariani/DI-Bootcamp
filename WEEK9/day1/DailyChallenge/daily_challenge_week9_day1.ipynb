{
 "cells": [
  {
   "cell_type": "markdown",
   "id": "a59896b0",
   "metadata": {},
   "source": [
    "## Step 1: Craft a Prompt That Controls Output Tone, Format, and Length\n"
   ]
  },
  {
   "cell_type": "markdown",
   "id": "d0538e09",
   "metadata": {},
   "source": [
    "Input Text:\n",
    "Employees must ensure that all remote access to internal systems is established via the approved secure VPN. Under no circumstances should unsecured connections or personal devices lacking endpoint protection be used to access proprietary data or sensitive communications.\n",
    "\n",
    "\n",
    "Prompt:\n",
    "Rewrite the following policy excerpt in a friendly and clear tone. Use bullet points for organization. Paraphrase the content so it’s not directly quoted. Keep the total length under 75 words.\n",
    "\n",
    "\n",
    "Output :\n",
    "- Always connect to internal systems through the company’s approved secure VPN.\n",
    "\n",
    "- Avoid using unsecured networks for work access.\n",
    "\n",
    "- Only use devices that have the required security and endpoint protection.\n",
    "\n",
    "- This helps keep company data and sensitive messages safe."
   ]
  },
  {
   "cell_type": "markdown",
   "id": "9f928638",
   "metadata": {},
   "source": [
    "## Step 2: Evaluate the Output\n",
    "\n"
   ]
  },
  {
   "cell_type": "markdown",
   "id": "41376b87",
   "metadata": {},
   "source": [
    "Prompt:\n",
    "\n",
    "\n",
    "Evaluate the following rewritten text against the listed criteria. Provide a short assessment for each item (e.g., \"Yes/No + brief explanation\").\n",
    "\n",
    "\n",
    "\n",
    "Criteria:\n",
    "\n",
    "Relevance – Does the output stick to the message of the source content?\n",
    "\n",
    "Clarity – Is the message easier to understand for non-technical staff?\n",
    "\n",
    "Structure – Is the information formatted into clear bullet points?\n",
    "\n",
    "Tone – Is the language appropriate for internal employee communication?\n",
    "\n",
    "Length – Does it stay under 75 words?\n",
    "\n",
    "Factual Accuracy – Did the model make up or remove any critical security details?\n",
    "\n",
    "\n",
    "Output to evaluate :\n",
    "- Always connect to internal systems through the company’s approved secure VPN.\n",
    "\n",
    "- Avoid using unsecured networks for work access.\n",
    "\n",
    "- Only use devices that have the required security and endpoint protection.\n",
    "\n",
    "- This helps keep company data and sensitive messages safe."
   ]
  },
  {
   "cell_type": "markdown",
   "id": "f3a4c936",
   "metadata": {},
   "source": [
    "ANSWER :\n",
    "\n",
    "- Relevance: Yes – It preserves the original intent: use VPN, avoid unsecured connections, ensure device protection.\n",
    "\n",
    "- Clarity: Yes – Simple, everyday language makes the message easy for non-technical staff to follow.\n",
    "\n",
    "- Structure: Yes – Clearly broken down into short bullet points.\n",
    "\n",
    "- Tone: Yes – Friendly and professional, appropriate for internal communication.\n",
    "\n",
    "- Length: Yes – 38 words, well under the 75-word limit.\n",
    "\n",
    "- Factual Accuracy: Yes – No critical security details were lost; VPN, device protection, and data safety remain intact."
   ]
  },
  {
   "cell_type": "markdown",
   "id": "137eefbd",
   "metadata": {},
   "source": [
    "## Step 3: Detect and Mitigate Hallucinations\n"
   ]
  },
  {
   "cell_type": "markdown",
   "id": "8998b677",
   "metadata": {},
   "source": [
    "Prompt :\n",
    "\n",
    "Only paraphrase the content in the input text. Do not add new recommendations or technologies.\n",
    "\n",
    "\n",
    "Output :\n",
    "\n",
    "- Use the approved secure VPN whenever you access internal systems remotely.\n",
    "\n",
    "- Never connect through unsecured networks.\n",
    "\n",
    "- Don’t use personal devices that lack the required endpoint protection."
   ]
  },
  {
   "cell_type": "markdown",
   "id": "34a22b72",
   "metadata": {},
   "source": [
    "## Step 4: Paraphrasing Deep Dive\n"
   ]
  },
  {
   "cell_type": "markdown",
   "id": "f2b642e2",
   "metadata": {},
   "source": [
    "Prompt :\n",
    "\n",
    "Now write a second version of the prompt that paraphrases the policy paragraph for a junior intern audience, using plain language and short phrases.\n",
    "\n",
    "Use no more than 4 bullet points\n",
    "Avoid any corporate or legal jargon\n",
    "Keep the tone supportive and informative\n"
   ]
  },
  {
   "cell_type": "markdown",
   "id": "19fc074d",
   "metadata": {},
   "source": [
    "Output :\n",
    "\n",
    "- Always log in with the company’s secure VPN.\n",
    "\n",
    "- Don’t use public Wi-Fi for work.\n",
    "\n",
    "- Use only devices that have company security set up.\n",
    "\n",
    "- This keeps our files and messages safe."
   ]
  },
  {
   "cell_type": "markdown",
   "id": "465363bf",
   "metadata": {},
   "source": [
    "## Step 5: Quote Extraction Variant\n"
   ]
  },
  {
   "cell_type": "markdown",
   "id": "ba9e39b8",
   "metadata": {},
   "source": [
    "Prompt:\n",
    "\n",
    "From the following policy paragraph, extract one direct quote that best represents the core security requirement. Do not paraphrase or summarize—copy the exact words that capture the main rule.\n",
    "\n",
    "Text:\n",
    "\n",
    "Employees must ensure that all remote access to internal systems is established via the approved secure VPN. Under no circumstances should unsecured connections or personal devices lacking endpoint protection be used to access proprietary data or sensitive communications."
   ]
  },
  {
   "cell_type": "markdown",
   "id": "c0f41a2b",
   "metadata": {},
   "source": [
    "The quote : “Employees must ensure that all remote access to internal systems is established via the approved secure VPN.”"
   ]
  },
  {
   "cell_type": "markdown",
   "id": "e34618cc",
   "metadata": {},
   "source": [
    "When quoting is useful\n",
    "\n",
    "- Legal/compliance texts where exact wording matters.\n",
    "\n",
    "- Training to show the “official rule” before simplifying.\n",
    "\n",
    "- Policy updates to reference the source.\n",
    "\n",
    "- Audits/documentation for accuracy.\n",
    "\n",
    "Risks of quoting\n",
    "\n",
    "- Complex jargon may confuse staff.\n",
    "\n",
    "- Sensitive or harsh wording can hurt tone.\n",
    "\n",
    "- Outdated quotes may mislead.\n",
    "\n",
    "- Lacking context may reduce clarity.\n",
    "\n",
    "\n",
    "Best practice: quote once for accuracy, paraphrase for clarity."
   ]
  },
  {
   "cell_type": "markdown",
   "id": "d7c5ee15",
   "metadata": {},
   "source": [
    "Prompt:\n",
    "condense this further into a 2–3 line quick reference?"
   ]
  },
  {
   "cell_type": "markdown",
   "id": "afec2700",
   "metadata": {},
   "source": [
    "Output :\n",
    "\n",
    "- Quote for legal accuracy, audits, or showing the official rule.\n",
    "\n",
    "- Risk: quotes can confuse, sound harsh, or become outdated.\n",
    "\n",
    "- Best practice: show the quote once, then paraphrase for clarity."
   ]
  }
 ],
 "metadata": {
  "language_info": {
   "name": "python"
  }
 },
 "nbformat": 4,
 "nbformat_minor": 5
}
