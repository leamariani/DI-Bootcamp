{
 "cells": [
  {
   "cell_type": "markdown",
   "id": "6fb408e4",
   "metadata": {},
   "source": [
    "# Pinecone Serverless Reranking – Projet complet en français"
   ]
  },
  {
   "cell_type": "markdown",
   "id": "eb7a676b",
   "metadata": {},
   "source": [
    "**Objectif :** Améliorer la pertinence des résultats de recherche grâce au reranking par modèle. Ce projet utilise Pinecone, FAISS, Sentence Transformers et une API serverless."
   ]
  },
  {
   "cell_type": "markdown",
   "id": "7b6c0c5f",
   "metadata": {},
   "source": [
    "# Installation des bibliothèques"
   ]
  },
  {
   "cell_type": "code",
   "execution_count": null,
   "id": "154569e2",
   "metadata": {},
   "outputs": [
    {
     "ename": "",
     "evalue": "",
     "output_type": "error",
     "traceback": [
      "\u001b[1;31mRunning cells with '.conda (Python 3.11.13)' requires the ipykernel package.\n",
      "\u001b[1;31mInstall 'ipykernel' into the Python environment. \n",
      "\u001b[1;31mCommand: 'conda install -n .conda ipykernel --update-deps --force-reinstall'"
     ]
    }
   ],
   "source": [
    "pip install pinecone==6.0.1 pinecone-notebooks pandas torch transformers sentence-transformers faiss-cpu"
   ]
  },
  {
   "cell_type": "markdown",
   "id": "63fd036c",
   "metadata": {},
   "source": [
    "# Authentification avec Pinecone"
   ]
  },
  {
   "cell_type": "code",
   "execution_count": null,
   "id": "410d2dbf",
   "metadata": {},
   "outputs": [],
   "source": [
    "import os\n",
    "if not os.environ.get(\"PINECONE_API_KEY\"):\n",
    "    from pinecone_notebooks.colab import Authenticate\n",
    "    Authenticate()"
   ]
  },
  {
   "cell_type": "markdown",
   "id": "98dad357",
   "metadata": {},
   "source": [
    "# Initialiser le client Pinecone"
   ]
  },
  {
   "cell_type": "code",
   "execution_count": null,
   "id": "12731a05",
   "metadata": {},
   "outputs": [],
   "source": [
    "from pinecone import Pinecone\n",
    "api_key = os.environ[\"PINECONE_API_KEY\"]\n",
    "environment = \"us-west1-gcp\"  # Remplace par ton environnement\n",
    "pc = Pinecone(api_key=api_key, environment=environment)"
   ]
  },
  {
   "cell_type": "markdown",
   "id": "3ea73e6b",
   "metadata": {},
   "source": [
    "# Reranking simple : pomme (fruit) vs Apple Inc."
   ]
  },
  {
   "cell_type": "code",
   "execution_count": null,
   "id": "e6d31c1c",
   "metadata": {},
   "outputs": [],
   "source": [
    "query = \"Tell me about Apple's products\"\n",
    "documents = [\n",
    "    \"Apple is a fruit rich in fiber and vitamins.\",\n",
    "    \"Apple Inc. is famous for its iPhone and Mac computers.\",\n",
    "    \"I planted an apple tree in my garden.\",\n",
    "    \"Apple’s latest keynote introduced new AI features.\",\n",
    "    \"The apple pie was delicious at grandma’s house.\"\n",
    "]"
   ]
  },
  {
   "cell_type": "code",
   "execution_count": null,
   "id": "5231f386",
   "metadata": {},
   "outputs": [],
   "source": [
    "from pinecone import RerankModel\n",
    "reranked = pc.inference.rerank(\n",
    "    model=\"bge-reranker-v2-m3\",\n",
    "    query=query,\n",
    "    documents=[{\"id\": str(i), \"text\": doc} for i, doc in enumerate(documents)],\n",
    "    top_n=3\n",
    ")"
   ]
  },
  {
   "cell_type": "code",
   "execution_count": null,
   "id": "3a8e4ab2",
   "metadata": {},
   "outputs": [],
   "source": [
    "def show_reranked(query, matches):\n",
    "    print(f\"Query: {query}\")\n",
    "    for i, m in enumerate(matches):\n",
    "        print(f\"{i+1}. Score: {round(m.score, 3)} | {m.document.text}\")\n",
    "show_reranked(query, reranked.matches)"
   ]
  },
  {
   "cell_type": "markdown",
   "id": "1976f756",
   "metadata": {},
   "source": [
    "# Création d’un index serverless Pinecone"
   ]
  },
  {
   "cell_type": "code",
   "execution_count": null,
   "id": "ff9a896a",
   "metadata": {},
   "outputs": [],
   "source": [
    "from pinecone import ServerlessSpec\n",
    "cloud = \"aws\"\n",
    "region = \"us-east-1\"\n",
    "spec = ServerlessSpec(cpu=1, memory_gb=1)\n",
    "index_name = \"pinecone-reranker\"\n",
    "pc = Pinecone(api_key=os.environ[\"PINECONE_API_KEY\"], environment=f\"{cloud}-{region}\")"
   ]
  },
  {
   "cell_type": "code",
   "execution_count": null,
   "id": "b7c354e0",
   "metadata": {},
   "outputs": [],
   "source": [
    "if pc.has_index(index_name):\n",
    "    pc.delete_index(index_name)\n",
    "pc.create_index(name=index_name, dimension=384, serverless_config=spec)"
   ]
  },
  {
   "cell_type": "markdown",
   "id": "07ed33d9",
   "metadata": {},
   "source": [
    "# Charger des notes médicales avec embeddings"
   ]
  },
  {
   "cell_type": "code",
   "execution_count": null,
   "id": "e00bda9f",
   "metadata": {},
   "outputs": [],
   "source": [
    "import requests, tempfile, pandas as pd\n",
    "with tempfile.TemporaryDirectory() as tmpdir:\n",
    "    file_path = os.path.join(tmpdir, \"sample_notes_data.jsonl\")\n",
    "    url = \"https://raw.githubusercontent.com/pinecone-io/examples/main/notebooks/semantic-search-reranking/data/sample_notes_data.jsonl\"\n",
    "    resp = requests.get(url)\n",
    "    open(file_path, \"wb\").write(resp.content)\n",
    "    df = pd.read_json(file_path, orient='records', lines=True)\n",
    "df.head()"
   ]
  },
  {
   "cell_type": "markdown",
   "id": "d698fba6",
   "metadata": {},
   "source": [
    "# Insérer les vecteurs dans Pinecone"
   ]
  },
  {
   "cell_type": "code",
   "execution_count": null,
   "id": "e9902e26",
   "metadata": {},
   "outputs": [],
   "source": [
    "index = pc.Index(index_name)\n",
    "index.upsert_from_dataframe(df)\n",
    "\n",
    "import time\n",
    "def is_ready(idx):\n",
    "    stats = idx.describe_index_stats()\n",
    "    return stats.total_vector_count > 0\n",
    "\n",
    "while not is_ready(index):\n",
    "    time.sleep(5)\n",
    "print(index.describe_index_stats())"
   ]
  },
  {
   "cell_type": "markdown",
   "id": "933c268a",
   "metadata": {},
   "source": [
    "# Recherche sémantique avec embedding"
   ]
  },
  {
   "cell_type": "code",
   "execution_count": null,
   "id": "bce0d735",
   "metadata": {},
   "outputs": [],
   "source": [
    "from sentence_transformers import SentenceTransformer\n",
    "def get_embedding(text):\n",
    "    model = SentenceTransformer(\"all-MiniLM-L6-v2\")\n",
    "    return model.encode(text)\n",
    "\n",
    "question = \"what if my patient has leg pain\"\n",
    "emb = get_embedding(question)\n",
    "results = index.query(vector=emb, top_k=5, include_metadata=True)\n",
    "matches = sorted(results.matches, key=lambda m: m.score, reverse=True)"
   ]
  },
  {
   "cell_type": "code",
   "execution_count": null,
   "id": "d21e2418",
   "metadata": {},
   "outputs": [],
   "source": [
    "def show_results(q, matches):\n",
    "    print(f\"Question: {q}\")\n",
    "    for i, m in enumerate(matches):\n",
    "        print(f\"{i+1}. ID: {m.id} | Score: {round(m.score, 2)} | Meta: {m.metadata}\")\n",
    "show_results(question, matches)"
   ]
  },
  {
   "cell_type": "markdown",
   "id": "182c06a7",
   "metadata": {},
   "source": [
    "# Reranking contextuel des notes médicales"
   ]
  },
  {
   "cell_type": "code",
   "execution_count": null,
   "id": "6c41cc9e",
   "metadata": {},
   "outputs": [],
   "source": [
    "rerank_docs = [\n",
    "    {\"id\": m.id, \"reranking_field\": \"; \".join([f\"{k}: {v}\" for k, v in m.metadata.items()])}\n",
    "    for m in matches\n",
    "]\n",
    "rerank_query = \"patient pain in leg after surgery\"\n",
    "reranked = pc.inference.rerank(\n",
    "    model=\"bge-reranker-v2-m3\",\n",
    "    query=rerank_query,\n",
    "    documents=rerank_docs,\n",
    "    rank_fields=[\"reranking_field\"],\n",
    "    top_n=3\n",
    ")\n",
    "\n",
    "def show_reranked(q, matches):\n",
    "    print(f\"Refined Query: {q}\")\n",
    "    for i, m in enumerate(matches):\n",
    "        print(f\"{i+1}. ID: {m.document.id} | Score: {round(m.score, 2)} | {m.document.reranking_field}\")\n",
    "show_reranked(rerank_query, reranked.matches)"
   ]
  },
  {
   "cell_type": "markdown",
   "id": "e479dacb",
   "metadata": {},
   "source": [
    "\n",
    "Ce projet démontre comment l'intégration d'un système de reranking par similarité sémantique améliore significativement la pertinence des résultats de recherche dans un contexte métier. Grâce à Pinecone, nous avons pu :\n",
    "\n",
    "-Indexer efficacement un corpus (comme des notes médicales) à l’aide d’un vecteur store serverless,\n",
    "-Appliquer une première recherche sémantique via des embeddings pour trouver les documents les plus proches,\n",
    "-Utiliser un modèle de reranking avancé (bge-reranker-v2-m3) pour réordonner les résultats en fonction d’une requête plus précise et du contexte métier (comme les symptômes ou antécédents d’un patient)."
   ]
  },
  {
   "cell_type": "markdown",
   "id": "0690ff85",
   "metadata": {},
   "source": []
  }
 ],
 "metadata": {
  "language_info": {
   "name": "python"
  }
 },
 "nbformat": 4,
 "nbformat_minor": 5
}
