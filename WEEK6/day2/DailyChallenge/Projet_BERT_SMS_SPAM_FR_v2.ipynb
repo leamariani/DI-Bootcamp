{
 "cells": [
  {
   "cell_type": "markdown",
   "id": "e2f6ed3f",
   "metadata": {},
   "source": [
    "# 🤖 Détection de SMS Spam avec BERT (Fine-tuning complet)\n",
    "\n",
    "Projet NLP utilisant le dataset [UCI SMS Spam](https://huggingface.co/datasets/ucirvine/sms_spam) et un modèle BERT pré-entraîné pour classifier des messages SMS comme spam ou ham (non-spam)."
   ]
  },
  {
   "cell_type": "code",
   "execution_count": null,
   "id": "169a679b",
   "metadata": {},
   "outputs": [],
   "source": [
    "\n",
    "# 📦 Installation des librairies (versions compatibles)\n",
    "!pip install -q transformers==4.3.3 datasets evaluate\n"
   ]
  },
  {
   "cell_type": "markdown",
   "id": "a9ff26a4",
   "metadata": {},
   "source": [
    "## 📥 Chargement et exploration du dataset"
   ]
  },
  {
   "cell_type": "code",
   "execution_count": null,
   "id": "7f22f260",
   "metadata": {},
   "outputs": [],
   "source": [
    "\n",
    "from datasets import load_dataset\n",
    "import pandas as pd\n",
    "\n",
    "# Chargement du dataset SMS Spam\n",
    "raw = load_dataset(\"ucirvine/sms_spam\")\n",
    "raw_df = pd.DataFrame(raw['train'])\n",
    "\n",
    "# Aperçu\n",
    "print(\"Taille totale :\", len(raw_df))\n",
    "raw_df.head()\n"
   ]
  },
  {
   "cell_type": "code",
   "execution_count": null,
   "id": "7caf43a6",
   "metadata": {},
   "outputs": [],
   "source": [
    "\n",
    "# Séparation en train/validation\n",
    "train_df = raw_df.sample(frac=0.8, random_state=42)\n",
    "val_df = raw_df.drop(train_df.index)\n",
    "\n",
    "from datasets import Dataset\n",
    "train_ds = Dataset.from_pandas(train_df.reset_index(drop=True))\n",
    "val_ds = Dataset.from_pandas(val_df.reset_index(drop=True))\n",
    "\n",
    "train_ds.features\n"
   ]
  },
  {
   "cell_type": "markdown",
   "id": "725aeb3b",
   "metadata": {},
   "source": [
    "## ✍️ Tokenisation avec BERT"
   ]
  },
  {
   "cell_type": "code",
   "execution_count": null,
   "id": "06611330",
   "metadata": {},
   "outputs": [],
   "source": [
    "\n",
    "from transformers import BertTokenizer\n",
    "\n",
    "model_name = \"bert-base-uncased\"\n",
    "tokenizer = BertTokenizer.from_pretrained(model_name)\n",
    "\n",
    "def tokenize_fn(examples):\n",
    "    return tokenizer(\n",
    "        examples[\"sms\"],\n",
    "        padding=\"max_length\",\n",
    "        truncation=True,\n",
    "        max_length=64\n",
    "    )\n",
    "\n",
    "train_tok = train_ds.map(tokenize_fn, batched=True)\n",
    "val_tok = val_ds.map(tokenize_fn, batched=True)\n"
   ]
  },
  {
   "cell_type": "markdown",
   "id": "35b4628f",
   "metadata": {},
   "source": [
    "## 🧠 Chargement du modèle BERT pour classification binaire"
   ]
  },
  {
   "cell_type": "code",
   "execution_count": null,
   "id": "12f69931",
   "metadata": {},
   "outputs": [],
   "source": [
    "\n",
    "import torch\n",
    "from transformers import BertForSequenceClassification\n",
    "\n",
    "model = BertForSequenceClassification.from_pretrained(\n",
    "    model_name,\n",
    "    num_labels=2\n",
    ")\n"
   ]
  },
  {
   "cell_type": "markdown",
   "id": "a78136d6",
   "metadata": {},
   "source": [
    "## 📏 Définition des métriques (Accuracy, Precision, Recall, F1)"
   ]
  },
  {
   "cell_type": "code",
   "execution_count": null,
   "id": "1c1fcc90",
   "metadata": {},
   "outputs": [],
   "source": [
    "\n",
    "import evaluate\n",
    "import numpy as np\n",
    "\n",
    "accuracy = evaluate.load(\"accuracy\")\n",
    "precision = evaluate.load(\"precision\")\n",
    "recall = evaluate.load(\"recall\")\n",
    "f1 = evaluate.load(\"f1\")\n",
    "\n",
    "def compute_metrics(pred):\n",
    "    logits, labels = pred\n",
    "    preds = np.argmax(logits, axis=-1)\n",
    "    return {\n",
    "        \"accuracy\":  accuracy.compute(predictions=preds, references=labels)[\"accuracy\"], \n",
    "        \"precision\": precision.compute(predictions=preds, references=labels)[\"precision\"],\n",
    "        \"recall\":    recall.compute(predictions=preds, references=labels)[\"recall\"],\n",
    "        \"f1\":        f1.compute(predictions=preds, references=labels)[\"f1\"]\n",
    "    }\n"
   ]
  },
  {
   "cell_type": "markdown",
   "id": "5f9ff603",
   "metadata": {},
   "source": [
    "## ⚙️ Configuration de l'entraînement"
   ]
  },
  {
   "cell_type": "code",
   "execution_count": null,
   "id": "c1233b39",
   "metadata": {},
   "outputs": [],
   "source": [
    "\n",
    "from transformers import TrainingArguments\n",
    "\n",
    "training_args = TrainingArguments(\n",
    "    output_dir=\"./bert-spam-output\",\n",
    "    do_train=True,\n",
    "    do_eval=True,\n",
    "    eval_steps=500,\n",
    "    save_steps=500,\n",
    "    logging_dir=\"./logs\",\n",
    "    logging_steps=500,\n",
    "\n",
    "    per_device_train_batch_size=16,\n",
    "    per_device_eval_batch_size=16,\n",
    "    num_train_epochs=3,\n",
    "    learning_rate=2e-5,\n",
    "    weight_decay=0.01,\n",
    "    report_to=None,\n",
    "    save_total_limit=1,\n",
    ")\n"
   ]
  },
  {
   "cell_type": "markdown",
   "id": "0f9263d2",
   "metadata": {},
   "source": [
    "## 🚀 Entraînement du modèle BERT"
   ]
  },
  {
   "cell_type": "code",
   "execution_count": null,
   "id": "f75dd0a5",
   "metadata": {},
   "outputs": [],
   "source": [
    "\n",
    "from transformers import Trainer\n",
    "\n",
    "trainer = Trainer(\n",
    "    model=model,\n",
    "    args=training_args,\n",
    "    train_dataset=train_tok,\n",
    "    eval_dataset=val_tok,\n",
    "    compute_metrics=compute_metrics,\n",
    ")\n",
    "\n",
    "trainer.train()\n"
   ]
  },
  {
   "cell_type": "markdown",
   "id": "636409f4",
   "metadata": {},
   "source": [
    "## 📊 Évaluation finale"
   ]
  },
  {
   "cell_type": "code",
   "execution_count": null,
   "id": "c0443b8a",
   "metadata": {},
   "outputs": [],
   "source": [
    "\n",
    "metrics = trainer.evaluate()\n",
    "print(metrics)\n"
   ]
  },
  {
   "cell_type": "markdown",
   "id": "84615695",
   "metadata": {},
   "source": [
    "## 🧠 Lecture métier\n",
    "\n",
    "- **Accuracy** : part globale de bonnes prédictions\n",
    "- **Recall** : capacité à repérer les *spams* (important pour ne rien laisser passer)\n",
    "- **Precision** : capacité à ne pas classer à tort un *ham* comme spam\n",
    "\n",
    "🔍 Un bon modèle aura un **F1-score élevé** : bon équilibre entre rappel et précision."
   ]
  },
  {
   "cell_type": "markdown",
   "id": "2d26fb8e",
   "metadata": {},
   "source": [
    "## 🧩 Visualisation : Matrice de confusion"
   ]
  },
  {
   "cell_type": "code",
   "execution_count": null,
   "id": "0a30107e",
   "metadata": {},
   "outputs": [],
   "source": [
    "\n",
    "from sklearn.metrics import confusion_matrix, ConfusionMatrixDisplay\n",
    "import matplotlib.pyplot as plt\n",
    "\n",
    "# Prédictions sur l'ensemble de validation\n",
    "predictions = trainer.predict(val_tok)\n",
    "y_pred = predictions.predictions.argmax(axis=-1)\n",
    "y_true = predictions.label_ids\n",
    "\n",
    "# Matrice de confusion\n",
    "cm = confusion_matrix(y_true, y_pred)\n",
    "disp = ConfusionMatrixDisplay(confusion_matrix=cm, display_labels=[\"Ham\", \"Spam\"])\n",
    "\n",
    "plt.figure(figsize=(6,6))\n",
    "disp.plot(cmap=plt.cm.Blues, values_format='d')\n",
    "plt.title(\"Matrice de confusion - Validation\")\n",
    "plt.show()\n"
   ]
  },
  {
   "cell_type": "markdown",
   "id": "fdde8f93",
   "metadata": {},
   "source": [
    "## 🚀 Intégration (facultative) avec Weights & Biases"
   ]
  },
  {
   "cell_type": "code",
   "execution_count": null,
   "id": "25fc2e76",
   "metadata": {},
   "outputs": [],
   "source": [
    "\n",
    "# Optionnel : activer Weights & Biases (nécessite un compte)\n",
    "# pip install wandb\n",
    "# import wandb\n",
    "# wandb.login()\n",
    "\n",
    "# Ensuite, dans TrainingArguments :\n",
    "# report_to=\"wandb\"\n"
   ]
  }
 ],
 "metadata": {},
 "nbformat": 4,
 "nbformat_minor": 5
}
