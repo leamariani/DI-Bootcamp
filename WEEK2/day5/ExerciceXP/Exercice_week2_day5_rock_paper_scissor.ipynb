{
 "cells": [
  {
   "cell_type": "code",
   "execution_count": 3,
   "id": "9c3262ba",
   "metadata": {},
   "outputs": [
    {
     "name": "stdout",
     "output_type": "stream",
     "text": [
      "Defaulting to user installation because normal site-packages is not writeable\n",
      "Collecting game\n",
      "  Downloading game-0.0.5-py3-none-any.whl (8.3 MB)\n",
      "\u001b[K     |████████████████████████████████| 8.3 MB 10.6 MB/s eta 0:00:01\n",
      "\u001b[?25hInstalling collected packages: game\n",
      "Successfully installed game-0.0.5\n",
      "\u001b[33mWARNING: You are using pip version 21.2.4; however, version 25.1.1 is available.\n",
      "You should consider upgrading via the '/Library/Developer/CommandLineTools/usr/bin/python3 -m pip install --upgrade pip' command.\u001b[0m\n",
      "Note: you may need to restart the kernel to use updated packages.\n"
     ]
    }
   ],
   "source": [
    "pip install game"
   ]
  },
  {
   "cell_type": "code",
   "execution_count": 4,
   "id": "f819b1d0",
   "metadata": {},
   "outputs": [],
   "source": [
    "import random\n",
    "\n",
    "class Game:\n",
    "    def __init__(self):\n",
    "        self.options = ['rock', 'paper', 'scissors']\n",
    "\n",
    "    def get_user_item(self):\n",
    "        while True:\n",
    "            user_input = input(\"Choose rock, paper or scissors: \").lower()\n",
    "            if user_input in self.options:\n",
    "                return user_input\n",
    "            else:\n",
    "                print(\"❗ Invalid input. Please try again.\")\n",
    "\n",
    "    def get_computer_item(self):\n",
    "        return random.choice(self.options)\n",
    "\n",
    "    def get_game_result(self, user_item, computer_item):\n",
    "        if user_item == computer_item:\n",
    "            return 'draw'\n",
    "        elif (\n",
    "            (user_item == 'rock' and computer_item == 'scissors') or\n",
    "            (user_item == 'paper' and computer_item == 'rock') or\n",
    "            (user_item == 'scissors' and computer_item == 'paper')\n",
    "        ):\n",
    "            return 'win'\n",
    "        else:\n",
    "            return 'loss'\n",
    "\n",
    "    def play(self):\n",
    "        user_item = self.get_user_item()\n",
    "        computer_item = self.get_computer_item()\n",
    "        result = self.get_game_result(user_item, computer_item)\n",
    "\n",
    "        # Output result\n",
    "        if result == 'win':\n",
    "            print(f\"You selected {user_item}. The computer selected {computer_item}. You win!\")\n",
    "        elif result == 'loss':\n",
    "            print(f\"You selected {user_item}. The computer selected {computer_item}. You lose.\")\n",
    "        else:\n",
    "            print(f\"You selected {user_item}. The computer selected {computer_item}. It's a draw.\")\n",
    "\n",
    "        return result\n"
   ]
  },
  {
   "cell_type": "code",
   "execution_count": 5,
   "id": "21ad18cf",
   "metadata": {},
   "outputs": [
    {
     "ename": "ImportError",
     "evalue": "cannot import name 'Game' from 'game' (/Users/leamariani/Library/Python/3.9/lib/python/site-packages/game/__init__.py)",
     "output_type": "error",
     "traceback": [
      "\u001b[0;31m---------------------------------------------------------------------------\u001b[0m",
      "\u001b[0;31mImportError\u001b[0m                               Traceback (most recent call last)",
      "Cell \u001b[0;32mIn[5], line 1\u001b[0m\n\u001b[0;32m----> 1\u001b[0m \u001b[38;5;28;01mfrom\u001b[39;00m\u001b[38;5;250m \u001b[39m\u001b[38;5;21;01mgame\u001b[39;00m\u001b[38;5;250m \u001b[39m\u001b[38;5;28;01mimport\u001b[39;00m Game\n\u001b[1;32m      3\u001b[0m \u001b[38;5;28;01mdef\u001b[39;00m\u001b[38;5;250m \u001b[39m\u001b[38;5;21mget_user_menu_choice\u001b[39m():\n\u001b[1;32m      4\u001b[0m     \u001b[38;5;28mprint\u001b[39m(\u001b[38;5;124m\"\u001b[39m\u001b[38;5;130;01m\\n\u001b[39;00m\u001b[38;5;124m📋 Menu:\u001b[39m\u001b[38;5;124m\"\u001b[39m)\n",
      "\u001b[0;31mImportError\u001b[0m: cannot import name 'Game' from 'game' (/Users/leamariani/Library/Python/3.9/lib/python/site-packages/game/__init__.py)"
     ]
    }
   ],
   "source": [
    "from game import Game\n",
    "\n",
    "def get_user_menu_choice():\n",
    "    print(\"\\n📋 Menu:\")\n",
    "    print(\"1 - Play a new game\")\n",
    "    print(\"2 - Show scores\")\n",
    "    print(\"x - Exit\")\n",
    "    choice = input(\"Enter your choice: \").lower()\n",
    "    if choice in ['1', '2', 'x']:\n",
    "        return choice\n",
    "    else:\n",
    "        print(\"❗ Invalid choice. Please select 1, 2 or x.\")\n",
    "        return None\n",
    "\n",
    "def print_results(results):\n",
    "    print(\"\\n📊 Game Results Summary:\")\n",
    "    print(f\"Wins: {results['win']}\")\n",
    "    print(f\"Losses: {results['loss']}\")\n",
    "    print(f\"Draws: {results['draw']}\")\n",
    "    print(\"🙏 Thank you for playing Rock-Paper-Scissors!\")\n",
    "\n",
    "def main():\n",
    "    results = {'win': 0, 'loss': 0, 'draw': 0}\n",
    "\n",
    "    while True:\n",
    "        choice = get_user_menu_choice()\n",
    "        if choice is None:\n",
    "            continue\n",
    "\n",
    "        if choice == '1':\n",
    "            game = Game()\n",
    "            result = game.play()\n",
    "            results[result] += 1\n",
    "\n",
    "        elif choice == '2':\n",
    "            print_results(results)\n",
    "\n",
    "        elif choice == 'x':\n",
    "            print_results(results)\n",
    "            break\n",
    "\n",
    "if __name__ == '__main__':\n",
    "    main()\n"
   ]
  },
  {
   "cell_type": "code",
   "execution_count": null,
   "id": "16d4ebfc",
   "metadata": {},
   "outputs": [],
   "source": []
  }
 ],
 "metadata": {
  "kernelspec": {
   "display_name": "Python 3",
   "language": "python",
   "name": "python3"
  },
  "language_info": {
   "codemirror_mode": {
    "name": "ipython",
    "version": 3
   },
   "file_extension": ".py",
   "mimetype": "text/x-python",
   "name": "python",
   "nbconvert_exporter": "python",
   "pygments_lexer": "ipython3",
   "version": "3.9.6"
  }
 },
 "nbformat": 4,
 "nbformat_minor": 5
}
