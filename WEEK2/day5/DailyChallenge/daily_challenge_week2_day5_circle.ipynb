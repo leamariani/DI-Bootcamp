{
 "cells": [
  {
   "cell_type": "markdown",
   "id": "bf4d4792",
   "metadata": {},
   "source": [
    "Business Intelligence Challenge: Strategic Analysis of Superstore Performance\n",
    "Objective: This exercise is a case study in practical data analysis. You will act as a data analyst for a national retail company, tasked with analyzing the US Superstore dataset. Your goal is to move beyond descriptive plotting to produce diagnostic insights and formulate data-driven recommendations that can inform business strategy.\n",
    "Key Competencies:\n",
    "Strategic Inquiry: Translate broad business objectives into specific, testable questions.\n",
    "Data Storytelling: Develop a clear and compelling narrative supported by visualizations.\n",
    "Tool Proficiency: Differentiate between exploratory and explanatory analysis, selecting the right tool (Matplotlib for deep dives, Seaborn for clear communication).\n",
    "Actionable Insights: Formulate concrete recommendations based on your analytical findings.\n",
    "Project Brief\n",
    "Phase 1: Data Scoping and Preparation\n",
    "A reliable analysis is built on a foundation of clean, well-understood data.\n",
    "Data Ingestion and Initial Assessment:\n",
    "Download and load the US Superstore dataset.\n",
    "Perform an initial data review using .info(), .describe(), and .isnull().sum().\n",
    "Guiding Questions: What is the data type of the date columns? What is the time frame of this dataset? Are there significant gaps in the data that could compromise the analysis?\n",
    "Data Cleaning and Preprocessing:\n",
    "Address any missing values or duplicates. In your documentation, you must justify your methodology. Explain why you chose to drop, fill, or otherwise impute data for each specific case.\n",
    "Ensure data types are correct, particularly converting date columns to datetime objects for time-series analysis.\n",
    "Feature Engineering:\n",
    "To enable deeper analysis, create new features from the existing data. At a minimum, create:\n",
    "Profit Margin calculated as (Profit / Sales) * 100.\n",
    "Order Year and Order Month extracted from the primary date column.\n",
    "Phase 2: Exploratory Analysis with Matplotlib\n",
    "In this phase, you use Matplotlib for its control and flexibility to conduct a deep, interactive exploration of the data.\n",
    "Time-Series Trend Investigation:\n",
    "Create a line chart of total Sales aggregated by month across all years.\n",
    "Technical Requirement: Enhance this chart with interactivity. Using a library like ipywidgets, add a dropdown filter for Product Category. This will allow for dynamic comparison of sales trends between categories.\n",
    "Analytical Focus: Document your findings. Identify any evidence of seasonality, long-term growth or decline, and significant differences in trends between product categories.\n",
    "Geographic Performance Analysis:\n",
    "Visualize total sales by State. A sorted bar chart is a good starting point.\n",
    "Technical Requirement: Create an interactive control, such as a slider, to dynamically display the \"Top N\" performing states. This simulates a common dashboard feature for filtering and ranking.\n",
    "Analytical Focus: Identify the top revenue-generating states. Are sales concentrated in a few key markets, or are they widely distributed? Note any states that appear to be underperforming relative to their population or region.\n",
    "Phase 3: Communicating Findings with Seaborn\n",
    "Now, shift your focus from exploration to communication. Use Seaborn to create polished, presentation-ready visualizations designed to convey clear messages to a business audience.\n",
    "Product Profitability Report:\n",
    "Generate a horizontal bar chart displaying the Top 10 Most Profitable Products.\n",
    "Presentation Requirement: This chart is intended for an executive summary. It must be clear and impactful. Use a descriptive title, label axes correctly, and annotate each bar with its corresponding profit value to eliminate ambiguity.\n",
    "Discount Strategy Analysis:\n",
    "Create a scatter plot to examine the relationship between Discount and Profit.\n",
    "Analytical Requirement: A simple scatter plot is insufficient. Use the hue parameter to color the data points by Product Category. This will reveal whether the impact of discounting is uniform across the business. Consider adding a regression line (regplot) to clarify the trend.\n",
    "Analytical Focus: What is the relationship between discounts and profitability? Does this relationship vary by category? Identify the point at which discounts begin to consistently result in losses. This analysis is critical for providing actionable advice.\n",
    "Phase 4: Methodology and Tooling Review\n",
    "A key skill for a senior analyst is understanding the strengths and weaknesses of their tools.\n",
    "Comparative Evaluation: In a markdown cell, provide a concise comparison of Matplotlib and Seaborn based on this project. Address the following:\n",
    "Efficiency: How quickly could you create a functional vs. a presentation-quality visual in each?\n",
    "Control vs. Convention: Where did Matplotlib's granular control prove essential? Where did Seaborn's high-level API accelerate your work?\n",
    "Tool Selection Criteria: Based on your experience, document a clear policy for your future work. For example: \"For initial, multi-faceted data exploration, I will primarily use [Library] because... For final reporting to non-technical stakeholders, I will prefer [Library] because...\"\n",
    "Phase 5: Final Deliverable\n",
    "Your final output is a Jupyter Notebook that serves as a complete report of your analysis.\n",
    "Professional Structure: Organize your notebook with clear headings, markdown explanations for each step, and clean, commented code. The notebook should be easily readable by a colleague.\n",
    "Executive Summary: At the top of the notebook, provide a concise summary of your key findings and recommendations, written for a management audience. Use 3-5 bullet points to highlight the most critical insights.\n",
    "Example Finding: \"Analysis reveals a strong negative correlation between discount rates above 20% and profitability, particularly within the 'Furniture' category, which becomes consistently unprofitable at these discount levels.\"\n",
    "Example Recommendation: \"Recommend capping the standard discount for all furniture items at 20% and implementing a formal review process for any exceptions.\"\n",
    "Optional Advanced Challenges\n",
    "Integrated Dashboard: Use ipywidgets or Voilà to combine two or more of your charts into a single interactive dashboard view. For example, selecting a state could update a chart showing the product category breakdown for that state.\n",
    "Outlier Annotation: On your Discount vs. Profit scatter plot, programmatically identify and annotate the top 3 most profitable and top 3 least profitable transactions. What products were they, and what were the circumstances?\n",
    "Alternative Tooling: Re-create one of the interactive charts using Plotly Express. Briefly comment on its advantages and disadvantages compared to the Matplotlib/ipywidgets combination.\n",
    "\n"
   ]
  },
  {
   "cell_type": "code",
   "execution_count": 1,
   "id": "c2be2073",
   "metadata": {},
   "outputs": [
    {
     "name": "stdout",
     "output_type": "stream",
     "text": [
      "Defaulting to user installation because normal site-packages is not writeable\n",
      "Requirement already satisfied: xlrd in /Users/leamariani/Library/Python/3.9/lib/python/site-packages (2.0.2)\n",
      "\u001b[33mWARNING: You are using pip version 21.2.4; however, version 25.1.1 is available.\n",
      "You should consider upgrading via the '/Library/Developer/CommandLineTools/usr/bin/python3 -m pip install --upgrade pip' command.\u001b[0m\n",
      "Note: you may need to restart the kernel to use updated packages.\n"
     ]
    }
   ],
   "source": [
    "pip install xlrd"
   ]
  },
  {
   "cell_type": "markdown",
   "id": "0163dbf4",
   "metadata": {},
   "source": [
    "The goal is to create a class that represents a simple circle.\n",
    "A Circle can be defined by either specifying the radius or the diameter.\n",
    "The user can query the circle for either its radius or diameter.\n",
    "\n",
    "Other abilities of a Circle instance:\n",
    "\n",
    "Compute the circle’s area\n",
    "Print the attributes of the circle - use a dunder method\n",
    "Be able to add two circles together, and return a new circle with the new radius - use a dunder method\n",
    "Be able to compare two circles to see which is bigger, and return a Boolean - use a dunder method\n",
    "Be able to compare two circles and see if there are equal, and return a Boolean- use a dunder method\n",
    "Be able to put them in a list and sort them\n",
    "Bonus (not mandatory) : Install the Turtle module, and draw the sorted circles\n"
   ]
  },
  {
   "cell_type": "code",
   "execution_count": 2,
   "id": "3c9f32d5",
   "metadata": {},
   "outputs": [
    {
     "name": "stdout",
     "output_type": "stream",
     "text": [
      "Circle with radius: 3.00, diameter: 6.00, area: 28.27\n",
      "78.53981633974483\n",
      "Circle with radius: 8.00, diameter: 16.00, area: 201.06\n",
      "False\n",
      "False\n",
      "Circle with radius: 3.00, diameter: 6.00, area: 28.27\n",
      "Circle with radius: 5.00, diameter: 10.00, area: 78.54\n",
      "Circle with radius: 8.00, diameter: 16.00, area: 201.06\n"
     ]
    }
   ],
   "source": [
    "import math\n",
    "\n",
    "class Circle:\n",
    "    def __init__(self, radius=None, diameter=None):\n",
    "        if radius:\n",
    "            self.radius = radius\n",
    "        elif diameter:\n",
    "            self.radius = diameter / 2\n",
    "        else:\n",
    "            raise ValueError(\"You must provide either radius or diameter.\")\n",
    "\n",
    "    @property\n",
    "    def diameter(self):\n",
    "        return self.radius * 2\n",
    "\n",
    "    def area(self):\n",
    "        return math.pi * self.radius ** 2\n",
    "\n",
    "    def __str__(self):\n",
    "        return f\"Circle with radius: {self.radius:.2f}, diameter: {self.diameter:.2f}, area: {self.area():.2f}\"\n",
    "\n",
    "    def __add__(self, other):\n",
    "        return Circle(radius=self.radius + other.radius)\n",
    "\n",
    "    def __gt__(self, other):\n",
    "        return self.radius > other.radius\n",
    "\n",
    "    def __eq__(self, other):\n",
    "        return self.radius == other.radius\n",
    "\n",
    "    def __lt__(self, other):\n",
    "        return self.radius < other.radius  # needed for sorting\n",
    "\n",
    "# --- Example Usage ---\n",
    "c1 = Circle(radius=3)\n",
    "c2 = Circle(diameter=10)\n",
    "\n",
    "print(c1)             # Uses __str__\n",
    "print(c2.area())      # Area of second circle\n",
    "\n",
    "c3 = c1 + c2          # Adds radii\n",
    "print(c3)\n",
    "\n",
    "print(c1 > c2)        # Comparison\n",
    "print(c1 == c2)\n",
    "\n",
    "# --- Sorting ---\n",
    "circles = [c2, c1, c3]\n",
    "circles.sort()\n",
    "for c in circles:\n",
    "    print(c)\n"
   ]
  }
 ],
 "metadata": {
  "kernelspec": {
   "display_name": "Python 3",
   "language": "python",
   "name": "python3"
  },
  "language_info": {
   "codemirror_mode": {
    "name": "ipython",
    "version": 3
   },
   "file_extension": ".py",
   "mimetype": "text/x-python",
   "name": "python",
   "nbconvert_exporter": "python",
   "pygments_lexer": "ipython3",
   "version": "3.9.6"
  }
 },
 "nbformat": 4,
 "nbformat_minor": 5
}
