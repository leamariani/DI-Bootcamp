{
 "cells": [
  {
   "cell_type": "code",
   "execution_count": 1,
   "id": "014e301f",
   "metadata": {},
   "outputs": [],
   "source": [
    "#Exercise 1: Duplicate Detection and Removal"
   ]
  },
  {
   "cell_type": "code",
   "execution_count": 2,
   "id": "f161fa75",
   "metadata": {},
   "outputs": [],
   "source": [
    "import pandas as pd"
   ]
  },
  {
   "cell_type": "code",
   "execution_count": 3,
   "id": "375a8998",
   "metadata": {},
   "outputs": [],
   "source": [
    "titanic_df = pd.read_csv('titanic.csv')"
   ]
  },
  {
   "cell_type": "code",
   "execution_count": 4,
   "id": "97ab8b1e",
   "metadata": {},
   "outputs": [
    {
     "data": {
      "text/html": [
       "<div>\n",
       "<style scoped>\n",
       "    .dataframe tbody tr th:only-of-type {\n",
       "        vertical-align: middle;\n",
       "    }\n",
       "\n",
       "    .dataframe tbody tr th {\n",
       "        vertical-align: top;\n",
       "    }\n",
       "\n",
       "    .dataframe thead th {\n",
       "        text-align: right;\n",
       "    }\n",
       "</style>\n",
       "<table border=\"1\" class=\"dataframe\">\n",
       "  <thead>\n",
       "    <tr style=\"text-align: right;\">\n",
       "      <th></th>\n",
       "      <th>PassengerId</th>\n",
       "      <th>Survived</th>\n",
       "      <th>Pclass</th>\n",
       "      <th>Name</th>\n",
       "      <th>Sex</th>\n",
       "      <th>Age</th>\n",
       "      <th>SibSp</th>\n",
       "      <th>Parch</th>\n",
       "      <th>Ticket</th>\n",
       "      <th>Fare</th>\n",
       "      <th>Cabin</th>\n",
       "      <th>Embarked</th>\n",
       "    </tr>\n",
       "  </thead>\n",
       "  <tbody>\n",
       "    <tr>\n",
       "      <th>0</th>\n",
       "      <td>1</td>\n",
       "      <td>0</td>\n",
       "      <td>3</td>\n",
       "      <td>Braund, Mr. Owen Harris</td>\n",
       "      <td>male</td>\n",
       "      <td>22.0</td>\n",
       "      <td>1</td>\n",
       "      <td>0</td>\n",
       "      <td>A/5 21171</td>\n",
       "      <td>7.2500</td>\n",
       "      <td>NaN</td>\n",
       "      <td>S</td>\n",
       "    </tr>\n",
       "    <tr>\n",
       "      <th>1</th>\n",
       "      <td>2</td>\n",
       "      <td>1</td>\n",
       "      <td>1</td>\n",
       "      <td>Cumings, Mrs. John Bradley (Florence Briggs Th...</td>\n",
       "      <td>female</td>\n",
       "      <td>38.0</td>\n",
       "      <td>1</td>\n",
       "      <td>0</td>\n",
       "      <td>PC 17599</td>\n",
       "      <td>71.2833</td>\n",
       "      <td>C85</td>\n",
       "      <td>C</td>\n",
       "    </tr>\n",
       "    <tr>\n",
       "      <th>2</th>\n",
       "      <td>3</td>\n",
       "      <td>1</td>\n",
       "      <td>3</td>\n",
       "      <td>Heikkinen, Miss. Laina</td>\n",
       "      <td>female</td>\n",
       "      <td>26.0</td>\n",
       "      <td>0</td>\n",
       "      <td>0</td>\n",
       "      <td>STON/O2. 3101282</td>\n",
       "      <td>7.9250</td>\n",
       "      <td>NaN</td>\n",
       "      <td>S</td>\n",
       "    </tr>\n",
       "    <tr>\n",
       "      <th>3</th>\n",
       "      <td>4</td>\n",
       "      <td>1</td>\n",
       "      <td>1</td>\n",
       "      <td>Futrelle, Mrs. Jacques Heath (Lily May Peel)</td>\n",
       "      <td>female</td>\n",
       "      <td>35.0</td>\n",
       "      <td>1</td>\n",
       "      <td>0</td>\n",
       "      <td>113803</td>\n",
       "      <td>53.1000</td>\n",
       "      <td>C123</td>\n",
       "      <td>S</td>\n",
       "    </tr>\n",
       "    <tr>\n",
       "      <th>4</th>\n",
       "      <td>5</td>\n",
       "      <td>0</td>\n",
       "      <td>3</td>\n",
       "      <td>Allen, Mr. William Henry</td>\n",
       "      <td>male</td>\n",
       "      <td>35.0</td>\n",
       "      <td>0</td>\n",
       "      <td>0</td>\n",
       "      <td>373450</td>\n",
       "      <td>8.0500</td>\n",
       "      <td>NaN</td>\n",
       "      <td>S</td>\n",
       "    </tr>\n",
       "  </tbody>\n",
       "</table>\n",
       "</div>"
      ],
      "text/plain": [
       "   PassengerId  Survived  Pclass  \\\n",
       "0            1         0       3   \n",
       "1            2         1       1   \n",
       "2            3         1       3   \n",
       "3            4         1       1   \n",
       "4            5         0       3   \n",
       "\n",
       "                                                Name     Sex   Age  SibSp  \\\n",
       "0                            Braund, Mr. Owen Harris    male  22.0      1   \n",
       "1  Cumings, Mrs. John Bradley (Florence Briggs Th...  female  38.0      1   \n",
       "2                             Heikkinen, Miss. Laina  female  26.0      0   \n",
       "3       Futrelle, Mrs. Jacques Heath (Lily May Peel)  female  35.0      1   \n",
       "4                           Allen, Mr. William Henry    male  35.0      0   \n",
       "\n",
       "   Parch            Ticket     Fare Cabin Embarked  \n",
       "0      0         A/5 21171   7.2500   NaN        S  \n",
       "1      0          PC 17599  71.2833   C85        C  \n",
       "2      0  STON/O2. 3101282   7.9250   NaN        S  \n",
       "3      0            113803  53.1000  C123        S  \n",
       "4      0            373450   8.0500   NaN        S  "
      ]
     },
     "execution_count": 4,
     "metadata": {},
     "output_type": "execute_result"
    }
   ],
   "source": [
    "titanic_df.head()"
   ]
  },
  {
   "cell_type": "code",
   "execution_count": 6,
   "id": "c2234906",
   "metadata": {},
   "outputs": [],
   "source": [
    "# Store the original number of rows\n",
    "original_row_count = titanic_df.shape[0]"
   ]
  },
  {
   "cell_type": "code",
   "execution_count": 10,
   "id": "f7602657",
   "metadata": {},
   "outputs": [],
   "source": [
    "# Identify duplicate rows\n",
    "duplicate_rows = titanic_df[titanic_df.duplicated()]"
   ]
  },
  {
   "cell_type": "code",
   "execution_count": 11,
   "id": "5f56b603",
   "metadata": {},
   "outputs": [],
   "source": [
    "# Remove duplicate rows\n",
    "titanic_df_cleaned = titanic_df.drop_duplicates()"
   ]
  },
  {
   "cell_type": "code",
   "execution_count": 12,
   "id": "9b57491b",
   "metadata": {},
   "outputs": [],
   "source": [
    "# Store the new number of rows after removal\n",
    "new_row_count = titanic_df_cleaned.shape[0]\n"
   ]
  },
  {
   "cell_type": "code",
   "execution_count": 14,
   "id": "81243425",
   "metadata": {},
   "outputs": [
    {
     "data": {
      "text/plain": [
       "(Empty DataFrame\n",
       " Columns: [PassengerId, Survived, Pclass, Name, Sex, Age, SibSp, Parch, Ticket, Fare, Cabin, Embarked]\n",
       " Index: [],\n",
       " {'Original Row Count': 891,\n",
       "  'Duplicate Rows Found': 0,\n",
       "  'New Row Count After Removal': 891})"
      ]
     },
     "execution_count": 14,
     "metadata": {},
     "output_type": "execute_result"
    }
   ],
   "source": [
    "# Prepare a summary of the operation\n",
    "summary = {\n",
    "    \"Original Row Count\": original_row_count,\n",
    "    \"Duplicate Rows Found\": duplicate_rows.shape[0],\n",
    "    \"New Row Count After Removal\": new_row_count\n",
    "}\n",
    "\n",
    "duplicate_rows.head(), summary"
   ]
  },
  {
   "cell_type": "code",
   "execution_count": 17,
   "id": "fc804d01",
   "metadata": {},
   "outputs": [],
   "source": [
    "#Exercise 2: Handling Missing Values\n",
    "#Identify columns in the Titanic dataset with missing values.\n",
    "\n",
    "from sklearn.impute import SimpleImputer"
   ]
  },
  {
   "cell_type": "code",
   "execution_count": 19,
   "id": "dfd42bcb",
   "metadata": {},
   "outputs": [],
   "source": [
    "# 1. Identify columns with missing values\n",
    "missing_summary = titanic_df.isnull().sum()\n",
    "columns_with_missing = missing_summary[missing_summary > 0]"
   ]
  },
  {
   "cell_type": "code",
   "execution_count": null,
   "id": "d3ac458b",
   "metadata": {},
   "outputs": [],
   "source": [
    "#Remove rows with missing values (example: Cabin, which has many NaNs)\n",
    "df_dropped = titanic_df.dropna(subset=['Cabin'])"
   ]
  },
  {
   "cell_type": "code",
   "execution_count": 26,
   "id": "69f9de3a",
   "metadata": {},
   "outputs": [
    {
     "name": "stderr",
     "output_type": "stream",
     "text": [
      "/var/folders/wz/7t3z91_d40z_sxhmmsv87j100000gn/T/ipykernel_11299/2543982922.py:2: FutureWarning: A value is trying to be set on a copy of a DataFrame or Series through chained assignment using an inplace method.\n",
      "The behavior will change in pandas 3.0. This inplace method will never work because the intermediate object on which we are setting values always behaves as a copy.\n",
      "\n",
      "For example, when doing 'df[col].method(value, inplace=True)', try using 'df.method({col: value}, inplace=True)' or df[col] = df[col].method(value) instead, to perform the operation inplace on the original object.\n",
      "\n",
      "\n",
      "  df_filled_constant['Embarked'].fillna('S', inplace=True)\n"
     ]
    }
   ],
   "source": [
    "df_filled_constant = titanic_df.copy()\n",
    "df_filled_constant['Embarked'].fillna('S', inplace=True)"
   ]
  },
  {
   "cell_type": "code",
   "execution_count": 29,
   "id": "bcbcbd23",
   "metadata": {},
   "outputs": [],
   "source": [
    "imputer = SimpleImputer(strategy='median')\n",
    "df_imputed = titanic_df.copy()\n",
    "df_imputed['Age'] = imputer.fit_transform(titanic_df[['Age']])"
   ]
  },
  {
   "cell_type": "code",
   "execution_count": 30,
   "id": "df7303d9",
   "metadata": {},
   "outputs": [
    {
     "data": {
      "text/plain": [
       "{'Missing Values Summary': Age         177\n",
       " Cabin       687\n",
       " Embarked      2\n",
       " dtype: int64,\n",
       " \"After Dropping 'Cabin' NaNs\": 204,\n",
       " \"After Filling 'Embarked'\": np.int64(0),\n",
       " \"After Imputing 'Age'\": np.int64(0)}"
      ]
     },
     "execution_count": 30,
     "metadata": {},
     "output_type": "execute_result"
    }
   ],
   "source": [
    "# Summary of missing values before and examples of handling them\n",
    "{\n",
    "    \"Missing Values Summary\": columns_with_missing,\n",
    "    \"After Dropping 'Cabin' NaNs\": df_dropped.shape[0],\n",
    "    \"After Filling 'Embarked'\": df_filled_constant['Embarked'].isnull().sum(),\n",
    "    \"After Imputing 'Age'\": df_imputed['Age'].isnull().sum()\n",
    "}"
   ]
  },
  {
   "cell_type": "code",
   "execution_count": null,
   "id": "f9f83c18",
   "metadata": {},
   "outputs": [],
   "source": [
    "#Exercise 3: Feature Engineering\n",
    "\n",
    "from sklearn.preprocessing import OneHotEncoder, LabelEncoder, StandardScaler"
   ]
  },
  {
   "cell_type": "code",
   "execution_count": 34,
   "id": "4d46e977",
   "metadata": {},
   "outputs": [],
   "source": [
    "# Make a copy to work on\n",
    "titanic_df_features = titanic_df.copy()"
   ]
  },
  {
   "cell_type": "code",
   "execution_count": 37,
   "id": "b4a7f313",
   "metadata": {},
   "outputs": [],
   "source": [
    "# 1. Create 'FamilySize' = SibSp + Parch + 1 (including self)\n",
    "titanic_df_features['FamilySize'] = titanic_df_features['SibSp'] + titanic_df_features['Parch'] + 1"
   ]
  },
  {
   "cell_type": "code",
   "execution_count": 38,
   "id": "67bc354d",
   "metadata": {},
   "outputs": [],
   "source": [
    "# 2. Extract 'Title' from 'Name'\n",
    "titanic_df_features['Title'] = titanic_df_features['Name'].str.extract(' ([A-Za-z]+)\\.', expand=False)"
   ]
  },
  {
   "cell_type": "code",
   "execution_count": 39,
   "id": "113797a5",
   "metadata": {},
   "outputs": [],
   "source": [
    "# Simplify rare titles\n",
    "rare_titles = titanic_df_features['Title'].value_counts()[titanic_df_features['Title'].value_counts() < 10].index\n",
    "titanic_df_features['Title'] = titanic_df_features['Title'].replace(rare_titles, 'Rare')\n"
   ]
  },
  {
   "cell_type": "code",
   "execution_count": 40,
   "id": "e287cf1f",
   "metadata": {},
   "outputs": [],
   "source": [
    "# 3. Encode categorical features\n",
    "# Label encode 'Sex' and 'Embarked' (simple)\n",
    "label_encoder = LabelEncoder()\n",
    "titanic_df_features['Sex'] = label_encoder.fit_transform(titanic_df_features['Sex'])\n",
    "titanic_df_features['Embarked'] = titanic_df_features['Embarked'].fillna('S')  # Fill missing if any\n",
    "titanic_df_features['Embarked'] = label_encoder.fit_transform(titanic_df_features['Embarked'])"
   ]
  },
  {
   "cell_type": "code",
   "execution_count": 41,
   "id": "87c76826",
   "metadata": {},
   "outputs": [],
   "source": [
    "# One-hot encode 'Title'\n",
    "titanic_df_features = pd.get_dummies(titanic_df_features, columns=['Title'])"
   ]
  },
  {
   "cell_type": "code",
   "execution_count": 42,
   "id": "51de3dbc",
   "metadata": {},
   "outputs": [],
   "source": [
    "# 4. Normalize numerical features (example: Age, Fare, FamilySize)\n",
    "scaler = StandardScaler()\n",
    "features_to_scale = ['Age', 'Fare', 'FamilySize']\n",
    "titanic_df_features[features_to_scale] = scaler.fit_transform(titanic_df_features[features_to_scale])"
   ]
  },
  {
   "cell_type": "code",
   "execution_count": 43,
   "id": "bf7547a0",
   "metadata": {},
   "outputs": [
    {
     "data": {
      "text/html": [
       "<div>\n",
       "<style scoped>\n",
       "    .dataframe tbody tr th:only-of-type {\n",
       "        vertical-align: middle;\n",
       "    }\n",
       "\n",
       "    .dataframe tbody tr th {\n",
       "        vertical-align: top;\n",
       "    }\n",
       "\n",
       "    .dataframe thead th {\n",
       "        text-align: right;\n",
       "    }\n",
       "</style>\n",
       "<table border=\"1\" class=\"dataframe\">\n",
       "  <thead>\n",
       "    <tr style=\"text-align: right;\">\n",
       "      <th></th>\n",
       "      <th>Sex</th>\n",
       "      <th>Embarked</th>\n",
       "      <th>FamilySize</th>\n",
       "      <th>Title_Master</th>\n",
       "      <th>Title_Miss</th>\n",
       "      <th>Title_Mr</th>\n",
       "      <th>Title_Mrs</th>\n",
       "      <th>Title_Rare</th>\n",
       "    </tr>\n",
       "  </thead>\n",
       "  <tbody>\n",
       "    <tr>\n",
       "      <th>0</th>\n",
       "      <td>1</td>\n",
       "      <td>2</td>\n",
       "      <td>0.059160</td>\n",
       "      <td>False</td>\n",
       "      <td>False</td>\n",
       "      <td>True</td>\n",
       "      <td>False</td>\n",
       "      <td>False</td>\n",
       "    </tr>\n",
       "    <tr>\n",
       "      <th>1</th>\n",
       "      <td>0</td>\n",
       "      <td>0</td>\n",
       "      <td>0.059160</td>\n",
       "      <td>False</td>\n",
       "      <td>False</td>\n",
       "      <td>False</td>\n",
       "      <td>True</td>\n",
       "      <td>False</td>\n",
       "    </tr>\n",
       "    <tr>\n",
       "      <th>2</th>\n",
       "      <td>0</td>\n",
       "      <td>2</td>\n",
       "      <td>-0.560975</td>\n",
       "      <td>False</td>\n",
       "      <td>True</td>\n",
       "      <td>False</td>\n",
       "      <td>False</td>\n",
       "      <td>False</td>\n",
       "    </tr>\n",
       "    <tr>\n",
       "      <th>3</th>\n",
       "      <td>0</td>\n",
       "      <td>2</td>\n",
       "      <td>0.059160</td>\n",
       "      <td>False</td>\n",
       "      <td>False</td>\n",
       "      <td>False</td>\n",
       "      <td>True</td>\n",
       "      <td>False</td>\n",
       "    </tr>\n",
       "    <tr>\n",
       "      <th>4</th>\n",
       "      <td>1</td>\n",
       "      <td>2</td>\n",
       "      <td>-0.560975</td>\n",
       "      <td>False</td>\n",
       "      <td>False</td>\n",
       "      <td>True</td>\n",
       "      <td>False</td>\n",
       "      <td>False</td>\n",
       "    </tr>\n",
       "  </tbody>\n",
       "</table>\n",
       "</div>"
      ],
      "text/plain": [
       "   Sex  Embarked  FamilySize  Title_Master  Title_Miss  Title_Mr  Title_Mrs  \\\n",
       "0    1         2    0.059160         False       False      True      False   \n",
       "1    0         0    0.059160         False       False     False       True   \n",
       "2    0         2   -0.560975         False        True     False      False   \n",
       "3    0         2    0.059160         False       False     False       True   \n",
       "4    1         2   -0.560975         False       False      True      False   \n",
       "\n",
       "   Title_Rare  \n",
       "0       False  \n",
       "1       False  \n",
       "2       False  \n",
       "3       False  \n",
       "4       False  "
      ]
     },
     "execution_count": 43,
     "metadata": {},
     "output_type": "execute_result"
    }
   ],
   "source": [
    "# Show final columns added and transformed\n",
    "titanic_df_features[['Sex', 'Embarked', 'FamilySize'] + list(titanic_df_features.columns[titanic_df_features.columns.str.startswith(\"Title_\")])].head()"
   ]
  },
  {
   "cell_type": "code",
   "execution_count": 45,
   "id": "fccbec50",
   "metadata": {},
   "outputs": [],
   "source": [
    "#Exercise 4: Outlier Detection and Handling\n",
    "\n",
    "#Use statistical methods to detect outliers in columns like Fare and Age.\n",
    "import pandas as pd\n",
    "import numpy as np\n"
   ]
  },
  {
   "cell_type": "code",
   "execution_count": 46,
   "id": "0a201144",
   "metadata": {},
   "outputs": [],
   "source": [
    "# 🔍 Fonction pour détecter les outliers avec la méthode IQR\n",
    "def detect_iqr_outliers(column):\n",
    "    Q1 = column.quantile(0.25)\n",
    "    Q3 = column.quantile(0.75)\n",
    "    IQR = Q3 - Q1\n",
    "    lower_bound = Q1 - 1.5 * IQR\n",
    "    upper_bound = Q3 + 1.5 * IQR\n",
    "    return (column < lower_bound) | (column > upper_bound)\n"
   ]
  },
  {
   "cell_type": "code",
   "execution_count": 48,
   "id": "4c07ad23",
   "metadata": {},
   "outputs": [
    {
     "name": "stdout",
     "output_type": "stream",
     "text": [
      "🎯 Outliers initiaux :\n",
      " - Fare : 116 outliers\n",
      " - Age  : 11 outliers\n"
     ]
    }
   ],
   "source": [
    "# Identifier les outliers dans 'Fare' et 'Age'\n",
    "outliers_fare = detect_iqr_outliers(titanic_df['Fare'])\n",
    "outliers_age = detect_iqr_outliers(titanic_df['Age'])\n",
    "\n",
    "print(\"🎯 Outliers initiaux :\")\n",
    "print(f\" - Fare : {outliers_fare.sum()} outliers\")\n",
    "print(f\" - Age  : {outliers_age.sum()} outliers\")\n"
   ]
  },
  {
   "cell_type": "code",
   "execution_count": 49,
   "id": "5656b428",
   "metadata": {},
   "outputs": [],
   "source": [
    "# ✂️ Fonction pour corriger les outliers (capping)\n",
    "def cap_outliers(column):\n",
    "    Q1 = column.quantile(0.25)\n",
    "    Q3 = column.quantile(0.75)\n",
    "    IQR = Q3 - Q1\n",
    "    lower_bound = Q1 - 1.5 * IQR\n",
    "    upper_bound = Q3 + 1.5 * IQR\n",
    "    return column.clip(lower=lower_bound, upper=upper_bound)"
   ]
  },
  {
   "cell_type": "code",
   "execution_count": 51,
   "id": "2188bdcf",
   "metadata": {},
   "outputs": [],
   "source": [
    "# Créer de nouvelles colonnes avec les valeurs corrigées\n",
    "titanic_df['Fare_capped'] = cap_outliers(titanic_df['Fare'])\n",
    "titanic_df['Age_capped'] = cap_outliers(titanic_df['Age'])"
   ]
  },
  {
   "cell_type": "code",
   "execution_count": 53,
   "id": "d0a154ae",
   "metadata": {},
   "outputs": [],
   "source": [
    "# Vérifier les nouveaux outliers\n",
    "new_outliers_fare = detect_iqr_outliers(titanic_df['Fare_capped']).sum()\n",
    "new_outliers_age = detect_iqr_outliers(titanic_df['Age_capped']).sum()\n"
   ]
  },
  {
   "cell_type": "code",
   "execution_count": 54,
   "id": "a0236807",
   "metadata": {},
   "outputs": [
    {
     "name": "stdout",
     "output_type": "stream",
     "text": [
      "\n",
      "✅ Après traitement (capping) :\n"
     ]
    }
   ],
   "source": [
    "print(\"\\n✅ Après traitement (capping) :\")"
   ]
  },
  {
   "cell_type": "code",
   "execution_count": 55,
   "id": "4c8281e2",
   "metadata": {},
   "outputs": [
    {
     "name": "stdout",
     "output_type": "stream",
     "text": [
      " - Fare : 0 outliers restants\n"
     ]
    }
   ],
   "source": [
    "print(f\" - Fare : {new_outliers_fare} outliers restants\")"
   ]
  },
  {
   "cell_type": "code",
   "execution_count": 56,
   "id": "5f67ac67",
   "metadata": {},
   "outputs": [
    {
     "name": "stdout",
     "output_type": "stream",
     "text": [
      " - Age  : 0 outliers restants\n"
     ]
    }
   ],
   "source": [
    "print(f\" - Age  : {new_outliers_age} outliers restants\")\n"
   ]
  },
  {
   "cell_type": "code",
   "execution_count": null,
   "id": "14625198",
   "metadata": {},
   "outputs": [],
   "source": []
  }
 ],
 "metadata": {
  "kernelspec": {
   "display_name": "Python 3",
   "language": "python",
   "name": "python3"
  },
  "language_info": {
   "codemirror_mode": {
    "name": "ipython",
    "version": 3
   },
   "file_extension": ".py",
   "mimetype": "text/x-python",
   "name": "python",
   "nbconvert_exporter": "python",
   "pygments_lexer": "ipython3",
   "version": "3.9.6"
  }
 },
 "nbformat": 4,
 "nbformat_minor": 5
}
