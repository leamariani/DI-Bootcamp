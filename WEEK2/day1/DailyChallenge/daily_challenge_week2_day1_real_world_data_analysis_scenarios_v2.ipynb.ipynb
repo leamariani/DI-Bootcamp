{
 "cells": [
  {
   "cell_type": "markdown",
   "id": "8bf1fcd0",
   "metadata": {},
   "source": [
    "# Daily challenge — Scénarios réels d'analyse de données (Solution)\n",
    "\n",
    "**Date :** 2025-08-18  \n",
    "**Auteur :** Étudiant·e — analyse guidée et sourcée"
   ]
  },
  {
   "cell_type": "markdown",
   "id": "1b55d1e4",
   "metadata": {},
   "source": [
    "## Ce que vous allez apprendre\n",
    "- Applications concrètes de l’analyse de données dans l’économie réelle.  \n",
    "- Comment l’analyse de données alimente la décision et résout des problèmes.  \n",
    "- Panorama de méthodes (prévision, optimisation, data fusion) et de leurs impacts.\n",
    "\n",
    "## Ce que vous allez produire\n",
    "- Une analyse détaillée du rôle et de l’impact de l’analyse de données dans un cas réel récent.  \n",
    "- Un plan de présentation réutilisable (type diaporama) pour exposer vos résultats."
   ]
  },
  {
   "cell_type": "markdown",
   "id": "c1559fb5",
   "metadata": {},
   "source": [
    "## Cas sélectionné (actualité récente)\n",
    "**Thème :** Données météo/océan NOAA utilisées par le commerce et la logistique (retail, constructeurs, livraison) pour planifier l’inventaire et optimiser les routes.  \n",
    "**Pourquoi ce cas ?** Il illustre une chaîne de valeur de données complète : collecte massive d’observations → analyses/prévisions → décisions opérationnelles (stocks, itinéraires, budget).\n",
    "\n",
    "**Sources principales (récentes)**\n",
    "- *The Washington Post* (23 mai 2025) : présentation du rôle économique des données NOAA (retail, logistique, pêche) et des risques liés à des coupes budgétaires. L’article cite des usages concrets par Honda, Conagra, Foot Locker, UPS, FedEx, et la pêche commerciale.  \n",
    "  Lien : https://www.washingtonpost.com/climate-environment/2025/05/23/government-weather-data-noaa-apps-retailers/\n",
    "\n",
    "> Remarque : Cette étude de cas se fonde sur cette source de presse nationale reconnue et vérifiable."
   ]
  },
  {
   "cell_type": "markdown",
   "id": "84022016",
   "metadata": {},
   "source": [
    "## Étape 1 — Recherche du cas\n",
    "- **Critères** : article récent (≤ 12–18 mois), source crédible, exemples concrets de décisions.  \n",
    "- **Résultat** : article du *Washington Post* (23/05/2025) décrivant comment les données NOAA (plus d’un milliard d’observations/jour) irriguent des décisions métiers dans le retail, l’automobile, la logistique et la pêche."
   ]
  },
  {
   "cell_type": "markdown",
   "id": "c98d8b44",
   "metadata": {},
   "source": [
    "## Étape 2 — Analyse du rôle de l’analyse de données\n",
    "**Quelles données ?**  \n",
    "- Observations météo et climatiques (satellites, stations, radars), prévisions et indices dérivés.  \n",
    "- Évaluations des stocks halieutiques pour quotas de pêche.  \n",
    "\n",
    "**Quelles méthodes d’analyse ?**  \n",
    "- Agrégation multi‑sources (data fusion), séries temporelles et prévision.  \n",
    "- Optimisation opérationnelle (planification d’itinéraires, allocation d’inventaire).  \n",
    "- Tableaux de bord décisionnels pour budgétisation et risques (ex. intempéries).\n",
    "\n",
    "**Quelles décisions ?**  \n",
    "- **Retail** : ajustements d’inventaire et de marketing selon météo prévue (ex. chaussures, vêtements, produits saisonniers).  \n",
    "- **Logistique** (UPS, FedEx) : **optimisation d’itinéraires** et des horaires pour réduire retards/coûts.  \n",
    "- **Industrie** (ex. Honda, Conagra) : planification de la production et des approvisionnements.  \n",
    "- **Pêche** : quotas et durabilité via évaluations scientifiques des stocks."
   ]
  },
  {
   "cell_type": "markdown",
   "id": "2fb4e938",
   "metadata": {},
   "source": [
    "## Étape 3 — Impact (et contrefactuel)\n",
    "**Impact observé/attendu**  \n",
    "- **Coûts** : baisse des coûts logistiques (meilleure planification), moindre sur‑stock/sous‑stock.  \n",
    "- **Service** : amélioration du taux de livraison à l’heure et de la disponibilité produit.  \n",
    "- **Risque** : meilleure anticipation d’événements météo extrêmes (sécurité, continuité).  \n",
    "- **Durabilité** : quotas de pêche basés sur données → protection des stocks et emplois.\n",
    "\n",
    "**Sans analyse de données, que se passerait‑il ?**  \n",
    "- Itinéraires sous‑optimaux, surcoûts carburant, retards.  \n",
    "- Stocks mal calibrés (ruptures, démarques).  \n",
    "- Décisions plus lentes et plus risquées face aux aléas météo."
   ]
  },
  {
   "cell_type": "markdown",
   "id": "93ee8896",
   "metadata": {},
   "source": [
    "## Étape 4 — Présentation écrite (synthèse)\n",
    "**Résumé (≤ 140 mots)**  \n",
    "Les données NOAA (observations et prévisions) alimentent des décisions clés dans le retail, l’industrie, la logistique et la pêche. Les entreprises ajustent stocks et promotions en fonction de la météo prévue, tandis que les transporteurs optimisent routes et horaires pour éviter retards et surcoûts. Les évaluations scientifiques des stocks soutiennent des quotas de pêche durables. Ces usages combinent agrégation de données, prévision et optimisation opérationnelle. L’impact se mesure en coûts logistiques réduits, meilleur service client et gestion des risques climatiques. Sans ces analyses, les acteurs subiraient plus d’aléas, de ruptures et de gaspillages.\n",
    "\n",
    "**Mots‑clés** : prévision météo, optimisation d’itinéraires, planification d’inventaire, data fusion, gestion des risques."
   ]
  },
  {
   "cell_type": "markdown",
   "id": "0f7ddb6d",
   "metadata": {},
   "source": [
    "## Tableau d’analyse — Complété\n",
    "\n",
    "| Élément | Détails |\n",
    "|---|---|\n",
    "| **Contexte du cas** | Usage des données NOAA par retail/logistique/pêche pour planifier et optimiser |\n",
    "| **Source et date** | *Washington Post*, 23/05/2025 |\n",
    "| **Données utilisées** | Observations/prévisions météo, indices climatiques, évaluations stocks halieutiques |\n",
    "| **Méthodes d’analyse** | Agrégation multi‑sources, séries temporelles, optimisation opérationnelle |\n",
    "| **Résultats clés** | Moins de retards et de surcoûts, stocks mieux calibrés, quotas durables |\n",
    "| **Décisions prises** | Ajustement inventaire/marketing, choix d’itinéraires et horaires, plan industriel |\n",
    "| **Impact mesuré** | Gains d’efficacité, amélioration service, résilience face aux aléas |\n",
    "| **Limites et risques** | Dépendance aux financements publics des données ; qualité/couverture variable |\n",
    "| **Sans l’analyse** | Plus de ruptures, retards, gaspillage ; décisions plus incertaines |"
   ]
  },
  {
   "cell_type": "markdown",
   "id": "c0b54461",
   "metadata": {},
   "source": [
    "## Plan de présentation (réutilisable)\n",
    "1. **Problématique** : décisions météo‑sensibles dans retail/logistique/pêche.  \n",
    "2. **Données** : sources NOAA et indicateurs dérivés.  \n",
    "3. **Méthodes** : prévision météo, optimisation d’itinéraires, planification d’inventaire.  \n",
    "4. **Cas d’usage** : ajustement de stocks, plan routier UPS/FedEx, quotas de pêche.  \n",
    "5. **Impact** : coûts ↓, délais ↓, disponibilité ↑, durabilité ↑.  \n",
    "6. **Limites** : dépendance aux données publiques, incertitude des prévisions.  \n",
    "7. **Conclusion** : valeur économique de l’analyse + recommandations."
   ]
  },
  {
   "cell_type": "markdown",
   "id": "7e6bdd6d",
   "metadata": {},
   "source": [
    "## Recommandations\n",
    "- **Brancher** vos prévisions de demande sur des variables météo pertinentes (catégories sensibles).  \n",
    "- **Orchestrer** la distribution via une optimisation régulière des tournées selon prévisions à J, J+1.  \n",
    "- **Gouverner** la donnée (qualité, monitoring des erreurs de prévision, plans de secours).  \n",
    "- **Mesurer** l’impact : coût par livraison, OTD, taux de rupture, marge nette."
   ]
  },
  {
   "cell_type": "markdown",
   "id": "8685916c",
   "metadata": {},
   "source": [
    "## (Optionnel) Esquisse d'analyse chiffrée — Simulation minimale\n",
    "> Cette cellule illustre une logique d'évaluation simple **sans données externes** : comparer deux stratégies d’itinéraire (naïf vs météo‑aware) sur des distances/temps simulés pour estimer un gain."
   ]
  },
  {
   "cell_type": "code",
   "execution_count": null,
   "id": "e489d308",
   "metadata": {},
   "outputs": [],
   "source": [
    "import numpy as np\n",
    "import pandas as pd\n",
    "\n",
    "np.random.seed(42)\n",
    "\n",
    "# Simulation de 100 livraisons avec une probabilité d'intempéries\n",
    "n = 100\n",
    "meteo_risque = np.random.binomial(1, 0.3, size=n)  # 30% des trajets exposés\n",
    "distance_km = np.random.normal(20, 5, size=n).clip(5, 40)\n",
    "\n",
    "# Stratégie naïve: ignore la météo -> retard si risque\n",
    "temps_naif = distance_km / 40 * 60  # 40 km/h de moyenne -> minutes\n",
    "retard_naif = meteo_risque * np.random.uniform(5, 20, size=n)\n",
    "temps_naif_total = temps_naif + retard_naif\n",
    "\n",
    "# Stratégie météo-aware: évite zones à risque (détour) mais moins de retard\n",
    "detour_km = meteo_risque * np.random.uniform(0, 5, size=n)\n",
    "temps_meteo = (distance_km + detour_km) / 40 * 60\n",
    "retard_meteo = meteo_risque * np.random.uniform(0, 8, size=n)\n",
    "temps_meteo_total = temps_meteo + retard_meteo\n",
    "\n",
    "df = pd.DataFrame({\n",
    "    \"risque_meteo\": meteo_risque,\n",
    "    \"distance_km\": distance_km.round(1),\n",
    "    \"temps_naif_min\": temps_naif_total.round(1),\n",
    "    \"temps_meteo_min\": temps_meteo_total.round(1),\n",
    "})\n",
    "\n",
    "df[\"gain_min\"] = (df[\"temps_naif_min\"] - df[\"temps_meteo_min\"]).round(1)\n",
    "resume = df.agg({\"temps_naif_min\":\"mean\",\"temps_meteo_min\":\"mean\",\"gain_min\":\"mean\"}).round(2)\n",
    "resume"
   ]
  },
  {
   "cell_type": "markdown",
   "id": "a47d7c2c",
   "metadata": {},
   "source": [
    "### Interprétation rapide\n",
    "- **gain_min** positif → la stratégie tenant compte de la météo réduit le temps moyen de livraison.  \n",
    "- À adapter avec des données réelles (prévisions, historiques d’incidents, coûts carburant, SLA)."
   ]
  },
  {
   "cell_type": "markdown",
   "id": "e5b9d0a9",
   "metadata": {},
   "source": [
    "## Bibliographie et sources\n",
    "- *The Washington Post* — « The surprising ways U.S. weather data powers everyday commerce » (23 mai 2025). https://www.washingtonpost.com/climate-environment/2025/05/23/government-weather-data-noaa-apps-retailers/\n",
    "\n",
    "> Utiliser des sources complémentaires (rapports NOAA, publications sectorielles) si vous approfondissez un secteur spécifique."
   ]
  }
 ],
 "metadata": {
  "kernelspec": {
   "display_name": "Python 3",
   "language": "python",
   "name": "python3"
  },
  "language_info": {
   "name": "python",
   "version": "3.x"
  }
 },
 "nbformat": 4,
 "nbformat_minor": 5
}
