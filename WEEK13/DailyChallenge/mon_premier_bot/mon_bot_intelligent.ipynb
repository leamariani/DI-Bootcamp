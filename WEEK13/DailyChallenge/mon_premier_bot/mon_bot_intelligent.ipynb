{
 "cells": [
  {
   "cell_type": "markdown",
   "id": "3e3aa9fe",
   "metadata": {},
   "source": [
    "# Défi pratique : Mini Bot Intelligent (LLM & MCP simulés)\n",
    "\n",
    "Notebook complet et exécutable avec explications."
   ]
  },
  {
   "cell_type": "markdown",
   "id": "be5d1737",
   "metadata": {},
   "source": [
    "## Objectifs d'apprentissage\n",
    "- Comprendre la notion d’**outils** (fonctions Python jouant le rôle de services).\n",
    "- Simuler un **LLM** qui génère un **résumé** à partir d’articles (fictifs).\n",
    "- Mettre en œuvre un **contexte** qui émet des **notifications de progrès**.\n",
    "- Simuler le **handshake** et la **découverte d’outils** (MCP).\n",
    "- Orchestrer un **workflow** complet du début à la fin.\n",
    "\n",
    "## Livrables attendus\n",
    "1. Un fichier Python unique : `mon_bot_intelligent.py` (fourni également en cellule).\n",
    "2. Un fichier texte de **briefing** généré dans le dossier `briefings_generes/` (ex. `briefing_sante_au_quotidien_YYYY-MM-DD.txt`).\n",
    "\n",
    "> Conseil : Exécutez chaque cellule dans l’ordre. Les cellules Markdown expliquent ce que fait la cellule de code qui suit.\n"
   ]
  },
  {
   "cell_type": "code",
   "execution_count": 1,
   "id": "90447320",
   "metadata": {},
   "outputs": [],
   "source": [
    "import os, datetime, time\n",
    "\n",
    "class ContexteSimule:\n",
    "    def info(self, message):\n",
    "        print(f\"   [NOTIFICATION] {message}\")\n",
    "        time.sleep(0.5)"
   ]
  },
  {
   "cell_type": "markdown",
   "id": "66edaf3e",
   "metadata": {},
   "source": [
    "Cette cellule introduit la classe ContexteSimule, qui joue le rôle d’un canal de communication entre les outils et l’utilisateur.\n",
    "Elle contient une méthode info(message) qui affiche un texte précédé de l’étiquette [NOTIFICATION]. L’ajout de time.sleep(0.5) insère une courte pause, simulant le temps de traitement d’un outil ou d’un modèle.\n",
    "\n",
    "L’objectif pédagogique est de reproduire, de manière simple, le comportement du protocole MCP où les outils envoient des notifications de progrès au client pendant leur exécution. Cela permet de comprendre qu’un programme ne fournit pas seulement un résultat final, mais peut également informer sur l’avancement des différentes étapes."
   ]
  },
  {
   "cell_type": "code",
   "execution_count": 2,
   "id": "18adb9e3",
   "metadata": {},
   "outputs": [],
   "source": [
    "def recherche_web_simulee(sujet_de_recherche):\n",
    "    print(f\"   -> Outil 'recherche_web_simulee' appelé pour : '{sujet_de_recherche}'\")\n",
    "    return {\"resultats\": [\n",
    "        {\"titre\": \"Les secrets d'une bonne hydratation\", \"url\": \"http://fauxsite.com/hydratation\", \"texte\": \"Boire de l'eau est essentiel pour notre corps. Cela aide à réguler la température corporelle, à transporter les nutriments et à éliminer les toxines. Pensez à boire régulièrement tout au long de la journée.\"},\n",
    "        {\"titre\": \"L'importance du sommeil pour l'énergie\", \"url\": \"http://fauxsite.com/sommeil\", \"texte\": \"Un sommeil de qualité est crucial pour la récupération physique et mentale. Il influence directement notre humeur, notre concentration et notre système immunitaire. Établir une routine de sommeil peut grandement améliorer votre quotidien.\"}\n",
    "    ]}"
   ]
  },
  {
   "cell_type": "markdown",
   "id": "e67c5722",
   "metadata": {},
   "source": [
    "Cette fonction recherche_web_simulee imite un outil de recherche sur Internet. Lorsqu’on lui donne un sujet, elle affiche un message pour indiquer qu’elle a été appelée, puis renvoie une liste d’articles fictifs sous forme de dictionnaires contenant un titre, une adresse web et un texte. L’objectif pédagogique est de montrer comment un outil peut fournir des données structurées prêtes à être utilisées par d’autres modules, sans avoir besoin de se connecter réellement à Internet."
   ]
  },
  {
   "cell_type": "code",
   "execution_count": 3,
   "id": "0ff92acc",
   "metadata": {},
   "outputs": [],
   "source": [
    "def resumer_avec_llm_simule(sujet_du_briefing, liste_articles, ctx: ContexteSimule):\n",
    "    ctx.info(f\"Le LLM simulé commence le résumé du sujet : {sujet_du_briefing}\")\n",
    "    time.sleep(1)\n",
    "    resume_texte = f\"Briefing Généré (LLM Simulé) sur : {sujet_du_briefing}\\n\\n\"\n",
    "    resume_texte += \"Points Clés (Générés) :\\n\"\n",
    "    sources = []\n",
    "    for i, a in enumerate(liste_articles):\n",
    "        ctx.info(f\"Analyse de l'article {i+1}...\")\n",
    "        first = a['texte'].split('. ')[0] + '.'\n",
    "        resume_texte += f\"- {first} [Source {i+1}]\\n\"\n",
    "        sources.append(f\"[Source {i+1}] {a['titre']} - {a['url']}\")\n",
    "        time.sleep(0.3)\n",
    "    resume_texte += \"\\nSources Utilisées :\\n\" + \"\\n\".join(sources)\n",
    "    ctx.info(\"Résumé terminé.\")\n",
    "    return {\"briefing_complet\": resume_texte}"
   ]
  },
  {
   "cell_type": "markdown",
   "id": "22a14ef5",
   "metadata": {},
   "source": [
    "La fonction resumer_avec_llm_simule représente un modèle de langage simplifié. Elle reçoit un sujet, une liste d’articles et un contexte pour émettre des notifications. Elle commence par annoncer le début du résumé, puis construit un texte structuré : un titre, des points clés extraits de la première phrase de chaque article, et enfin une liste de sources. Pendant le traitement, elle envoie des notifications pour simuler la progression et ajoute de courtes pauses pour rendre l’attente réaliste. Cette étape illustre comment un LLM peut transformer des données brutes en un résumé compréhensible, tout en tenant l’utilisateur informé de l’avancement."
   ]
  },
  {
   "cell_type": "code",
   "execution_count": 4,
   "id": "a9b7c1bd",
   "metadata": {},
   "outputs": [],
   "source": [
    "def enregistrer_fichier(nom_fichier, contenu_briefing):\n",
    "    os.makedirs('briefings_generes', exist_ok=True)\n",
    "    path = os.path.join('briefings_generes', nom_fichier)\n",
    "    with open(path, 'w', encoding='utf-8') as f:\n",
    "        f.write(contenu_briefing)\n",
    "    print(f\"   -> Outil 'enregistrer_fichier' : Briefing enregistré dans '{path}'\")\n",
    "    return {\"chemin\": path}"
   ]
  },
  {
   "cell_type": "markdown",
   "id": "3c5e60be",
   "metadata": {},
   "source": [
    "La fonction enregistrer_fichier a pour rôle de sauvegarder le contenu généré par le bot dans un fichier texte. Elle commence par créer automatiquement un dossier nommé briefings_generes s’il n’existe pas encore, puis construit le chemin complet du fichier. Ensuite, elle ouvre ce fichier en mode écriture avec l’encodage UTF-8 et y inscrit le texte du briefing. Enfin, elle confirme l’opération en affichant un message et renvoie le chemin du fichier. Cette étape illustre comment un outil peut transformer un résultat calculé en une ressource persistante que l’utilisateur pourra consulter ultérieurement."
   ]
  },
  {
   "cell_type": "code",
   "execution_count": 5,
   "id": "2393df2e",
   "metadata": {},
   "outputs": [],
   "source": [
    "def lister_outils_mcp_simule():\n",
    "    print(\"   -> Outil 'lister_outils_mcp_simule' appelé.\")\n",
    "    return {\"outils\": [\n",
    "        {\"nom\": \"recherche_web_simulee\", \"description\": \"Recherche des articles sur un sujet donné.\"},\n",
    "        {\"nom\": \"resumer_avec_llm_simule\", \"description\": \"Génère un résumé avec un LLM simulé et envoie des notifications.\"},\n",
    "        {\"nom\": \"enregistrer_fichier\", \"description\": \"Sauvegarde un contenu dans un fichier texte.\"}\n",
    "    ]}"
   ]
  },
  {
   "cell_type": "markdown",
   "id": "9ab3ed8f",
   "metadata": {},
   "source": [
    "La fonction lister_outils_mcp_simule simule la phase de découverte d’outils du protocole MCP. Lorsqu’elle est appelée, elle affiche un message pour signaler son activation, puis renvoie un dictionnaire contenant la liste des outils disponibles. Chaque outil est décrit par son nom et une brève description. Cette étape permet de comprendre comment un client peut interroger un serveur pour connaître les services qu’il propose avant de les utiliser dans un enchaînement de tâches."
   ]
  },
  {
   "cell_type": "markdown",
   "id": "bf0f62e8",
   "metadata": {},
   "source": [
    "### Orchestration — Lancez la cellule suivante"
   ]
  },
  {
   "cell_type": "code",
   "execution_count": 6,
   "id": "dde97a8a",
   "metadata": {},
   "outputs": [
    {
     "name": "stdout",
     "output_type": "stream",
     "text": [
      "--- Démarrage du Client MCP Simulé ---\n",
      "\n",
      "SIMULATION MCP : Effectuation du 'handshake' (établissement de la connexion)...\n",
      "SIMULATION MCP : Handshake terminé. La 'session' est établie.\n",
      "\n",
      "SIMULATION MCP : Demande des outils disponibles au 'serveur'...\n",
      "   -> Outil 'lister_outils_mcp_simule' appelé.\n",
      "SIMULATION MCP : Outils 'découverts' :\n",
      " - recherche_web_simulee: Recherche des articles sur un sujet donné.\n",
      " - resumer_avec_llm_simule: Génère un résumé avec un LLM simulé et envoie des notifications.\n",
      " - enregistrer_fichier: Sauvegarde un contenu dans un fichier texte.\n",
      "\n",
      "Le bot va générer un briefing pour : 'santé urbaine'\n",
      "\n",
      "1. Appel de l'outil 'recherche_web_simulee'...\n",
      "   -> Outil 'recherche_web_simulee' appelé pour : 'santé urbaine'\n",
      "   -> 2 articles trouvés (simulés).\n",
      "\n",
      "2. Appel de l'outil 'resumer_avec_llm_simule' (regardez les NOTIFICATIONS !) ...\n",
      "   [NOTIFICATION] Le LLM simulé commence le résumé du sujet : santé urbaine\n",
      "   [NOTIFICATION] Analyse de l'article 1...\n",
      "   [NOTIFICATION] Analyse de l'article 2...\n",
      "   [NOTIFICATION] Résumé terminé.\n",
      "\n",
      "3. Appel de l'outil 'enregistrer_fichier'...\n",
      "   -> Outil 'enregistrer_fichier' : Briefing enregistré dans 'briefings_generes/briefing_santé_urbaine_2025-08-19.txt'\n",
      "\n",
      "--- Processus du Bot Intelligent Simulé Terminé ---\n",
      "Votre briefing est prêt ! Vous pouvez ouvrir le fichier : 'briefings_generes/briefing_santé_urbaine_2025-08-19.txt'\n"
     ]
    }
   ],
   "source": [
    "print('--- Démarrage du Client MCP Simulé ---')\n",
    "print('\\nSIMULATION MCP : Effectuation du \\'handshake\\' (établissement de la connexion)...')\n",
    "time.sleep(1)\n",
    "print('SIMULATION MCP : Handshake terminé. La \\'session\\' est établie.')\n",
    "print('\\nSIMULATION MCP : Demande des outils disponibles au \\'serveur\\'...')\n",
    "resultats_decouverte = lister_outils_mcp_simule()\n",
    "print('SIMULATION MCP : Outils \\'découverts\\' :')\n",
    "for outil in resultats_decouverte['outils']:\n",
    "    print(f\" - {outil['nom']}: {outil['description']}\")\n",
    "sujet = input(\"\\nQuel sujet voulez-vous briefer (ex: 'écologie urbaine') ? \")\n",
    "if not sujet:\n",
    "    sujet = 'Sujet par défaut'\n",
    "    print(f\"Aucun sujet entré, utilisation du sujet par défaut : '{sujet}'\")\n",
    "print(f\"\\nLe bot va générer un briefing pour : '{sujet}'\")\n",
    "print(\"\\n1. Appel de l'outil 'recherche_web_simulee'...\")\n",
    "res = recherche_web_simulee(sujet)\n",
    "arts = res.get('resultats', [])\n",
    "if not arts:\n",
    "    print('   -> Aucun article simulé trouvé. Arrêt du processus.')\n",
    "else:\n",
    "    print(f\"   -> {len(arts)} articles trouvés (simulés).\")\n",
    "    print(\"\\n2. Appel de l'outil 'resumer_avec_llm_simule' (regardez les NOTIFICATIONS !) ...\")\n",
    "    ctx = ContexteSimule()\n",
    "    r = resumer_avec_llm_simule(sujet, arts, ctx)\n",
    "    contenu = r.get('briefing_complet', 'Erreur: Contenu non généré.')\n",
    "    print(\"\\n3. Appel de l'outil 'enregistrer_fichier'...\")\n",
    "    date = datetime.date.today().isoformat()\n",
    "    safe = sujet.replace(' ', '_').replace(\"'\", '').lower()\n",
    "    fname = f\"briefing_{safe}_{date}.txt\"\n",
    "    saved = enregistrer_fichier(fname, contenu)\n",
    "    path = saved.get('chemin')\n",
    "    print(\"\\n--- Processus du Bot Intelligent Simulé Terminé ---\")\n",
    "    if path:\n",
    "        print(f\"Votre briefing est prêt ! Vous pouvez ouvrir le fichier : '{path}'\")\n",
    "    else:\n",
    "        print('Une erreur est survenue lors de la création du briefing.')"
   ]
  },
  {
   "cell_type": "markdown",
   "id": "99639d92",
   "metadata": {},
   "source": [
    "Ce bloc de code orchestre l’exécution complète du bot simulé. Il commence par afficher un message de démarrage, puis simule une phase de handshake, c’est-à-dire l’établissement d’une connexion entre un client et un serveur. Ensuite, il interroge le système pour découvrir la liste des outils disponibles et les affiche à l’écran. L’utilisateur est invité à saisir un sujet pour le briefing, avec une valeur par défaut si rien n’est fourni. Le bot enchaîne alors trois étapes principales : d’abord l’appel de l’outil de recherche qui retourne des articles fictifs, puis l’appel de l’outil de résumé qui génère un texte synthétique avec notifications, et enfin l’enregistrement du résultat dans un fichier. En conclusion, un message indique le succès de l’opération et le chemin du fichier généré. Cette étape montre comment différents composants peuvent être coordonnés pour accomplir une tâche complexe de bout en bout."
   ]
  },
  {
   "cell_type": "markdown",
   "id": "3a923c70",
   "metadata": {},
   "source": [
    "Conclusion globale du projet\n",
    "\n",
    "Ce projet a permis de construire, étape par étape, un mini bot intelligent simulé afin de comprendre les grands principes qui sous-tendent les systèmes modernes de type LLM et les protocoles comme le Model Context Protocol (MCP).\n",
    "\n",
    "En réalisant ce programme, plusieurs notions essentielles ont été explorées :\n",
    "\n",
    "Les outils comme services spécialisés : chaque fonction a joué le rôle d’un service (recherche, résumé, enregistrement), illustrant la manière dont un système complexe s’appuie sur des briques simples et réutilisables.\n",
    "\n",
    "Le contexte (ctx) : grâce à la classe ContexteSimule, on a vu comment un outil peut informer en temps réel de sa progression, plutôt que de rester silencieux jusqu’au résultat final.\n",
    "\n",
    "Le LLM simulé : même si le modèle n’a pas réellement généré de texte complexe, la logique d’un résumé automatique a été reproduite, ce qui aide à comprendre le rôle central des LLM dans la génération de contenu.\n",
    "\n",
    "Le protocole MCP (handshake et découverte d’outils) : la simulation du processus de connexion et d’interrogation des capacités disponibles a permis d’illustrer comment un client et un serveur établissent une communication et se coordonnent.\n",
    "\n",
    "L’orchestration des étapes : enfin, la partie principale du programme a démontré comment enchaîner plusieurs outils pour accomplir une tâche complète, de l’entrée utilisateur à la génération d’un fichier final.\n",
    "\n",
    "L’ensemble de ces éléments offre une vision concrète et accessible de concepts souvent abstraits. Le projet constitue une base pédagogique solide pour mieux appréhender le fonctionnement des systèmes d’IA modernes, et ouvre la voie vers des réalisations plus avancées où les outils simulés pourraient être remplacés par de véritables services connectés et des modèles de langage réels."
   ]
  },
  {
   "cell_type": "markdown",
   "id": "9acf7f50",
   "metadata": {},
   "source": []
  }
 ],
 "metadata": {
  "kernelspec": {
   "display_name": "Python 3",
   "name": "python3"
  },
  "language_info": {
   "codemirror_mode": {
    "name": "ipython",
    "version": 3
   },
   "file_extension": ".py",
   "mimetype": "text/x-python",
   "name": "python",
   "nbconvert_exporter": "python",
   "pygments_lexer": "ipython3",
   "version": "3.9.6"
  }
 },
 "nbformat": 4,
 "nbformat_minor": 5
}
