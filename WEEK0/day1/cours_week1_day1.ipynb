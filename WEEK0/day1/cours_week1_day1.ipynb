{
 "cells": [
  {
   "cell_type": "code",
   "execution_count": null,
   "id": "a849092d",
   "metadata": {},
   "outputs": [
    {
     "ename": "",
     "evalue": "",
     "output_type": "error",
     "traceback": [
      "\u001b[1;31mRunning cells with 'Python' requires the ipykernel package.\n",
      "\u001b[1;31m<a href='command:jupyter.createPythonEnvAndSelectController'>Create a Python Environment</a> with the required packages."
     ]
    }
   ],
   "source": [
    "x=2\n",
    "print(x)"
   ]
  },
  {
   "cell_type": "code",
   "execution_count": 1,
   "id": "95a1753e",
   "metadata": {},
   "outputs": [
    {
     "name": "stdout",
     "output_type": "stream",
     "text": [
      "2\n"
     ]
    }
   ],
   "source": [
    "x=2\n",
    "print(x)"
   ]
  },
  {
   "cell_type": "code",
   "execution_count": 2,
   "id": "b4d0f085",
   "metadata": {},
   "outputs": [
    {
     "name": "stdout",
     "output_type": "stream",
     "text": [
      "2\n"
     ]
    }
   ],
   "source": [
    "x=2\n",
    "print(x)\n"
   ]
  },
  {
   "cell_type": "code",
   "execution_count": 3,
   "id": "46109314",
   "metadata": {},
   "outputs": [
    {
     "name": "stdout",
     "output_type": "stream",
     "text": [
      "Hello, world!\n",
      "42\n",
      "3.14\n"
     ]
    }
   ],
   "source": [
    "print(\"Hello, world!\")\n",
    "print(42)\n",
    "print(3.14)\n"
   ]
  },
  {
   "cell_type": "code",
   "execution_count": 6,
   "id": "7bca59ea",
   "metadata": {},
   "outputs": [
    {
     "name": "stdout",
     "output_type": "stream",
     "text": [
      "25\n"
     ]
    }
   ],
   "source": [
    "age = 25\n",
    "#print(age)\n",
    "print(25)\n",
    "\n"
   ]
  },
  {
   "cell_type": "code",
   "execution_count": 7,
   "id": "e5b38993",
   "metadata": {},
   "outputs": [
    {
     "data": {
      "text/plain": [
       "25"
      ]
     },
     "execution_count": 7,
     "metadata": {},
     "output_type": "execute_result"
    }
   ],
   "source": [
    "age"
   ]
  },
  {
   "cell_type": "code",
   "execution_count": 8,
   "id": "2730e933",
   "metadata": {},
   "outputs": [
    {
     "name": "stdout",
     "output_type": "stream",
     "text": [
      "John\n",
      "25\n"
     ]
    }
   ],
   "source": [
    "name, age = 'John', 25 #mettre des guillemets si on veut utiliser un mot\n",
    "print(name)\n",
    "print(age)\n"
   ]
  },
  {
   "cell_type": "code",
   "execution_count": 9,
   "id": "6ced914d",
   "metadata": {},
   "outputs": [
    {
     "name": "stdout",
     "output_type": "stream",
     "text": [
      "Bob\n",
      "25\n"
     ]
    }
   ],
   "source": [
    "name, age = 'Bob', 25\n",
    "print(name)\n",
    "print(age)\n"
   ]
  },
  {
   "cell_type": "code",
   "execution_count": 1,
   "id": "b72e4892",
   "metadata": {},
   "outputs": [
    {
     "name": "stdout",
     "output_type": "stream",
     "text": [
      "bob\n"
     ]
    }
   ],
   "source": [
    "# Taking user input and storing it in the variable user_name\n",
    "user_name = input(\"Enter your name: \")\n",
    "\n",
    "# Displaying the input\n",
    "print(user_name)\n"
   ]
  },
  {
   "cell_type": "code",
   "execution_count": 2,
   "id": "213ab6d3",
   "metadata": {},
   "outputs": [
    {
     "name": "stdout",
     "output_type": "stream",
     "text": [
      "20\n"
     ]
    }
   ],
   "source": [
    "# Taking user input and storing it in the variable user_name\n",
    "user_name = input(\"Enter your age: \")\n",
    "\n",
    "# Displaying the input\n",
    "print(user_name)\n"
   ]
  },
  {
   "cell_type": "code",
   "execution_count": 3,
   "id": "414cb467",
   "metadata": {},
   "outputs": [
    {
     "ename": "NameError",
     "evalue": "name 'user_age' is not defined",
     "output_type": "error",
     "traceback": [
      "\u001b[0;31m---------------------------------------------------------------------------\u001b[0m",
      "\u001b[0;31mNameError\u001b[0m                                 Traceback (most recent call last)",
      "Cell \u001b[0;32mIn[3], line 5\u001b[0m\n\u001b[1;32m      2\u001b[0m user_name \u001b[38;5;241m=\u001b[39m \u001b[38;5;28minput\u001b[39m(\u001b[38;5;124m\"\u001b[39m\u001b[38;5;124mEnter your age: \u001b[39m\u001b[38;5;124m\"\u001b[39m)\n\u001b[1;32m      4\u001b[0m \u001b[38;5;66;03m# Displaying the input\u001b[39;00m\n\u001b[0;32m----> 5\u001b[0m \u001b[38;5;28mprint\u001b[39m(\u001b[43muser_age\u001b[49m)\n",
      "\u001b[0;31mNameError\u001b[0m: name 'user_age' is not defined"
     ]
    }
   ],
   "source": [
    "# Taking user input and storing it in the variable user_name\n",
    "user_name = input(\"Enter your age: \")\n",
    "\n",
    "# Displaying the input\n",
    "print(user_age)"
   ]
  },
  {
   "cell_type": "code",
   "execution_count": 4,
   "id": "14ebcef6",
   "metadata": {},
   "outputs": [
    {
     "name": "stdout",
     "output_type": "stream",
     "text": [
      "20\n"
     ]
    }
   ],
   "source": [
    "# Taking user input and storing it in the variable user_name\n",
    "user_age= input(\"Enter your age: \")\n",
    "\n",
    "# Displaying the input\n",
    "print(user_age)"
   ]
  },
  {
   "cell_type": "code",
   "execution_count": 5,
   "id": "9968b2a2",
   "metadata": {},
   "outputs": [
    {
     "name": "stdout",
     "output_type": "stream",
     "text": [
      "13\n"
     ]
    }
   ],
   "source": [
    "# Exercise 1.1: Calculate the sum of 10 and 3\n",
    "result_1 = 10 + 3\n",
    "print(result_1)  # Output: 13"
   ]
  },
  {
   "cell_type": "code",
   "execution_count": 7,
   "id": "16a36589",
   "metadata": {},
   "outputs": [
    {
     "data": {
      "text/plain": [
       "8"
      ]
     },
     "execution_count": 7,
     "metadata": {},
     "output_type": "execute_result"
    }
   ],
   "source": [
    "# Exercise 1.2: Subtract 7 from 15\n",
    "result_2 = 15-7\n",
    "result_2\n"
   ]
  },
  {
   "cell_type": "code",
   "execution_count": 8,
   "id": "32c9c21f",
   "metadata": {},
   "outputs": [
    {
     "data": {
      "text/plain": [
       "32"
      ]
     },
     "execution_count": 8,
     "metadata": {},
     "output_type": "execute_result"
    }
   ],
   "source": [
    "# Exercise 1.3: Multiply 4 by 8\n",
    "result_3 = 4*8\n",
    "result_3"
   ]
  },
  {
   "cell_type": "code",
   "execution_count": 11,
   "id": "2f36665b",
   "metadata": {},
   "outputs": [
    {
     "data": {
      "text/plain": [
       "6.0"
      ]
     },
     "execution_count": 11,
     "metadata": {},
     "output_type": "execute_result"
    }
   ],
   "source": [
    "# Exercise 1.4: Divide 18 by 3\n",
    "result_4 =18/3\n",
    "result_4"
   ]
  },
  {
   "cell_type": "code",
   "execution_count": 14,
   "id": "b28a835a",
   "metadata": {},
   "outputs": [
    {
     "data": {
      "text/plain": [
       "2"
      ]
     },
     "execution_count": 14,
     "metadata": {},
     "output_type": "execute_result"
    }
   ],
   "source": [
    "# Exercise 1.5: Floor division to find how many whole times 11 can be divided by 4\n",
    "result_5 = 11//4\n",
    "result_5\n"
   ]
  },
  {
   "cell_type": "code",
   "execution_count": 16,
   "id": "a3bfb057",
   "metadata": {},
   "outputs": [
    {
     "data": {
      "text/plain": [
       "1"
      ]
     },
     "execution_count": 16,
     "metadata": {},
     "output_type": "execute_result"
    }
   ],
   "source": [
    "# Exercise 1.6: Find the remainder when 9 is divided by 4 (modulus operator)\n",
    "result_6 = 9%4\n",
    "result_6\n"
   ]
  },
  {
   "cell_type": "code",
   "execution_count": 20,
   "id": "43c5905c",
   "metadata": {},
   "outputs": [
    {
     "data": {
      "text/plain": [
       "40"
      ]
     },
     "execution_count": 20,
     "metadata": {},
     "output_type": "execute_result"
    }
   ],
   "source": [
    "x = 10\n",
    "z = 30\n",
    "result_1 = x+z\n",
    "result_1\n"
   ]
  },
  {
   "cell_type": "code",
   "execution_count": 21,
   "id": "f1ff34b8",
   "metadata": {},
   "outputs": [
    {
     "ename": "NameError",
     "evalue": "name 'y' is not defined",
     "output_type": "error",
     "traceback": [
      "\u001b[0;31m---------------------------------------------------------------------------\u001b[0m",
      "\u001b[0;31mNameError\u001b[0m                                 Traceback (most recent call last)",
      "Cell \u001b[0;32mIn[21], line 2\u001b[0m\n\u001b[1;32m      1\u001b[0m \u001b[38;5;66;03m# converting the integer to a string\u001b[39;00m\n\u001b[0;32m----> 2\u001b[0m result \u001b[38;5;241m=\u001b[39m \u001b[38;5;28mstr\u001b[39m(x) \u001b[38;5;241m+\u001b[39m \u001b[43my\u001b[49m\n\u001b[1;32m      3\u001b[0m \u001b[38;5;28mprint\u001b[39m(result) \u001b[38;5;66;03m# Output: '3 cats'\u001b[39;00m\n",
      "\u001b[0;31mNameError\u001b[0m: name 'y' is not defined"
     ]
    }
   ],
   "source": [
    "# converting the integer to a string\n",
    "result = str(x) + y\n",
    "print(result) # Output: '3 cats'"
   ]
  },
  {
   "cell_type": "code",
   "execution_count": 26,
   "id": "e51ac1b5",
   "metadata": {},
   "outputs": [
    {
     "name": "stdout",
     "output_type": "stream",
     "text": [
      "8\n",
      "35\n"
     ]
    }
   ],
   "source": [
    "x = 3\n",
    "y = \"5\"\n",
    "result = x + int(y)\n",
    "print(result)\n",
    "\n",
    "# converting the integer to a string\n",
    "result = str(x) + y\n",
    "print(result) # Output: '3 cats'"
   ]
  },
  {
   "cell_type": "code",
   "execution_count": 27,
   "id": "7073be28",
   "metadata": {},
   "outputs": [
    {
     "name": "stdout",
     "output_type": "stream",
     "text": [
      "['J', 'o', 'h', 'n', ' ', 'D', 'o', 'e']\n"
     ]
    }
   ],
   "source": [
    "#this is a list of strings\n",
    "users = ['Anna','John', 'Mike', 'Sarah']\n",
    "\n",
    "#this is a list of integers\n",
    "users_id = [145, 234, 677, 444]\n",
    "\n",
    "#this is a list() built-in function\n",
    "user_name = 'John Doe'\n",
    "user_name_list = list(user_name)\n",
    "\n",
    "#check what happens to the string:\n",
    "print(user_name_list)"
   ]
  },
  {
   "cell_type": "code",
   "execution_count": 28,
   "id": "c9abbde2",
   "metadata": {},
   "outputs": [
    {
     "ename": "TypeError",
     "evalue": "'tuple' object does not support item assignment",
     "output_type": "error",
     "traceback": [
      "\u001b[0;31m---------------------------------------------------------------------------\u001b[0m",
      "\u001b[0;31mTypeError\u001b[0m                                 Traceback (most recent call last)",
      "Cell \u001b[0;32mIn[28], line 8\u001b[0m\n\u001b[1;32m      5\u001b[0m users \u001b[38;5;241m=\u001b[39m (\u001b[38;5;124m'\u001b[39m\u001b[38;5;124mAnna\u001b[39m\u001b[38;5;124m'\u001b[39m, \u001b[38;5;124m'\u001b[39m\u001b[38;5;124mJohn\u001b[39m\u001b[38;5;124m'\u001b[39m, \u001b[38;5;124m'\u001b[39m\u001b[38;5;124mMike\u001b[39m\u001b[38;5;124m'\u001b[39m)\n\u001b[1;32m      7\u001b[0m \u001b[38;5;66;03m# Trying to change a tuple value will raise an error\u001b[39;00m\n\u001b[0;32m----> 8\u001b[0m \u001b[43mcoordinates\u001b[49m\u001b[43m[\u001b[49m\u001b[38;5;241;43m0\u001b[39;49m\u001b[43m]\u001b[49m \u001b[38;5;241m=\u001b[39m \u001b[38;5;241m10\u001b[39m  \u001b[38;5;66;03m# This causes an error\u001b[39;00m\n\u001b[1;32m     10\u001b[0m \u001b[38;5;28mprint\u001b[39m(coordinates)\n\u001b[1;32m     11\u001b[0m \u001b[38;5;28mprint\u001b[39m(users)\n",
      "\u001b[0;31mTypeError\u001b[0m: 'tuple' object does not support item assignment"
     ]
    }
   ],
   "source": [
    "# This is a tuple of integers\n",
    "coordinates = (4, 2, 1)\n",
    "\n",
    "# This is a tuple of strings\n",
    "users = ('Anna', 'John', 'Mike')\n",
    "\n",
    "# Trying to change a tuple value will raise an error\n",
    "coordinates[0] = 10  # This causes an error\n",
    "\n",
    "print(coordinates)\n",
    "print(users)"
   ]
  },
  {
   "cell_type": "code",
   "execution_count": 29,
   "id": "1f3300c8",
   "metadata": {},
   "outputs": [
    {
     "name": "stdout",
     "output_type": "stream",
     "text": [
      "{101, 102, 103}\n",
      "{'Anna', 'John', 'Sarah', 'Mike', 'David'}\n"
     ]
    },
    {
     "ename": "TypeError",
     "evalue": "'set' object is not subscriptable",
     "output_type": "error",
     "traceback": [
      "\u001b[0;31m---------------------------------------------------------------------------\u001b[0m",
      "\u001b[0;31mTypeError\u001b[0m                                 Traceback (most recent call last)",
      "Cell \u001b[0;32mIn[29], line 14\u001b[0m\n\u001b[1;32m     11\u001b[0m \u001b[38;5;28mprint\u001b[39m(user_names) \u001b[38;5;66;03m# Output: unordered set of names, no duplicates\u001b[39;00m\n\u001b[1;32m     13\u001b[0m \u001b[38;5;66;03m# Sets do not allow indexing, so you cannot do something like:\u001b[39;00m\n\u001b[0;32m---> 14\u001b[0m \u001b[43muser_names\u001b[49m\u001b[43m[\u001b[49m\u001b[38;5;241;43m0\u001b[39;49m\u001b[43m]\u001b[49m \u001b[38;5;66;03m# this will cause an error\u001b[39;00m\n",
      "\u001b[0;31mTypeError\u001b[0m: 'set' object is not subscriptable"
     ]
    }
   ],
   "source": [
    "# This is a set of unique integers\n",
    "user_ids = {101, 102, 103, 101}  # Duplicate '101' is ignored\n",
    "print(user_ids)   # Output: {101, 102, 103}\n",
    "\n",
    "# This is a set of strings\n",
    "user_names = {\"Anna\", \"John\", \"Mike\", \"Sarah\"}\n",
    "\n",
    "# Adding new elements to a set\n",
    "user_names.add(\"David\")\n",
    "\n",
    "print(user_names) # Output: unordered set of names, no duplicates\n",
    "\n",
    "# Sets do not allow indexing, so you cannot do something like:\n",
    "user_names[0] # this will cause an error\n"
   ]
  },
  {
   "cell_type": "code",
   "execution_count": null,
   "id": "44b98553",
   "metadata": {},
   "outputs": [],
   "source": []
  },
  {
   "cell_type": "code",
   "execution_count": 30,
   "id": "1b504120",
   "metadata": {},
   "outputs": [
    {
     "name": "stdout",
     "output_type": "stream",
     "text": [
      "John Doe\n",
      "Anna\n"
     ]
    }
   ],
   "source": [
    "# This is a dictionary with integer keys and string values\n",
    "user_ages = {1: 'Anna', 2: 'John', 3: 'Mike'}\n",
    "\n",
    "# This is a dictionary with string keys and mixed values\n",
    "user_info = {\n",
    "    \"name\": \"John Doe\",\n",
    "    \"age\": 45,\n",
    "    \"is_active\": True\n",
    "}\n",
    "\n",
    "# Accessing values using keys\n",
    "print(user_info[\"name\"])  # Output: John Doe\n",
    "print(user_ages[1])       # Output: Anna"
   ]
  },
  {
   "cell_type": "code",
   "execution_count": null,
   "id": "750e9529",
   "metadata": {},
   "outputs": [],
   "source": [
    "# This is a dictionary with integer keys and string values\n",
    "user_ages = {1: 'Bob', 2: 'Kim', 3: 'Niels'}"
   ]
  },
  {
   "cell_type": "code",
   "execution_count": 36,
   "id": "5a74998f",
   "metadata": {},
   "outputs": [
    {
     "name": "stdout",
     "output_type": "stream",
     "text": [
      "bob\n",
      "45\n",
      "True\n",
      "Kim\n",
      "25\n",
      "True\n",
      "Niels\n",
      "30\n",
      "True\n"
     ]
    }
   ],
   "source": [
    "\n",
    "# This is a dictionary with string keys and mixed values\n",
    "user_info1 = {\n",
    "    \"name\": \"bob\",\n",
    "    \"age\": 45,\n",
    "    \"is_active\": True\n",
    "}\n",
    "user_info2 = {\n",
    "    \"name\": \"Kim\",\n",
    "    \"age\": 25,\n",
    "    \"is_active\": True\n",
    "}\n",
    "user_info3 = {\n",
    "    \"name\": \"Niels\",\n",
    "    \"age\": 30,\n",
    "    \"is_active\": True\n",
    "}\n",
    "\n",
    "print(user_info1[\"name\"]) \n",
    "print(user_info1[\"age\"])  \n",
    "print(user_info1[\"is_active\"]) \n",
    "\n",
    "print(user_info2[\"name\"]) \n",
    "print(user_info2[\"age\"])  \n",
    "print(user_info2[\"is_active\"]) \n",
    "\n",
    "print(user_info3[\"name\"]) \n",
    "print(user_info3[\"age\"])  \n",
    "print(user_info3[\"is_active\"]) \n"
   ]
  },
  {
   "cell_type": "code",
   "execution_count": 37,
   "id": "7ac286e8",
   "metadata": {},
   "outputs": [
    {
     "name": "stdout",
     "output_type": "stream",
     "text": [
      "True\n"
     ]
    }
   ],
   "source": [
    "# Check if both conditions are True using 'and'\n",
    "print(10 > 5 and 20 < 30)  # Output: True"
   ]
  },
  {
   "cell_type": "code",
   "execution_count": 38,
   "id": "41bad730",
   "metadata": {},
   "outputs": [
    {
     "name": "stdout",
     "output_type": "stream",
     "text": [
      "True\n",
      "True\n",
      "True\n"
     ]
    }
   ],
   "source": [
    "# Equality check\n",
    "a = 5\n",
    "b = 5\n",
    "print(a == b)  # Output: True\n",
    "print(a == 5)  # Output: True\n",
    "\n",
    "# Not equal check\n",
    "print(a != 3)  # Output: True"
   ]
  },
  {
   "cell_type": "code",
   "execution_count": 51,
   "id": "e2f48f9e",
   "metadata": {},
   "outputs": [
    {
     "ename": "SyntaxError",
     "evalue": "invalid syntax (1266047417.py, line 10)",
     "output_type": "error",
     "traceback": [
      "\u001b[0;36m  Cell \u001b[0;32mIn[51], line 10\u001b[0;36m\u001b[0m\n\u001b[0;31m    else\u001b[0m\n\u001b[0m        ^\u001b[0m\n\u001b[0;31mSyntaxError\u001b[0m\u001b[0;31m:\u001b[0m invalid syntax\n"
     ]
    }
   ],
   "source": [
    "# Example:\n",
    "age = 16\n",
    "\n",
    "if age >= 18:\n",
    "    print(\"You are an adult.\")\n",
    "elif age >= 13:\n",
    "    print(\"You are a teenager.\")\n",
    "elif age >= 8:\n",
    "    print(\"You are a child.\")\n",
    "else\n",
    "    print(\"you are a toddler.\")"
   ]
  },
  {
   "cell_type": "code",
   "execution_count": 52,
   "id": "87bd175b",
   "metadata": {},
   "outputs": [
    {
     "name": "stdout",
     "output_type": "stream",
     "text": [
      "0\n",
      "1\n",
      "2\n"
     ]
    }
   ],
   "source": [
    "# This will print the numbers from 0 to 2 (3 is not included)\n",
    "for i in range(3):\n",
    "    print(i)"
   ]
  },
  {
   "cell_type": "code",
   "execution_count": null,
   "id": "9a0d72fe",
   "metadata": {},
   "outputs": [],
   "source": []
  }
 ],
 "metadata": {
  "kernelspec": {
   "display_name": "Python 3",
   "language": "python",
   "name": "python3"
  },
  "language_info": {
   "codemirror_mode": {
    "name": "ipython",
    "version": 3
   },
   "file_extension": ".py",
   "mimetype": "text/x-python",
   "name": "python",
   "nbconvert_exporter": "python",
   "pygments_lexer": "ipython3",
   "version": "3.9.6"
  }
 },
 "nbformat": 4,
 "nbformat_minor": 5
}
