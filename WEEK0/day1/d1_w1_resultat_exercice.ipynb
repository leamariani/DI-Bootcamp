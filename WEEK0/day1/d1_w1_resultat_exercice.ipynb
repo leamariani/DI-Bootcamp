{
 "cells": [
  {
   "cell_type": "markdown",
   "id": "ae8452ed",
   "metadata": {},
   "source": [
    "BootCamp : D1_W1"
   ]
  },
  {
   "cell_type": "markdown",
   "id": "02e7e1d1",
   "metadata": {},
   "source": [
    "Author : Clara Martinez"
   ]
  },
  {
   "cell_type": "markdown",
   "id": "8a7a2189",
   "metadata": {},
   "source": [
    "Variable"
   ]
  },
  {
   "cell_type": "code",
   "execution_count": 4,
   "id": "b0a4ccb5",
   "metadata": {},
   "outputs": [
    {
     "name": "stdout",
     "output_type": "stream",
     "text": [
      "2\n"
     ]
    }
   ],
   "source": [
    "x=2\n",
    "print(x)\n"
   ]
  },
  {
   "cell_type": "code",
   "execution_count": 9,
   "id": "85b27e9f",
   "metadata": {},
   "outputs": [
    {
     "data": {
      "text/plain": [
       "25"
      ]
     },
     "execution_count": 9,
     "metadata": {},
     "output_type": "execute_result"
    }
   ],
   "source": [
    "age = 25\n",
    "age"
   ]
  },
  {
   "cell_type": "code",
   "execution_count": 15,
   "id": "65901fe9",
   "metadata": {},
   "outputs": [
    {
     "data": {
      "text/plain": [
       "'mot'"
      ]
     },
     "execution_count": 15,
     "metadata": {},
     "output_type": "execute_result"
    }
   ],
   "source": [
    "mot = 'mot'\n",
    "mot"
   ]
  },
  {
   "cell_type": "code",
   "execution_count": 16,
   "id": "8c41a91f",
   "metadata": {},
   "outputs": [
    {
     "name": "stdout",
     "output_type": "stream",
     "text": [
      "John\n",
      "25\n"
     ]
    }
   ],
   "source": [
    "name, age = 'John', 25\n",
    "print(name)\n",
    "print(age)"
   ]
  },
  {
   "cell_type": "code",
   "execution_count": 24,
   "id": "0e2ac5aa",
   "metadata": {},
   "outputs": [
    {
     "data": {
      "text/plain": [
       "'25'"
      ]
     },
     "execution_count": 24,
     "metadata": {},
     "output_type": "execute_result"
    }
   ],
   "source": [
    "# Taking user input and storing it in the variable user_name\n",
    "user_age = input(\"age: \")\n",
    "\n",
    "# Displaying the input\n",
    "user_age"
   ]
  },
  {
   "cell_type": "markdown",
   "id": "70b28986",
   "metadata": {},
   "source": [
    "Data types"
   ]
  },
  {
   "cell_type": "code",
   "execution_count": 26,
   "id": "ec3464df",
   "metadata": {},
   "outputs": [
    {
     "name": "stdout",
     "output_type": "stream",
     "text": [
      "13\n",
      "8\n",
      "32\n",
      "6.0\n",
      "2\n",
      "1\n",
      "216\n",
      "-12\n"
     ]
    }
   ],
   "source": [
    "# Exercise 1.1: Calculate the sum of 10 and 3\n",
    "result_1 = 10 + 3\n",
    "print(result_1)  # Output: 13\n",
    "\n",
    "# Exercise 1.2: Subtract 7 from 15\n",
    "result_2 = 15 - 7\n",
    "print(result_2)  # Output: 8\n",
    "\n",
    "# Exercise 1.3: Multiply 4 by 8\n",
    "result_3 = 4 * 8\n",
    "print(result_3)  # Output: 32\n",
    "\n",
    "# Exercise 1.4: Divide 18 by 3\n",
    "result_4 = 18 / 3\n",
    "print(result_4)  # Output: 6.0\n",
    "\n",
    "# Exercise 1.5: Floor division to find how many whole times 11 can be divided by 4\n",
    "result_5 = 11 // 4\n",
    "print(result_5)  # Output: 2\n",
    "\n",
    "# Exercise 1.6: Find the remainder when 9 is divided by 4 (modulus operator)\n",
    "result_6 = 9 % 4\n",
    "print(result_6)  # Output: 1\n",
    "\n",
    "# Exercise 1.7: Raise 6 to the power of 3\n",
    "result_7 = 6 ** 3\n",
    "print(result_7)  # Output: 216\n",
    "\n",
    "# Exercise 1.8: Use the negation operator to make 12 negative\n",
    "result_8 = -12\n",
    "print(result_8)  # Output: -12\n"
   ]
  },
  {
   "cell_type": "code",
   "execution_count": null,
   "id": "cf0ca1da",
   "metadata": {},
   "outputs": [
    {
     "data": {
      "text/plain": [
       "'3cats'"
      ]
     },
     "execution_count": 43,
     "metadata": {},
     "output_type": "execute_result"
    }
   ],
   "source": [
    "x = 3\n",
    "y = \"cats\"\n",
    "result = x + y\n",
    "result"
   ]
  },
  {
   "cell_type": "code",
   "execution_count": 35,
   "id": "e9a1873d",
   "metadata": {},
   "outputs": [
    {
     "name": "stdout",
     "output_type": "stream",
     "text": [
      "3 cats\n"
     ]
    }
   ],
   "source": [
    "# converting the integer to a string\n",
    "result = str(x) + y\n",
    "print(result) # Output: '3 cats'"
   ]
  },
  {
   "cell_type": "code",
   "execution_count": 44,
   "id": "928c6009",
   "metadata": {},
   "outputs": [],
   "source": [
    "my_string = \"Python\""
   ]
  },
  {
   "cell_type": "code",
   "execution_count": 46,
   "id": "b0c5364f",
   "metadata": {},
   "outputs": [
    {
     "data": {
      "text/plain": [
       "'h'"
      ]
     },
     "execution_count": 46,
     "metadata": {},
     "output_type": "execute_result"
    }
   ],
   "source": [
    "my_string[3]"
   ]
  },
  {
   "cell_type": "code",
   "execution_count": 54,
   "id": "517d329c",
   "metadata": {},
   "outputs": [
    {
     "data": {
      "text/plain": [
       "'Pyth'"
      ]
     },
     "execution_count": 54,
     "metadata": {},
     "output_type": "execute_result"
    }
   ],
   "source": [
    "my_string[0:4]"
   ]
  },
  {
   "cell_type": "code",
   "execution_count": 53,
   "id": "1ef46591",
   "metadata": {},
   "outputs": [
    {
     "data": {
      "text/plain": [
       "'Pyt'"
      ]
     },
     "execution_count": 53,
     "metadata": {},
     "output_type": "execute_result"
    }
   ],
   "source": [
    "my_string[0:3]"
   ]
  },
  {
   "cell_type": "code",
   "execution_count": 49,
   "id": "379f6014",
   "metadata": {},
   "outputs": [
    {
     "data": {
      "text/plain": [
       "'ython'"
      ]
     },
     "execution_count": 49,
     "metadata": {},
     "output_type": "execute_result"
    }
   ],
   "source": [
    "my_string[1:]"
   ]
  },
  {
   "cell_type": "code",
   "execution_count": 50,
   "id": "28536284",
   "metadata": {},
   "outputs": [
    {
     "data": {
      "text/plain": [
       "'Jython'"
      ]
     },
     "execution_count": 50,
     "metadata": {},
     "output_type": "execute_result"
    }
   ],
   "source": [
    "new_string = \"J\" + my_string[1:]\n",
    "new_string"
   ]
  },
  {
   "cell_type": "code",
   "execution_count": 52,
   "id": "66d86ed0",
   "metadata": {},
   "outputs": [
    {
     "name": "stdout",
     "output_type": "stream",
     "text": [
      "My name is Juliana and I am 31 years old.\n"
     ]
    }
   ],
   "source": [
    "name = \"Juliana\"\n",
    "age = 31\n",
    "greeting = f\"My name is {name} and I am {age} years old.\"\n",
    "print(greeting)"
   ]
  },
  {
   "cell_type": "code",
   "execution_count": null,
   "id": "b38d1481",
   "metadata": {},
   "outputs": [],
   "source": [
    "# This is a dictionary with integer keys and string values\n",
    "user_names = {1: 'Anna', 2: 'John', 3: 'Mike'}"
   ]
  },
  {
   "cell_type": "code",
   "execution_count": null,
   "id": "20050d8b",
   "metadata": {},
   "outputs": [
    {
     "name": "stdout",
     "output_type": "stream",
     "text": [
      "Anna\n",
      "John\n",
      "Mike\n"
     ]
    }
   ],
   "source": [
    "print(user_ages[1])  \n",
    "print(user_ages[2])  \n",
    "print(user_ages[3])  "
   ]
  },
  {
   "cell_type": "code",
   "execution_count": 58,
   "id": "241f7993",
   "metadata": {},
   "outputs": [],
   "source": [
    "# This is a dictionary with string keys and mixed values\n",
    "user_info = {\n",
    "    \"name\": \"John Doe\",\n",
    "    \"age\": 45,\n",
    "    \"is_active\": True\n",
    "}"
   ]
  },
  {
   "cell_type": "code",
   "execution_count": 69,
   "id": "97b3ab70",
   "metadata": {},
   "outputs": [
    {
     "name": "stdout",
     "output_type": "stream",
     "text": [
      "You are an adult.\n"
     ]
    }
   ],
   "source": [
    "# Example:\n",
    "age = 18\n",
    "\n",
    "if age <= 18:\n",
    "    print(\"You are an adult.\")\n"
   ]
  },
  {
   "cell_type": "code",
   "execution_count": 71,
   "id": "9f7c6be3",
   "metadata": {},
   "outputs": [
    {
     "name": "stdout",
     "output_type": "stream",
     "text": [
      "You are a teenager.\n"
     ]
    }
   ],
   "source": [
    "age = 16\n",
    "\n",
    "if age >= 18:\n",
    "    print(\"You are an adult.\")\n",
    "elif age >= 13:\n",
    "    print(\"You are a teenager.\")\n",
    "elif age >= 3:\n",
    "    print(\"You are a child.\")\n",
    "else:\n",
    "    print(\"You are a toddler or an infant.\")"
   ]
  },
  {
   "cell_type": "code",
   "execution_count": null,
   "id": "5fcaff70",
   "metadata": {},
   "outputs": [
    {
     "name": "stdout",
     "output_type": "stream",
     "text": [
      "True\n"
     ]
    }
   ],
   "source": [
    "# Example 1: Comparing two lists (mutable objects)\n",
    "a = [1, 2, 3]\n",
    "b = [1, 2, 3]\n",
    "\n",
    "# Using == to check if they have the same value\n",
    "print(a == b)  # Output: True (because the contents are the same)\n"
   ]
  },
  {
   "cell_type": "code",
   "execution_count": 83,
   "id": "6cae6afd",
   "metadata": {},
   "outputs": [
    {
     "name": "stdout",
     "output_type": "stream",
     "text": [
      "True\n"
     ]
    }
   ],
   "source": [
    "# Using is to check if they are the same object in memory\n",
    "print(a is b)  # Output: False (because they are different objects in memory)"
   ]
  },
  {
   "cell_type": "markdown",
   "id": "bfc15399",
   "metadata": {},
   "source": [
    "in range(start, stop, step)"
   ]
  },
  {
   "cell_type": "code",
   "execution_count": 86,
   "id": "a51773b3",
   "metadata": {},
   "outputs": [
    {
     "name": "stdout",
     "output_type": "stream",
     "text": [
      "0\n",
      "1\n",
      "2\n"
     ]
    }
   ],
   "source": [
    "for i in range(3):\n",
    "    print(i)"
   ]
  },
  {
   "cell_type": "code",
   "execution_count": 84,
   "id": "59800703",
   "metadata": {},
   "outputs": [
    {
     "name": "stdout",
     "output_type": "stream",
     "text": [
      "2\n",
      "3\n",
      "4\n"
     ]
    }
   ],
   "source": [
    "for i in range(2, 5):\n",
    "    print(i)"
   ]
  },
  {
   "cell_type": "code",
   "execution_count": 85,
   "id": "14938054",
   "metadata": {},
   "outputs": [
    {
     "name": "stdout",
     "output_type": "stream",
     "text": [
      "2\n",
      "3\n",
      "4\n"
     ]
    }
   ],
   "source": [
    "for i in range(2, 5):\n",
    "    print(i)\n",
    "\n",
    "#Output:\n",
    "#2\n",
    "#3\n",
    "#4"
   ]
  },
  {
   "cell_type": "code",
   "execution_count": 87,
   "id": "ba46f8ad",
   "metadata": {},
   "outputs": [
    {
     "name": "stdout",
     "output_type": "stream",
     "text": [
      "1\n",
      "3\n",
      "5\n",
      "7\n",
      "9\n"
     ]
    }
   ],
   "source": [
    "for i in range(1, 10, 2):\n",
    "    print(i)"
   ]
  },
  {
   "cell_type": "code",
   "execution_count": 88,
   "id": "55230f5a",
   "metadata": {},
   "outputs": [
    {
     "name": "stdout",
     "output_type": "stream",
     "text": [
      "10\n",
      "8\n",
      "6\n",
      "4\n",
      "2\n"
     ]
    }
   ],
   "source": [
    "for i in range(10, 0, -2):\n",
    "    print(i)"
   ]
  },
  {
   "cell_type": "code",
   "execution_count": 89,
   "id": "f8407522",
   "metadata": {},
   "outputs": [
    {
     "name": "stdout",
     "output_type": "stream",
     "text": [
      "4\n",
      "9\n",
      "25\n",
      "49\n",
      "121\n",
      "225\n"
     ]
    }
   ],
   "source": [
    "prime_numbers = [2, 3, 5, 7, 11, 15]\n",
    "\n",
    "for num in prime_numbers:\n",
    "    print(num**2)  # Printing the square of each number"
   ]
  },
  {
   "cell_type": "markdown",
   "id": "c5a9ab1b",
   "metadata": {},
   "source": [
    "# Combine the number 4 with the string \"real\" to produce \"4real\".\n",
    "combined = str(4) + \"real\""
   ]
  },
  {
   "cell_type": "code",
   "execution_count": 11,
   "id": "a21fa83e",
   "metadata": {},
   "outputs": [
    {
     "name": "stdout",
     "output_type": "stream",
     "text": [
      "<class 'list'>\n"
     ]
    }
   ],
   "source": [
    "list_type = type([])\n",
    "\n",
    "list_type\n",
    "print(list_type)"
   ]
  },
  {
   "cell_type": "markdown",
   "id": "1ae96e3a",
   "metadata": {},
   "source": [
    "Exercices"
   ]
  },
  {
   "cell_type": "code",
   "execution_count": 1,
   "id": "91dc6b08",
   "metadata": {},
   "outputs": [
    {
     "name": "stdout",
     "output_type": "stream",
     "text": [
      "I AM A COMPUTER!\n",
      "Math is fun.\n",
      "That number is greater than 0!\n"
     ]
    }
   ],
   "source": [
    "# Declare a variable called first and assign it to the value \"Hello World\".\n",
    "first = \"Hello World\"\n",
    "\n",
    "# Write a comment that says \"This is a comment.\"\n",
    "# This is a comment.\n",
    "\n",
    "# Log a message to the terminal that says \"I AM A COMPUTER!\"\n",
    "print(\"I AM A COMPUTER!\")\n",
    "\n",
    "# Write an if statement that checks if 1 is less than 2 and if 4 is greater than 2. If it is, show the message \"Math is fun.\"\n",
    "if 1 < 2 and 4 > 2:\n",
    "    print(\"Math is fun.\")\n",
    "\n",
    "# Assign a variable called nope to an absence of value.\n",
    "nope = None\n",
    "\n",
    "# Use the language’s “and” boolean operator to combine the language’s “true” value with its “false” value.\n",
    "result = True and False\n",
    "\n",
    "# Calculate the length of the string \"What's my length?\"\n",
    "length = len(\"What's my length?\")\n",
    "\n",
    "# Convert the string \"i am shouting\" to uppercase.\n",
    "shouting = \"i am shouting\".upper()\n",
    "\n",
    "# Convert the string \"1000\" to the number 1000.\n",
    "number = int(\"1000\")\n",
    "\n",
    "# Combine the number 4 with the string \"real\" to produce \"4real\".\n",
    "combined = str(4) + \"real\"\n",
    "\n",
    "# Record the output of the expression 3 * \"cool\".\n",
    "output = 3 * \"cool\"  # \"coolcoolcool\"\n",
    "\n",
    "# Record the output of the expression 1 / 0.\n",
    "# This will cause an error: ZeroDivisionError: division by zero\n",
    "\n",
    "# Determine the type of [].\n",
    "list_type = type([])  # <class 'list'>\n",
    "\n",
    "# Ask the user for their name, and store it in a variable called name.\n",
    "name = input(\"What is your name? \")\n",
    "\n",
    "# Ask the user for a number. If the number is negative, show a message that says \"That number is less than 0!\" If the number is positive, show a message that says \"That number is greater than 0!\" Otherwise, show a message that says \"You picked 0!\".\n",
    "number = float(input(\"Enter a number: \"))\n",
    "if number < 0:\n",
    "    print(\"That number is less than 0!\")\n",
    "elif number > 0:\n",
    "    print(\"That number is greater than 0!\")\n",
    "else:\n",
    "    print(\"You picked 0!\")\n",
    "\n",
    "# Find the index of \"l\" in \"apple\".\n",
    "index_of_l = \"apple\".index(\"l\")\n",
    "\n",
    "# Check whether \"y\" is in \"xylophone\".\n",
    "y_in_xylophone = \"y\" in \"xylophone\"\n",
    "\n",
    "# Check whether a string called my_string is all in lowercase.\n",
    "my_string = \"example\"  # Assign a value to my_string for checking\n",
    "is_lowercase = my_string.islower()"
   ]
  },
  {
   "cell_type": "code",
   "execution_count": null,
   "id": "bb2c53e1",
   "metadata": {},
   "outputs": [],
   "source": [
    "# Définir une fonction pour calculer les âges des chats et des chiens en fonction des années humaines\n",
    "def calculate_years(human_years):\n",
    "    # Si l'animal a 1 an humain\n",
    "    if human_years == 1:\n",
    "        cat_years = 15  # Première année compte pour 15 années de chat\n",
    "        dog_years = 15  # Première année compte pour 15 années de chien\n",
    "\n",
    "    # Si l'animal a 2 ans humains\n",
    "    elif human_years == 2:\n",
    "        cat_years = 15 + 9  # Première année + deuxième année = 15 + 9 années de chat\n",
    "        dog_years = 15 + 9  # Première année + deuxième année = 15 + 9 années de chien\n",
    "\n",
    "    # Si l'animal a plus de 2 ans humains\n",
    "    else:\n",
    "        # Première année + deuxième année + autres années (4 par année pour le chat)\n",
    "        cat_years = 15 + 9 + (human_years - 2) * 4\n",
    "        # Première année + deuxième année + autres années (5 par année pour le chien)\n",
    "        dog_years = 15 + 9 + (human_years - 2) * 5\n",
    "\n",
    "    # Retourner les âges en format [années humaines, années de chat, années de chien]\n",
    "    return [human_years, cat_years, dog_years]\n",
    "\n",
    "# Tester le programme avec les valeurs données\n",
    "test_values = [10, 1, 2]\n",
    "for years in test_values:\n",
    "    result = calculate_years(years)\n",
    "    print(f\"human_years = {years} -> output: {result}\")"
   ]
  },
  {
   "cell_type": "code",
   "execution_count": 13,
   "id": "8e75719e",
   "metadata": {},
   "outputs": [
    {
     "name": "stdout",
     "output_type": "stream",
     "text": [
      "[6, 40, 44]\n"
     ]
    }
   ],
   "source": [
    "#We retrieve the number of years in human time\"\n",
    "humanYears = int(input(\"Enter the number of human years: \"))\n",
    "#We calculate equivalents for catYears and dogYears for first Year\n",
    "if humanYears == 1:\n",
    "    catYears = 15\n",
    "    dogYears = 15\n",
    "#We calculate equivalents for catYears and dogYears for second Year\n",
    "elif humanYears == 2:\n",
    "    catYears = 15 + 9\n",
    "    dogYears = 15 + 9\n",
    "#We calculate equivalents for catYears and dogYears for years past second Year\n",
    "else:\n",
    "    catYears = 15 + 9 + (humanYears - 2) * 4\n",
    "    dogYears = 15 + 9 + (humanYears - 2) * 5\n",
    "print([humanYears, catYears, dogYears])"
   ]
  }
 ],
 "metadata": {
  "kernelspec": {
   "display_name": "Python 3",
   "language": "python",
   "name": "python3"
  },
  "language_info": {
   "codemirror_mode": {
    "name": "ipython",
    "version": 3
   },
   "file_extension": ".py",
   "mimetype": "text/x-python",
   "name": "python",
   "nbconvert_exporter": "python",
   "pygments_lexer": "ipython3",
   "version": "3.11.9"
  }
 },
 "nbformat": 4,
 "nbformat_minor": 5
}
