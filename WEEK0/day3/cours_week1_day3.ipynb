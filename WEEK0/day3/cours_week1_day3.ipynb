{
 "cells": [
  {
   "cell_type": "code",
   "execution_count": 4,
   "id": "aa4fe122",
   "metadata": {},
   "outputs": [
    {
     "name": "stdout",
     "output_type": "stream",
     "text": [
      "Hello World!\n"
     ]
    }
   ],
   "source": [
    "def first_function():\n",
    "    print(\"Hello World!\")\n",
    "\n",
    "first_function()  # Output: Hello World!\n",
    "\n"
   ]
  },
  {
   "cell_type": "code",
   "execution_count": 10,
   "id": "71588dad",
   "metadata": {},
   "outputs": [
    {
     "name": "stdout",
     "output_type": "stream",
     "text": [
      "10\n"
     ]
    }
   ],
   "source": [
    "def add_two_numbers():\n",
    "    return 5 + 5\n",
    "\n",
    "print(add_two_numbers())\n"
   ]
  },
  {
   "cell_type": "code",
   "execution_count": 8,
   "id": "13c015e0",
   "metadata": {},
   "outputs": [
    {
     "name": "stdout",
     "output_type": "stream",
     "text": [
      "20\n"
     ]
    }
   ],
   "source": [
    "ten = add_two_numbers()\n",
    "print(ten + 10)  # Output: 20"
   ]
  },
  {
   "cell_type": "code",
   "execution_count": 11,
   "id": "afc9214a",
   "metadata": {},
   "outputs": [
    {
     "name": "stdout",
     "output_type": "stream",
     "text": [
      "10\n",
      "10\n",
      "None\n"
     ]
    }
   ],
   "source": [
    "def print_five_plus_five():\n",
    "    print(5 + 5)\n",
    "\n",
    "def add_five_plus_five():\n",
    "    return 5 + 5\n",
    "\n",
    "ten = add_five_plus_five()\n",
    "maybe_ten = print_five_plus_five()  # This line should print 10 to the console\n",
    "\n",
    "print(ten)  # Output: 10\n",
    "print(maybe_ten)  # Output: None"
   ]
  },
  {
   "cell_type": "code",
   "execution_count": null,
   "id": "7b940162",
   "metadata": {},
   "outputs": [
    {
     "name": "stdout",
     "output_type": "stream",
     "text": [
      "sunny\n"
     ]
    }
   ],
   "source": [
    "#Exercise 2: Weather Check Function\n",
    "\n",
    "#1 Create a function called check_weather.\n",
    "#2 Inside the function, define a variable called weather and set it to \"sunny\".\n",
    "\n",
    "def check_weather():\n",
    "    print(\"sunny\")\n",
    "\n",
    "check_weather()"
   ]
  },
  {
   "cell_type": "code",
   "execution_count": null,
   "id": "deaadb89",
   "metadata": {},
   "outputs": [],
   "source": [
    "#3 Use an if statement to check if the value of weather is \"sunny\". If it is, print \"It's a sunny day! Enjoy!\".\n",
    "\n"
   ]
  },
  {
   "cell_type": "code",
   "execution_count": 39,
   "id": "a28719ff",
   "metadata": {},
   "outputs": [
    {
     "name": "stdout",
     "output_type": "stream",
     "text": [
      "this is my cat kitty and this is my dog rintintin\n"
     ]
    }
   ],
   "source": [
    "#Exercise 1: Keyword Arguments\n",
    "\n",
    "def introduce_pets(cat_name, dog_name):\n",
    "    return f\"this is my cat {cat_name} and this is my dog {dog_name}\"\n",
    "print(introduce_pets(\"kitty\", \"rintintin\"))"
   ]
  },
  {
   "cell_type": "code",
   "execution_count": 40,
   "id": "961c79b3",
   "metadata": {},
   "outputs": [
    {
     "name": "stdout",
     "output_type": "stream",
     "text": [
      "this is my cat kitty and this is my dog rintintin\n"
     ]
    }
   ],
   "source": [
    "def introduce_pets(cat_name, dog_name):\n",
    "    return f\"this is my cat {cat_name} and this is my dog {dog_name}\"\n",
    "print(introduce_pets(dog_name=\"rintintin\", cat_name=\"kitty\"))"
   ]
  },
  {
   "cell_type": "code",
   "execution_count": null,
   "id": "44ad6916",
   "metadata": {},
   "outputs": [
    {
     "name": "stdout",
     "output_type": "stream",
     "text": [
      "<function add at 0x103ee9160>\n"
     ]
    }
   ],
   "source": [
    "def add(a=5, b=15):\n",
    "    return a + b\n"
   ]
  },
  {
   "cell_type": "code",
   "execution_count": 48,
   "id": "f728e384",
   "metadata": {},
   "outputs": [
    {
     "name": "stdout",
     "output_type": "stream",
     "text": [
      "hello alice! You are 30 years old\n"
     ]
    }
   ],
   "source": [
    "#Exercise 2\n",
    "\n",
    "#1. Write a function greet_person that takes two parameters: name (string) and age (integer). The function should return a message that says:\n",
    "#\"Hello, [name]! You are [age] years old.\"\n",
    "\n",
    "def greet_person(name_person, age_person):\n",
    "    return f\"hello {name_person}! You are {age_person} years old\"\n",
    "print(greet_person (\"alice\", 30))"
   ]
  },
  {
   "cell_type": "code",
   "execution_count": 52,
   "id": "e888c12d",
   "metadata": {},
   "outputs": [
    {
     "name": "stdout",
     "output_type": "stream",
     "text": [
      "hello alice! You are 25 years old\n"
     ]
    }
   ],
   "source": [
    "#2. Modify the function greet_person to accept a default age of 25 if no age is provided.\n",
    "\n",
    "def greet_person(name_person, age_person = 25):\n",
    "    return f\"hello {name_person}! You are {age_person} years old\"\n",
    "print(greet_person (\"alice\"))"
   ]
  },
  {
   "cell_type": "code",
   "execution_count": 58,
   "id": "27a3344b",
   "metadata": {},
   "outputs": [
    {
     "name": "stdout",
     "output_type": "stream",
     "text": [
      "0\n"
     ]
    }
   ],
   "source": [
    "#Define a function increment_global_counter() that modifies a global variable counter using the global keyword.\n",
    "#The function should increase counter by 1 each time it's called.\n",
    "\n",
    "counter = 0\n",
    "def increment_global_counter():\n",
    "    global counter \n",
    "    counter += 1\n",
    "\n",
    "\n",
    "print(counter)\n"
   ]
  },
  {
   "cell_type": "code",
   "execution_count": null,
   "id": "7b88a105",
   "metadata": {},
   "outputs": [],
   "source": []
  }
 ],
 "metadata": {
  "kernelspec": {
   "display_name": "Python 3",
   "language": "python",
   "name": "python3"
  },
  "language_info": {
   "name": "python",
   "version": "3.9.6"
  }
 },
 "nbformat": 4,
 "nbformat_minor": 5
}
