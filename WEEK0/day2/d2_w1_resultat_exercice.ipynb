{
 "cells": [
  {
   "cell_type": "markdown",
   "id": "0cc2d0f9",
   "metadata": {},
   "source": [
    "### BootCamp : D2_W1"
   ]
  },
  {
   "cell_type": "markdown",
   "id": "fd11eb8f",
   "metadata": {},
   "source": [
    "###### Author : Clara Martinez"
   ]
  },
  {
   "cell_type": "markdown",
   "id": "da6bc07a",
   "metadata": {},
   "source": [
    "**Strings**"
   ]
  },
  {
   "cell_type": "code",
   "execution_count": 7,
   "id": "6f63b421",
   "metadata": {},
   "outputs": [
    {
     "name": "stdout",
     "output_type": "stream",
     "text": [
      "this Is nIce\n",
      "THIS IS NICE\n"
     ]
    }
   ],
   "source": [
    "ex = \"this Is nIce\"\n",
    "maj = ex.upper() \n",
    "\n",
    "print(ex)\n",
    "print(maj)"
   ]
  },
  {
   "cell_type": "code",
   "execution_count": 8,
   "id": "0d0e002e",
   "metadata": {},
   "outputs": [
    {
     "data": {
      "text/plain": [
       "'this is nice'"
      ]
     },
     "execution_count": 8,
     "metadata": {},
     "output_type": "execute_result"
    }
   ],
   "source": [
    "ex.lower()"
   ]
  },
  {
   "cell_type": "code",
   "execution_count": 9,
   "id": "0d2eb6bb",
   "metadata": {},
   "outputs": [
    {
     "data": {
      "text/plain": [
       "'This is nice'"
      ]
     },
     "execution_count": 9,
     "metadata": {},
     "output_type": "execute_result"
    }
   ],
   "source": [
    "ex.capitalize()"
   ]
  },
  {
   "cell_type": "code",
   "execution_count": 10,
   "id": "5271a086",
   "metadata": {},
   "outputs": [
    {
     "data": {
      "text/plain": [
       "'This Is Nice'"
      ]
     },
     "execution_count": 10,
     "metadata": {},
     "output_type": "execute_result"
    }
   ],
   "source": [
    "ex.title()"
   ]
  },
  {
   "cell_type": "code",
   "execution_count": null,
   "id": "ad5a4e7e",
   "metadata": {},
   "outputs": [
    {
     "data": {
      "text/plain": [
       "4"
      ]
     },
     "execution_count": 5,
     "metadata": {},
     "output_type": "execute_result"
    }
   ],
   "source": [
    "instructor = 'Juliana'\n",
    "instructor.find('a') # it IS case sensitive so it returns -1 which means there is no such letter "
   ]
  },
  {
   "cell_type": "code",
   "execution_count": 14,
   "id": "9f23f978",
   "metadata": {},
   "outputs": [
    {
     "name": "stdout",
     "output_type": "stream",
     "text": [
      "[4, 6]\n"
     ]
    }
   ],
   "source": [
    "instructor = 'Juliana'\n",
    "indices = []\n",
    "\n",
    "# Parcourir la chaîne par index\n",
    "for index, char in enumerate(instructor):\n",
    "    if char == 'a':\n",
    "        indices.append(index)\n",
    "\n",
    "print(indices)  # Cela affichera [4, 6]"
   ]
  },
  {
   "cell_type": "code",
   "execution_count": null,
   "id": "52b0fbdc",
   "metadata": {},
   "outputs": [
    {
     "data": {
      "text/plain": [
       "0"
      ]
     },
     "execution_count": 2,
     "metadata": {},
     "output_type": "execute_result"
    }
   ],
   "source": [
    "instructor.find('J') "
   ]
  },
  {
   "cell_type": "code",
   "execution_count": 6,
   "id": "ef9f58b2",
   "metadata": {},
   "outputs": [
    {
     "name": "stdout",
     "output_type": "stream",
     "text": [
      "Python is great\n",
      "1, 2, 3, 4\n"
     ]
    }
   ],
   "source": [
    "# Example: Joining a list of words with a space\n",
    "words = ['Python', 'is', 'great']\n",
    "sentence = ' '.join(words)  \n",
    "print(sentence)\n",
    "# 'Python is great'\n",
    "\n",
    "# Example: Joining a list of numbers with a comma\n",
    "numbers = ['1', '2', '3', '4']\n",
    "number_string = ', '.join(numbers)  \n",
    "print(number_string)\n",
    "# '1, 2, 3, 4'"
   ]
  },
  {
   "cell_type": "markdown",
   "id": "12088eba",
   "metadata": {},
   "source": [
    "Exercice 1"
   ]
  },
  {
   "cell_type": "code",
   "execution_count": 7,
   "id": "927a63f2",
   "metadata": {},
   "outputs": [],
   "source": [
    "text = \"Python is Fun!\""
   ]
  },
  {
   "cell_type": "code",
   "execution_count": 8,
   "id": "5401783e",
   "metadata": {},
   "outputs": [
    {
     "name": "stdout",
     "output_type": "stream",
     "text": [
      "Uppercase: PYTHON IS FUN!\n"
     ]
    }
   ],
   "source": [
    "# 1. Convert the entire string to uppercase\n",
    "upper_text = text.upper()\n",
    "print(\"Uppercase:\", upper_text)  "
   ]
  },
  {
   "cell_type": "code",
   "execution_count": 9,
   "id": "7d8efed2",
   "metadata": {},
   "outputs": [
    {
     "name": "stdout",
     "output_type": "stream",
     "text": [
      "Capitalized: Python is fun!\n"
     ]
    }
   ],
   "source": [
    "# 2. Make the first letter upper case (capitalize the sentence)\n",
    "capitalized_text = text.capitalize()\n",
    "print(\"Capitalized:\", capitalized_text)"
   ]
  },
  {
   "cell_type": "code",
   "execution_count": 10,
   "id": "c4a0da36",
   "metadata": {},
   "outputs": [
    {
     "name": "stdout",
     "output_type": "stream",
     "text": [
      "Title Case: Python Is Fun!\n"
     ]
    }
   ],
   "source": [
    "# 3. Make the first letter of each word upper case (title case)\n",
    "title_text = text.title()\n",
    "print(\"Title Case:\", title_text) "
   ]
  },
  {
   "cell_type": "code",
   "execution_count": 11,
   "id": "e7ca73b2",
   "metadata": {},
   "outputs": [
    {
     "name": "stdout",
     "output_type": "stream",
     "text": [
      "Index of 'F': 10\n"
     ]
    }
   ],
   "source": [
    "# 4. Find the index of \"F\". What happens if you use lower case in the method?\n",
    "index_of_F = text.find(\"F\")\n",
    "print(\"Index of 'F':\", index_of_F) "
   ]
  },
  {
   "cell_type": "code",
   "execution_count": 12,
   "id": "9e9c3b0f",
   "metadata": {},
   "outputs": [
    {
     "name": "stdout",
     "output_type": "stream",
     "text": [
      "Index of 'f': -1\n"
     ]
    }
   ],
   "source": [
    "# If you use lower case 'f', it returns -1 because find() is case-sensitive:\n",
    "index_of_f = text.find(\"f\")\n",
    "print(\"Index of 'f':\", index_of_f)"
   ]
  },
  {
   "cell_type": "code",
   "execution_count": 13,
   "id": "549ecac6",
   "metadata": {},
   "outputs": [
    {
     "name": "stdout",
     "output_type": "stream",
     "text": [
      "Index of 'is': 7\n"
     ]
    }
   ],
   "source": [
    "# 5. Find a substring (\"is\" in this case)\n",
    "index_of_is = text.find(\"is\")\n",
    "print(\"Index of 'is':\", index_of_is) "
   ]
  },
  {
   "cell_type": "code",
   "execution_count": 15,
   "id": "a8d085b1",
   "metadata": {},
   "outputs": [
    {
     "name": "stdout",
     "output_type": "stream",
     "text": [
      "False\n",
      "True\n"
     ]
    }
   ],
   "source": [
    "serial_num = 'B456 523'\n",
    "print(serial_num .isalpha()) # False\n",
    "print(serial_num [0].isalpha()) # True"
   ]
  },
  {
   "cell_type": "code",
   "execution_count": 16,
   "id": "34a21ade",
   "metadata": {},
   "outputs": [
    {
     "name": "stdout",
     "output_type": "stream",
     "text": [
      "False\n",
      "False\n",
      "True\n"
     ]
    }
   ],
   "source": [
    "serial_num = \"1234 5678\"\n",
    "print(serial_num.isspace())  # False\n",
    "print(serial_num[0].isspace())  # False\n",
    "print(serial_num[4].isspace())  # True"
   ]
  },
  {
   "cell_type": "markdown",
   "id": "1f87a0f9",
   "metadata": {},
   "source": [
    "**Lists**"
   ]
  },
  {
   "cell_type": "code",
   "execution_count": 17,
   "id": "508c4602",
   "metadata": {},
   "outputs": [
    {
     "name": "stdout",
     "output_type": "stream",
     "text": [
      "a\n"
     ]
    }
   ],
   "source": [
    "my_list = [\"a\", 1, True]\n",
    "print(my_list[0])"
   ]
  },
  {
   "cell_type": "markdown",
   "id": "fb08804f",
   "metadata": {},
   "source": [
    "Exercice 1"
   ]
  },
  {
   "cell_type": "markdown",
   "id": "91d186fc",
   "metadata": {},
   "source": [
    "**1er element = Index 0**"
   ]
  },
  {
   "cell_type": "code",
   "execution_count": 18,
   "id": "deed7bd2",
   "metadata": {},
   "outputs": [],
   "source": [
    "fruits = [\"apple\", \"banana\", \"cherry\", \"date\", \"elderberry\"]"
   ]
  },
  {
   "cell_type": "code",
   "execution_count": null,
   "id": "33e26e3e",
   "metadata": {},
   "outputs": [],
   "source": [
    "# 1. Print the first element from the list.\n",
    "print(fruits[0])  # Output: \"apple\"\n",
    "\n",
    "# 2. Print the third element from the list.\n",
    "print(fruits[2])  # Output: \"cherry\"\n",
    "\n",
    "# 3. Try accessing an element at an index that doesn't exist.\n",
    "# This will raise an IndexError.\n",
    "# print(fruits[5])  # Uncomment to see the error: IndexError: list index out of range\n",
    "\n",
    "# 4. Change the second fruit (\"banana\") to \"blueberry\".\n",
    "fruits[1] = \"blueberry\"\n",
    "print(fruits)  # Output: [\"apple\", \"blueberry\", \"cherry\", \"date\", \"elderberry\"]"
   ]
  },
  {
   "cell_type": "code",
   "execution_count": 29,
   "id": "b8759f0d",
   "metadata": {},
   "outputs": [],
   "source": [
    "numbers = [1, 2, 3]"
   ]
  },
  {
   "cell_type": "code",
   "execution_count": null,
   "id": "d354ebbe",
   "metadata": {},
   "outputs": [
    {
     "name": "stdout",
     "output_type": "stream",
     "text": [
      "[1, 2, 3, 10]\n"
     ]
    }
   ],
   "source": [
    "numbers.append(10)"
   ]
  },
  {
   "cell_type": "code",
   "execution_count": 32,
   "id": "dc62c23b",
   "metadata": {},
   "outputs": [
    {
     "name": "stdout",
     "output_type": "stream",
     "text": [
      "[]\n"
     ]
    }
   ],
   "source": [
    "numbers.clear()\n",
    "print(numbers) \n"
   ]
  },
  {
   "cell_type": "code",
   "execution_count": 33,
   "id": "26d964f5",
   "metadata": {},
   "outputs": [
    {
     "name": "stdout",
     "output_type": "stream",
     "text": [
      "[]\n"
     ]
    }
   ],
   "source": [
    "numbers.copy()\n",
    "print(numbers)"
   ]
  },
  {
   "cell_type": "markdown",
   "id": "f798feae",
   "metadata": {},
   "source": [
    "Exercice 2 "
   ]
  },
  {
   "cell_type": "code",
   "execution_count": 34,
   "id": "0cf217d0",
   "metadata": {},
   "outputs": [],
   "source": [
    "fruits = [\"apple\", \"banana\", \"cherry\", \"date\", \"elderberry\"]"
   ]
  },
  {
   "cell_type": "code",
   "execution_count": 35,
   "id": "8babea39",
   "metadata": {},
   "outputs": [
    {
     "name": "stdout",
     "output_type": "stream",
     "text": [
      "['apple', 'banana', 'cherry', 'date', 'elderberry', 'fig']\n"
     ]
    }
   ],
   "source": [
    "# 1. Add \"fig\" to the end of the fruits\n",
    "fruits.append(\"fig\")\n",
    "print(fruits)"
   ]
  },
  {
   "cell_type": "code",
   "execution_count": 36,
   "id": "5ad7dee2",
   "metadata": {},
   "outputs": [
    {
     "name": "stdout",
     "output_type": "stream",
     "text": [
      "['grape', 'apple', 'banana', 'cherry', 'date', 'elderberry', 'fig']\n"
     ]
    }
   ],
   "source": [
    "# 2. Insert \"grape\" at the beginning of the list\n",
    "fruits.insert(0, \"grape\")\n",
    "print(fruits)"
   ]
  },
  {
   "cell_type": "code",
   "execution_count": 37,
   "id": "a1feef98",
   "metadata": {},
   "outputs": [
    {
     "name": "stdout",
     "output_type": "stream",
     "text": [
      "['grape', 'apple', 'banana', 'date', 'elderberry', 'fig']\n"
     ]
    }
   ],
   "source": [
    "# 3. Remove \"cherry\" from the list using the specific method for it\n",
    "fruits.remove(\"cherry\")\n",
    "print(fruits)"
   ]
  },
  {
   "cell_type": "code",
   "execution_count": 38,
   "id": "3252ef89",
   "metadata": {},
   "outputs": [
    {
     "name": "stdout",
     "output_type": "stream",
     "text": [
      "fig\n",
      "['grape', 'apple', 'banana', 'date', 'elderberry']\n"
     ]
    }
   ],
   "source": [
    "# 4. Remove the last element from the list using the specific method for it\n",
    "last_fruit = fruits.pop()\n",
    "print(last_fruit)\n",
    "print(fruits)"
   ]
  },
  {
   "cell_type": "code",
   "execution_count": 39,
   "id": "33c940ba",
   "metadata": {},
   "outputs": [
    {
     "name": "stdout",
     "output_type": "stream",
     "text": [
      "['grape', 'apple', 'banana', 'date', 'elderberry', 'strawberry', 'raspberry', 'blueberry']\n"
     ]
    }
   ],
   "source": [
    "# 5. Create another list of berries and combine it with the fruits list into a list called \"combined_list\"\n",
    "berries = [\"strawberry\", \"raspberry\", \"blueberry\"]\n",
    "combined_list = fruits + berries\n",
    "print(combined_list)"
   ]
  },
  {
   "cell_type": "code",
   "execution_count": 40,
   "id": "65be690d",
   "metadata": {},
   "outputs": [
    {
     "name": "stdout",
     "output_type": "stream",
     "text": [
      "['apple', 'banana', 'blueberry', 'date', 'elderberry', 'grape', 'raspberry', 'strawberry']\n"
     ]
    }
   ],
   "source": [
    "# 6. Sort the combined_list\n",
    "combined_list.sort()\n",
    "print(combined_list)"
   ]
  },
  {
   "cell_type": "code",
   "execution_count": 41,
   "id": "6817f39f",
   "metadata": {},
   "outputs": [
    {
     "name": "stdout",
     "output_type": "stream",
     "text": [
      "['grape', 'raspberry', 'strawberry']\n"
     ]
    }
   ],
   "source": [
    "# 7. Slice the last three elements of the combined list\n",
    "last_three = combined_list[-3:]\n",
    "print(last_three) "
   ]
  },
  {
   "cell_type": "code",
   "execution_count": 44,
   "id": "321657c4",
   "metadata": {},
   "outputs": [
    {
     "name": "stdout",
     "output_type": "stream",
     "text": [
      "['strawberry', 'raspberry', 'grape']\n"
     ]
    }
   ],
   "source": [
    "last_three = combined_list[-1:-4:-1]\n",
    "print(last_three)"
   ]
  },
  {
   "cell_type": "code",
   "execution_count": null,
   "id": "01a2c579",
   "metadata": {},
   "outputs": [],
   "source": [
    "fruits = [\"apple\", \"banana\", \"cherry\", \"date\"]"
   ]
  },
  {
   "cell_type": "code",
   "execution_count": 49,
   "id": "8c2c5397",
   "metadata": {},
   "outputs": [
    {
     "name": "stdout",
     "output_type": "stream",
     "text": [
      "{1, 2, 3, 5}\n"
     ]
    }
   ],
   "source": [
    "s = {1, 2, 3}\n",
    "s.add(5)\n",
    "print(s)  # Output: {1, 2, 3, 4}\n"
   ]
  },
  {
   "cell_type": "markdown",
   "id": "e715c776",
   "metadata": {},
   "source": [
    "Exercise 1 : Lists"
   ]
  },
  {
   "cell_type": "code",
   "execution_count": 66,
   "id": "314da502",
   "metadata": {},
   "outputs": [
    {
     "data": {
      "text/plain": [
       "1"
      ]
     },
     "metadata": {},
     "output_type": "display_data"
    },
    {
     "data": {
      "text/plain": [
       "2"
      ]
     },
     "metadata": {},
     "output_type": "display_data"
    },
    {
     "data": {
      "text/plain": [
       "3"
      ]
     },
     "metadata": {},
     "output_type": "display_data"
    },
    {
     "data": {
      "text/plain": [
       "4"
      ]
     },
     "metadata": {},
     "output_type": "display_data"
    }
   ],
   "source": [
    "#1 Given a list [1, 2, 3, 4], output all values one by one.\n",
    "list1 = [1, 2, 3, 4]\n",
    "\n",
    "# Display each value one by one\n",
    "for value in list1:\n",
    "    display(value) "
   ]
  },
  {
   "cell_type": "code",
   "execution_count": 67,
   "id": "a36661f7",
   "metadata": {},
   "outputs": [
    {
     "data": {
      "text/plain": [
       "20"
      ]
     },
     "metadata": {},
     "output_type": "display_data"
    },
    {
     "data": {
      "text/plain": [
       "40"
      ]
     },
     "metadata": {},
     "output_type": "display_data"
    },
    {
     "data": {
      "text/plain": [
       "60"
      ]
     },
     "metadata": {},
     "output_type": "display_data"
    },
    {
     "data": {
      "text/plain": [
       "80"
      ]
     },
     "metadata": {},
     "output_type": "display_data"
    }
   ],
   "source": [
    "#2 Given a list [1, 2, 3, 4], output all values multiplied by 20.\n",
    "list2 = [x * 20 for x in [1, 2, 3, 4]]\n",
    "\n",
    "# Output each value one by one\n",
    "for value in list2:\n",
    "    display(value) "
   ]
  },
  {
   "cell_type": "code",
   "execution_count": 52,
   "id": "d6fa19a9",
   "metadata": {},
   "outputs": [
    {
     "data": {
      "text/plain": [
       "['E', 'T', 'M']"
      ]
     },
     "execution_count": 52,
     "metadata": {},
     "output_type": "execute_result"
    }
   ],
   "source": [
    "#3 Given a list [\"Elie\", \"Tim\", \"Matt\"], return a new list with only the first letter of each name.\n",
    "list3 = [name[0] for name in [\"Elie\", \"Tim\", \"Matt\"]]\n",
    "list3"
   ]
  },
  {
   "cell_type": "code",
   "execution_count": 70,
   "id": "8c795836",
   "metadata": {},
   "outputs": [
    {
     "data": {
      "text/plain": [
       "['E', 'T', 'M']"
      ]
     },
     "execution_count": 70,
     "metadata": {},
     "output_type": "execute_result"
    }
   ],
   "source": [
    "list = [\"Elie\", \"Tim\", \"Matt\"]\n",
    "list3 = [name[0] for name in list]\n",
    "list3"
   ]
  },
  {
   "cell_type": "code",
   "execution_count": null,
   "id": "9010a84a",
   "metadata": {},
   "outputs": [
    {
     "data": {
      "text/plain": [
       "['E', 'T', 'M']"
      ]
     },
     "execution_count": 72,
     "metadata": {},
     "output_type": "execute_result"
    }
   ],
   "source": [
    "list = [\"Elie\", \"Tim\", \"Matt\"]\n",
    "list3 = []\n",
    "\n",
    "for name in list:\n",
    "    list3.append(name[0])\n",
    "\n",
    "list3"
   ]
  },
  {
   "cell_type": "code",
   "execution_count": 53,
   "id": "5e5680ad",
   "metadata": {},
   "outputs": [
    {
     "data": {
      "text/plain": [
       "[2, 4, 6]"
      ]
     },
     "execution_count": 53,
     "metadata": {},
     "output_type": "execute_result"
    }
   ],
   "source": [
    "#4 Given a list [1, 2, 3, 4, 5, 6], return a new list with all the even values.\n",
    "list4 = [x for x in [1, 2, 3, 4, 5, 6] if x % 2 == 0]\n",
    "list4"
   ]
  },
  {
   "cell_type": "code",
   "execution_count": 73,
   "id": "d6e5826d",
   "metadata": {},
   "outputs": [
    {
     "data": {
      "text/plain": [
       "[2, 4, 6]"
      ]
     },
     "execution_count": 73,
     "metadata": {},
     "output_type": "execute_result"
    }
   ],
   "source": [
    "numbers = [1, 2, 3, 4, 5, 6]\n",
    "even_numbers = []\n",
    "\n",
    "for num in numbers:\n",
    "    if num % 2 == 0:\n",
    "        even_numbers.append(num)\n",
    "\n",
    "even_numbers "
   ]
  },
  {
   "cell_type": "code",
   "execution_count": 54,
   "id": "ae060522",
   "metadata": {},
   "outputs": [
    {
     "data": {
      "text/plain": [
       "[3, 4]"
      ]
     },
     "execution_count": 54,
     "metadata": {},
     "output_type": "execute_result"
    }
   ],
   "source": [
    "#5 Given two lists [1, 2, 3, 4] and [3, 4, 5, 6], return a new list that contains only the values present in both lists.\n",
    "list5 = [x for x in [1, 2, 3, 4] if x in [3, 4, 5, 6]]\n",
    "list5"
   ]
  },
  {
   "cell_type": "code",
   "execution_count": 74,
   "id": "f68554ca",
   "metadata": {},
   "outputs": [
    {
     "data": {
      "text/plain": [
       "[3, 4]"
      ]
     },
     "execution_count": 74,
     "metadata": {},
     "output_type": "execute_result"
    }
   ],
   "source": [
    "l1 =  [1, 2, 3, 4]\n",
    "l2 = [3, 4, 5, 6]\n",
    "l3 = []\n",
    "for x in l1: \n",
    "    if x in l2:\n",
    "        l3.append(x)\n",
    "l3"
   ]
  },
  {
   "cell_type": "code",
   "execution_count": 96,
   "id": "50bab44b",
   "metadata": {},
   "outputs": [
    {
     "ename": "TypeError",
     "evalue": "'list' object is not callable",
     "output_type": "error",
     "traceback": [
      "\u001b[1;31m---------------------------------------------------------------------------\u001b[0m",
      "\u001b[1;31mTypeError\u001b[0m                                 Traceback (most recent call last)",
      "Cell \u001b[1;32mIn[96], line 3\u001b[0m\n\u001b[0;32m      1\u001b[0m firstList \u001b[38;5;241m=\u001b[39m [\u001b[38;5;241m1\u001b[39m, \u001b[38;5;241m2\u001b[39m, \u001b[38;5;241m3\u001b[39m, \u001b[38;5;241m4\u001b[39m]\n\u001b[0;32m      2\u001b[0m secondList \u001b[38;5;241m=\u001b[39m [\u001b[38;5;241m3\u001b[39m, \u001b[38;5;241m4\u001b[39m, \u001b[38;5;241m5\u001b[39m, \u001b[38;5;241m6\u001b[39m]\n\u001b[1;32m----> 3\u001b[0m common \u001b[38;5;241m=\u001b[39m \u001b[38;5;28;43mlist\u001b[39;49m\u001b[43m(\u001b[49m\u001b[38;5;28;43mset\u001b[39;49m\u001b[43m(\u001b[49m\u001b[43mfirstList\u001b[49m\u001b[43m)\u001b[49m\u001b[38;5;241;43m.\u001b[39;49m\u001b[43mintersection\u001b[49m\u001b[43m(\u001b[49m\u001b[38;5;28;43mset\u001b[39;49m\u001b[43m(\u001b[49m\u001b[43msecondList\u001b[49m\u001b[43m)\u001b[49m\u001b[43m)\u001b[49m\u001b[43m)\u001b[49m\n\u001b[0;32m      4\u001b[0m \u001b[38;5;28mprint\u001b[39m(common)\n",
      "\u001b[1;31mTypeError\u001b[0m: 'list' object is not callable"
     ]
    }
   ],
   "source": [
    "firstList = [1, 2, 3, 4]\n",
    "secondList = [3, 4, 5, 6]\n",
    "common = list(set(firstList).intersection(set(secondList)))\n",
    "print(common)"
   ]
  },
  {
   "cell_type": "code",
   "execution_count": 99,
   "id": "978782c1",
   "metadata": {},
   "outputs": [
    {
     "ename": "TypeError",
     "evalue": "'list' object is not callable",
     "output_type": "error",
     "traceback": [
      "\u001b[1;31m---------------------------------------------------------------------------\u001b[0m",
      "\u001b[1;31mTypeError\u001b[0m                                 Traceback (most recent call last)",
      "Cell \u001b[1;32mIn[99], line 4\u001b[0m\n\u001b[0;32m      1\u001b[0m firstList \u001b[38;5;241m=\u001b[39m [\u001b[38;5;241m1\u001b[39m, \u001b[38;5;241m2\u001b[39m, \u001b[38;5;241m3\u001b[39m, \u001b[38;5;241m4\u001b[39m]\n\u001b[0;32m      2\u001b[0m secondList \u001b[38;5;241m=\u001b[39m [\u001b[38;5;241m3\u001b[39m, \u001b[38;5;241m4\u001b[39m, \u001b[38;5;241m5\u001b[39m, \u001b[38;5;241m6\u001b[39m]\n\u001b[1;32m----> 4\u001b[0m common \u001b[38;5;241m=\u001b[39m \u001b[38;5;28;43mlist\u001b[39;49m\u001b[43m(\u001b[49m\u001b[38;5;28;43mset\u001b[39;49m\u001b[43m(\u001b[49m\u001b[43mfirstList\u001b[49m\u001b[43m)\u001b[49m\u001b[38;5;241;43m.\u001b[39;49m\u001b[43mintersection\u001b[49m\u001b[43m(\u001b[49m\u001b[38;5;28;43mset\u001b[39;49m\u001b[43m(\u001b[49m\u001b[43msecondList\u001b[49m\u001b[43m)\u001b[49m\u001b[43m)\u001b[49m\u001b[43m)\u001b[49m\n\u001b[0;32m      5\u001b[0m \u001b[38;5;28mprint\u001b[39m(common)\n",
      "\u001b[1;31mTypeError\u001b[0m: 'list' object is not callable"
     ]
    }
   ],
   "source": [
    "firstList = [1, 2, 3, 4]\n",
    "secondList = [3, 4, 5, 6]\n",
    "\n",
    "common = list(set(firstList).intersection(set(secondList)))\n",
    "print(common)"
   ]
  },
  {
   "cell_type": "code",
   "execution_count": 55,
   "id": "c60d99ef",
   "metadata": {},
   "outputs": [
    {
     "data": {
      "text/plain": [
       "['eile', 'mit', 'ttam']"
      ]
     },
     "execution_count": 55,
     "metadata": {},
     "output_type": "execute_result"
    }
   ],
   "source": [
    "#6 Given a list of words [\"Elie\", \"Tim\", \"Matt\"], return a new list with each word reversed and in lowercase.\n",
    "list6 = [word[::-1].lower() for word in [\"Elie\", \"Tim\", \"Matt\"]]\n",
    "list6"
   ]
  },
  {
   "cell_type": "code",
   "execution_count": 75,
   "id": "a8de0717",
   "metadata": {},
   "outputs": [
    {
     "data": {
      "text/plain": [
       "['eile', 'mit', 'ttam']"
      ]
     },
     "execution_count": 75,
     "metadata": {},
     "output_type": "execute_result"
    }
   ],
   "source": [
    "words = [\"Elie\", \"Tim\", \"Matt\"]\n",
    "reversed_lowercase_words = []\n",
    "\n",
    "# Step 1 and 2: Reverse each word and convert to lowercase\n",
    "for word in words:\n",
    "    reversed_word = ''.join(reversed(word))  # Reverse using reversed()\n",
    "    lower_word = reversed_word.lower()       # Convert to lowercase\n",
    "    reversed_lowercase_words.append(lower_word)\n",
    "\n",
    "reversed_lowercase_words  # This will output: ['eile', 'mit', 'ttam']"
   ]
  },
  {
   "cell_type": "code",
   "execution_count": 79,
   "id": "f064b7f5",
   "metadata": {},
   "outputs": [
    {
     "name": "stdout",
     "output_type": "stream",
     "text": [
      "['eile', 'mit', 'ttam']\n"
     ]
    }
   ],
   "source": [
    "lowercase = [\"eile\", \"mit\", \"ttam\"]\n",
    "names = [\"Elie\", \"Tim\", \"Matt\"]\n",
    "lowered_reversed_names = [name.lower() [::-1] for name in names]\n",
    "print(lowered_reversed_names)"
   ]
  },
  {
   "cell_type": "code",
   "execution_count": null,
   "id": "3b212666",
   "metadata": {},
   "outputs": [
    {
     "data": {
      "text/plain": [
       "['eile', 'mit', 'ttam']"
      ]
     },
     "execution_count": 80,
     "metadata": {},
     "output_type": "execute_result"
    }
   ],
   "source": [
    "Name = [\"Elie\", \"Tim\", \"Matt\"]\n",
    "Name2 = []\n",
    "for word in Name:\n",
    "    # Convert to lowercase and reverse the word\n",
    "    lower_word = word.lower()  # it1 : lower_world = \"elie\"\n",
    "    reversed_word = lower_word[::-1] # it1 : reversed_word = \"eile\"\n",
    "    Name2.append(reversed_word)\n",
    "Name2  # This will output: ['eile', 'mit', 'ttam']"
   ]
  },
  {
   "cell_type": "code",
   "execution_count": 56,
   "id": "48104ddb",
   "metadata": {},
   "outputs": [
    {
     "data": {
      "text/plain": [
       "['t', 'i', 'r']"
      ]
     },
     "execution_count": 56,
     "metadata": {},
     "output_type": "execute_result"
    }
   ],
   "source": [
    "#7 Given two strings \"first\" and \"third\", return a new list of the letters that are present in both strings.\n",
    "list7 = [letter for letter in set(\"first\") if letter in \"third\"]\n",
    "list7"
   ]
  },
  {
   "cell_type": "code",
   "execution_count": 81,
   "id": "cf77bb89",
   "metadata": {},
   "outputs": [
    {
     "name": "stdout",
     "output_type": "stream",
     "text": [
      "['i', 'r', 't']\n"
     ]
    }
   ],
   "source": [
    "str1 = \"first\"\n",
    "str2 = \"third\"\n",
    "common_letters = []\n",
    "for letter in str1:\n",
    "    if letter in str2 and letter not in common_letters:\n",
    "        common_letters.append(letter)\n",
    "print(common_letters)"
   ]
  },
  {
   "cell_type": "code",
   "execution_count": 57,
   "id": "ad336bd6",
   "metadata": {},
   "outputs": [
    {
     "data": {
      "text/plain": [
       "[12, 24, 36, 48, 60, 72, 84, 96]"
      ]
     },
     "execution_count": 57,
     "metadata": {},
     "output_type": "execute_result"
    }
   ],
   "source": [
    "#8 For all numbers between 1 and 100, return a list of the numbers that are divisible by 12.\n",
    "list8 = [x for x in range(1, 101) if x % 12 == 0]\n",
    "list8"
   ]
  },
  {
   "cell_type": "code",
   "execution_count": null,
   "id": "0161c98a",
   "metadata": {},
   "outputs": [
    {
     "name": "stdout",
     "output_type": "stream",
     "text": [
      "[12, 24, 36, 48, 60, 72, 84, 96]\n"
     ]
    }
   ],
   "source": [
    "lis8 = []\n",
    "for i in range(1, 100) :\n",
    "    if i % 12 == 0 :\n",
    "        lis8.append(i)\n",
    "print(lis8)"
   ]
  },
  {
   "cell_type": "code",
   "execution_count": null,
   "id": "865a790d",
   "metadata": {},
   "outputs": [
    {
     "name": "stdout",
     "output_type": "stream",
     "text": [
      "[12, 24, 36, 48, 60, 72, 84, 96]\n"
     ]
    }
   ],
   "source": [
    "#For all numbers between 1 and 100, return a list of the numbers that are divisible by 12: [12, 24, 36, 48, 60, 72, 84, 96]\n",
    "count = 1\n",
    "multiples_of_12 = []\n",
    "while count <= 100:\n",
    "    if count % 12 == 0:\n",
    "        multiples_of_12.append(count)\n",
    "    count += 1  #important\n",
    "print(multiples_of_12)"
   ]
  },
  {
   "cell_type": "code",
   "execution_count": 58,
   "id": "f85d9ba8",
   "metadata": {},
   "outputs": [
    {
     "data": {
      "text/plain": [
       "['m', 'z', 'n', 'g']"
      ]
     },
     "execution_count": 58,
     "metadata": {},
     "output_type": "execute_result"
    }
   ],
   "source": [
    "#9 Given the string \"amazing\", return a list with all the vowels removed.\n",
    "list9 = [char for char in \"amazing\" if char not in \"aeiou\"]\n",
    "list9"
   ]
  },
  {
   "cell_type": "code",
   "execution_count": null,
   "id": "0eb00284",
   "metadata": {},
   "outputs": [
    {
     "data": {
      "text/plain": [
       "['m', 'z', 'n', 'g']"
      ]
     },
     "execution_count": 88,
     "metadata": {},
     "output_type": "execute_result"
    }
   ],
   "source": [
    "list =\"amazing\"\n",
    "list = [i for i in list if i not in \"aeoui\"]\n",
    "list"
   ]
  },
  {
   "cell_type": "code",
   "execution_count": null,
   "id": "dc52c8ff",
   "metadata": {},
   "outputs": [
    {
     "data": {
      "text/plain": [
       "[0, 1, 2, 0, 1, 2, 0, 1, 2]"
      ]
     },
     "execution_count": 68,
     "metadata": {},
     "output_type": "execute_result"
    }
   ],
   "source": [
    "#10 Generate a list with the following value: [[0, 1, 2], [0, 1, 2], [0, 1, 2]] #question pas claire\n",
    "list10 = [[0, 1, 2] for _ in range(3)]\n",
    "list10\n",
    "\n",
    "flat_list = [item for sublist in list10 for item in sublist]\n",
    "flat_list "
   ]
  },
  {
   "cell_type": "code",
   "execution_count": 94,
   "id": "81359374",
   "metadata": {},
   "outputs": [
    {
     "name": "stdout",
     "output_type": "stream",
     "text": [
      "[[0, 1, 2], [0, 1, 2], [0, 1, 2]]\n"
     ]
    }
   ],
   "source": [
    "result = [[0, 1, 2] for _ in range(3)]\n",
    "print(result)"
   ]
  },
  {
   "cell_type": "code",
   "execution_count": 60,
   "id": "3ad306f9",
   "metadata": {},
   "outputs": [
    {
     "data": {
      "text/plain": [
       "[[0, 1, 2, 3, 4, 5, 6, 7, 8, 9],\n",
       " [0, 1, 2, 3, 4, 5, 6, 7, 8, 9],\n",
       " [0, 1, 2, 3, 4, 5, 6, 7, 8, 9],\n",
       " [0, 1, 2, 3, 4, 5, 6, 7, 8, 9],\n",
       " [0, 1, 2, 3, 4, 5, 6, 7, 8, 9],\n",
       " [0, 1, 2, 3, 4, 5, 6, 7, 8, 9],\n",
       " [0, 1, 2, 3, 4, 5, 6, 7, 8, 9],\n",
       " [0, 1, 2, 3, 4, 5, 6, 7, 8, 9],\n",
       " [0, 1, 2, 3, 4, 5, 6, 7, 8, 9],\n",
       " [0, 1, 2, 3, 4, 5, 6, 7, 8, 9]]"
      ]
     },
     "execution_count": 60,
     "metadata": {},
     "output_type": "execute_result"
    }
   ],
   "source": [
    "#11 Generate a list with the following structure:\n",
    "# [\n",
    "#   [0, 1, 2, 3, 4, 5, 6, 7, 8, 9],\n",
    "#   ... (10 times total)\n",
    "# ]\n",
    "list11 = [[x for x in range(10)] for _ in range(10)]\n",
    "list11"
   ]
  },
  {
   "cell_type": "code",
   "execution_count": null,
   "id": "0ffe8093",
   "metadata": {},
   "outputs": [],
   "source": [
    "#fonction list\n",
    "for _ in range(10):\n",
    "    result.append(list(range(10)))"
   ]
  },
  {
   "cell_type": "markdown",
   "id": "9dd31125",
   "metadata": {},
   "source": [
    "Exercice 2 : Dict"
   ]
  },
  {
   "cell_type": "code",
   "execution_count": 61,
   "id": "bd35baef",
   "metadata": {},
   "outputs": [
    {
     "data": {
      "text/plain": [
       "{'name': 'Elie', 'job': 'Instructor'}"
      ]
     },
     "execution_count": 61,
     "metadata": {},
     "output_type": "execute_result"
    }
   ],
   "source": [
    "# 1. Create a dictionary from a list of tuples\n",
    "list_of_tuples = [(\"name\", \"Elie\"), (\"job\", \"Instructor\")]\n",
    "dict1 = dict(list_of_tuples)\n",
    "dict1"
   ]
  },
  {
   "cell_type": "code",
   "execution_count": 62,
   "id": "52829fd7",
   "metadata": {},
   "outputs": [
    {
     "data": {
      "text/plain": [
       "{'CA': 'California', 'NJ': 'New Jersey', 'RI': 'Rhode Island'}"
      ]
     },
     "execution_count": 62,
     "metadata": {},
     "output_type": "execute_result"
    }
   ],
   "source": [
    "# 2. Create a dictionary from two lists\n",
    "abbreviations = [\"CA\", \"NJ\", \"RI\"]\n",
    "states = [\"California\", \"New Jersey\", \"Rhode Island\"]\n",
    "dict2 = {abbreviations[i]: states[i] for i in range(len(abbreviations))}\n",
    "dict2"
   ]
  },
  {
   "cell_type": "code",
   "execution_count": 100,
   "id": "ec723deb",
   "metadata": {},
   "outputs": [
    {
     "name": "stdout",
     "output_type": "stream",
     "text": [
      "{'CA': 'California', 'NJ': 'New Jersey', 'RI': 'Rhode Island'}\n"
     ]
    }
   ],
   "source": [
    "keys = [\"CA\", \"NJ\", \"RI\"]\n",
    "values = [\"California\", \"New Jersey\", \"Rhode Island\"]\n",
    "result = {}\n",
    "for i in range(len(keys)):\n",
    "    result[keys[i]] = values[i]\n",
    "print(result)"
   ]
  },
  {
   "cell_type": "code",
   "execution_count": 102,
   "id": "5368fb08",
   "metadata": {},
   "outputs": [
    {
     "data": {
      "text/plain": [
       "3"
      ]
     },
     "execution_count": 102,
     "metadata": {},
     "output_type": "execute_result"
    }
   ],
   "source": [
    "len(keys)"
   ]
  },
  {
   "cell_type": "code",
   "execution_count": null,
   "id": "9f7adf87",
   "metadata": {},
   "outputs": [],
   "source": [
    "listAcronyme = [\"CA\", \"NJ\", \"RI\"]\n",
    "listStatename = [\"California\", \"New Jersey\", \"Rhode Island\"]\n",
    "dictAcroState = dict(zip(listAcronyme, listStatename)) # dict(zip(key, value))\n",
    "print(dictAcroState)"
   ]
  },
  {
   "cell_type": "code",
   "execution_count": 63,
   "id": "f2c5c2ec",
   "metadata": {},
   "outputs": [
    {
     "data": {
      "text/plain": [
       "{'a': 0, 'e': 0, 'i': 0, 'o': 0, 'u': 0}"
      ]
     },
     "execution_count": 63,
     "metadata": {},
     "output_type": "execute_result"
    }
   ],
   "source": [
    "# 3. Create a dictionary with vowels as keys and 0 as values\n",
    "vowels = 'aeiou'\n",
    "dict3 = {vowel: 0 for vowel in vowels}\n",
    "dict3"
   ]
  },
  {
   "cell_type": "code",
   "execution_count": 64,
   "id": "a20a6060",
   "metadata": {},
   "outputs": [
    {
     "data": {
      "text/plain": [
       "{1: 'A',\n",
       " 2: 'B',\n",
       " 3: 'C',\n",
       " 4: 'D',\n",
       " 5: 'E',\n",
       " 6: 'F',\n",
       " 7: 'G',\n",
       " 8: 'H',\n",
       " 9: 'I',\n",
       " 10: 'J',\n",
       " 11: 'K',\n",
       " 12: 'L',\n",
       " 13: 'M',\n",
       " 14: 'N',\n",
       " 15: 'O',\n",
       " 16: 'P',\n",
       " 17: 'Q',\n",
       " 18: 'R',\n",
       " 19: 'S',\n",
       " 20: 'T',\n",
       " 21: 'U',\n",
       " 22: 'V',\n",
       " 23: 'W',\n",
       " 24: 'X',\n",
       " 25: 'Y',\n",
       " 26: 'Z'}"
      ]
     },
     "execution_count": 64,
     "metadata": {},
     "output_type": "execute_result"
    }
   ],
   "source": [
    "# 4. Create a dictionary with positions in the alphabet as keys\n",
    "import string\n",
    "alphabet = string.ascii_uppercase\n",
    "dict4 = {i + 1: letter for i, letter in enumerate(alphabet)}\n",
    "dict4"
   ]
  },
  {
   "cell_type": "code",
   "execution_count": 103,
   "id": "91b8dfa4",
   "metadata": {},
   "outputs": [
    {
     "name": "stdout",
     "output_type": "stream",
     "text": [
      "{1: 'A', 2: 'B', 3: 'C', 4: 'D', 5: 'E', 6: 'F', 7: 'G', 8: 'H', 9: 'I', 10: 'J', 11: 'K', 12: 'L', 13: 'M', 14: 'N', 15: 'O', 16: 'P', 17: 'Q', 18: 'R', 19: 'S', 20: 'T', 21: 'U', 22: 'V', 23: 'W', 24: 'X', 25: 'Y', 26: 'Z'}\n"
     ]
    }
   ],
   "source": [
    "#Create a dictionary where the key is the position of the letter in the alphabet, and the value is the letter itself. You should return something like this:\n",
    "letter_position = 1\n",
    "position_vs_letter = {}\n",
    "while letter_position <= 26 :\n",
    "    position_vs_letter[letter_position] = chr(letter_position+64)\n",
    "    letter_position +=1\n",
    "print(position_vs_letter)"
   ]
  },
  {
   "cell_type": "code",
   "execution_count": 65,
   "id": "b0ce730f",
   "metadata": {},
   "outputs": [
    {
     "data": {
      "text/plain": [
       "{'a': 2, 'e': 3, 'i': 0, 'o': 1, 'u': 1}"
      ]
     },
     "execution_count": 65,
     "metadata": {},
     "output_type": "execute_result"
    }
   ],
   "source": [
    "# Super Bonus: Count vowels in a given string\n",
    "string_to_check = \"awesome sauce\"\n",
    "vowel_count = {vowel: string_to_check.count(vowel) for vowel in 'aeiou'}\n",
    "vowel_count"
   ]
  }
 ],
 "metadata": {
  "kernelspec": {
   "display_name": "Python 3",
   "language": "python",
   "name": "python3"
  },
  "language_info": {
   "codemirror_mode": {
    "name": "ipython",
    "version": 3
   },
   "file_extension": ".py",
   "mimetype": "text/x-python",
   "name": "python",
   "nbconvert_exporter": "python",
   "pygments_lexer": "ipython3",
   "version": "3.11.9"
  }
 },
 "nbformat": 4,
 "nbformat_minor": 5
}
