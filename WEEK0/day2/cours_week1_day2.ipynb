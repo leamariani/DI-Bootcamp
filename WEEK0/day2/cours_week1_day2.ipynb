{
 "cells": [
  {
   "cell_type": "code",
   "execution_count": 1,
   "id": "ec64d8b3",
   "metadata": {},
   "outputs": [
    {
     "name": "stdout",
     "output_type": "stream",
     "text": [
      "Uppercase: PYTHON IS FUN!\n",
      "Capitalized: Python is fun!\n",
      "Title Case: Python Is Fun!\n",
      "Index of 'F': 10\n",
      "Index of 'f': -1\n",
      "Index of 'is': 7\n"
     ]
    }
   ],
   "source": [
    "text = \"Python is Fun!\"\n",
    "\n",
    "# 1. Convert the entire string to uppercase\n",
    "upper_text = text.upper()\n",
    "print(\"Uppercase:\", upper_text)  # Output: 'PYTHON IS FUN!'\n",
    "\n",
    "# 2. Make the first letter upper case (capitalize the sentence)\n",
    "capitalized_text = text.capitalize()\n",
    "print(\"Capitalized:\", capitalized_text)  # Output: 'Python is fun!'\n",
    "\n",
    "# 3. Make the first letter of each word upper case (title case)\n",
    "title_text = text.title()\n",
    "print(\"Title Case:\", title_text)  # Output: 'Python Is Fun!'\n",
    "\n",
    "# 4. Find the index of \"F\". What happens if you use lower case in the method?\n",
    "index_of_F = text.find(\"F\")\n",
    "print(\"Index of 'F':\", index_of_F)  # Output: 10\n",
    "\n",
    "# If you use lower case 'f', it returns -1 because find() is case-sensitive:\n",
    "index_of_f = text.find(\"f\")\n",
    "print(\"Index of 'f':\", index_of_f)  # Output: -1 (not found)\n",
    "\n",
    "# 5. Find a substring (\"is\" in this case)\n",
    "index_of_is = text.find(\"is\")\n",
    "print(\"Index of 'is':\", index_of_is)  # Output: 7\n"
   ]
  },
  {
   "cell_type": "code",
   "execution_count": 2,
   "id": "7cf1c49b",
   "metadata": {},
   "outputs": [
    {
     "name": "stdout",
     "output_type": "stream",
     "text": [
      "['apple', 'banana', 'cherry', 'date', 'elderberry', 'fig']\n",
      "['grape', 'apple', 'banana', 'cherry', 'date', 'elderberry', 'fig']\n",
      "['grape', 'apple', 'banana', 'date', 'elderberry', 'fig']\n",
      "fig\n",
      "['grape', 'apple', 'banana', 'date', 'elderberry']\n",
      "['grape', 'apple', 'banana', 'date', 'elderberry', 'strawberry', 'raspberry', 'blueberry']\n",
      "['apple', 'banana', 'blueberry', 'date', 'elderberry', 'grape', 'raspberry', 'strawberry']\n",
      "['grape', 'raspberry', 'strawberry']\n"
     ]
    }
   ],
   "source": [
    "# Given list\n",
    "fruits = [\"apple\", \"banana\", \"cherry\", \"date\", \"elderberry\"]\n",
    "\n",
    "# 1. Add \"fig\" to the end of the fruits\n",
    "fruits.append(\"fig\")\n",
    "print(fruits)\n",
    "\n",
    "# 2. Insert \"grape\" at the beginning of the list\n",
    "fruits.insert(0, \"grape\")\n",
    "print(fruits)\n",
    "\n",
    "# 3. Remove \"cherry\" from the list using the specific method for it\n",
    "fruits.remove(\"cherry\")\n",
    "print(fruits)\n",
    "\n",
    "# 4. Remove the last element from the list using the specific method for it\n",
    "last_fruit = fruits.pop()\n",
    "print(last_fruit)\n",
    "print(fruits)\n",
    "\n",
    "# 5. Create another list of berries and combine it with the fruits list into a list called \"combined_list\"\n",
    "berries = [\"strawberry\", \"raspberry\", \"blueberry\"]\n",
    "combined_list = fruits + berries\n",
    "print(combined_list)\n",
    "\n",
    "# 6. Sort the combined_list\n",
    "combined_list.sort()\n",
    "print(combined_list)\n",
    "\n",
    "# 7. Slice the last three elements of the combined list\n",
    "last_three = combined_list[-3:]\n",
    "print(last_three) "
   ]
  },
  {
   "cell_type": "code",
   "execution_count": 3,
   "id": "c5936332",
   "metadata": {},
   "outputs": [
    {
     "name": "stdout",
     "output_type": "stream",
     "text": [
      "1\n",
      "2\n",
      "3\n",
      "4\n"
     ]
    }
   ],
   "source": [
    "values = [1,2,3,4]\n",
    "\n",
    "for val in values:\n",
    "    print(val) \n"
   ]
  },
  {
   "cell_type": "code",
   "execution_count": 7,
   "id": "d0ea413f",
   "metadata": {},
   "outputs": [
    {
     "name": "stdout",
     "output_type": "stream",
     "text": [
      "apple\n",
      "banana\n",
      "cherry\n",
      "date\n"
     ]
    }
   ],
   "source": [
    "fruits = [\"apple\", \"banana\", \"cherry\", \"date\"]\n",
    "\n",
    "for fruit in fruits:\n",
    "    print(fruit)"
   ]
  },
  {
   "cell_type": "code",
   "execution_count": 12,
   "id": "afef6c53",
   "metadata": {},
   "outputs": [
    {
     "name": "stdout",
     "output_type": "stream",
     "text": [
      "bmw\n",
      "citro\n",
      "dacia\n"
     ]
    }
   ],
   "source": [
    "cars = [\"bmw\", \"citro\",\"dacia\"]\n",
    "for car in cars:\n",
    "    print(car)"
   ]
  },
  {
   "cell_type": "code",
   "execution_count": 13,
   "id": "87ff6105",
   "metadata": {},
   "outputs": [
    {
     "name": "stdout",
     "output_type": "stream",
     "text": [
      "0\n",
      "1\n",
      "2\n",
      "3\n",
      "4\n"
     ]
    }
   ],
   "source": [
    "i = 0\n",
    "while i < 5:\n",
    "    print(i)\n",
    "    i +=1"
   ]
  },
  {
   "cell_type": "code",
   "execution_count": 20,
   "id": "be87a189",
   "metadata": {},
   "outputs": [
    {
     "name": "stdout",
     "output_type": "stream",
     "text": [
      "1\n",
      "2\n",
      "3\n",
      "4\n",
      "5\n"
     ]
    }
   ],
   "source": [
    "count = 1\n",
    "while count <= 5:\n",
    "    print (count) \n",
    "    count +=1"
   ]
  },
  {
   "cell_type": "code",
   "execution_count": 26,
   "id": "d378eabb",
   "metadata": {},
   "outputs": [],
   "source": [
    "books = {\n",
    "    '1984': 'George Orwell',\n",
    "    'Brave New World': 'Aldous Huxley',\n",
    "    'The Great Gatsby': 'F. Scott Fitzgerald'\n",
    "}"
   ]
  },
  {
   "cell_type": "code",
   "execution_count": 27,
   "id": "3c585507",
   "metadata": {},
   "outputs": [
    {
     "name": "stdout",
     "output_type": "stream",
     "text": [
      "George Orwell\n"
     ]
    }
   ],
   "source": [
    "print(books['1984'])"
   ]
  },
  {
   "cell_type": "code",
   "execution_count": null,
   "id": "762df394",
   "metadata": {},
   "outputs": [],
   "source": [
    "user_info['name'] = 'Dan' #modify the key that exists\n",
    "\n"
   ]
  },
  {
   "cell_type": "code",
   "execution_count": null,
   "id": "c2a701e9",
   "metadata": {},
   "outputs": [],
   "source": [
    "books['The Great Gatsby'] = 'Francis Scott Fitzgerald'"
   ]
  },
  {
   "cell_type": "code",
   "execution_count": 34,
   "id": "c4663678",
   "metadata": {},
   "outputs": [
    {
     "name": "stdout",
     "output_type": "stream",
     "text": [
      "{'1984': 'George Orwell', 'Brave New World': 'Aldous Huxley', 'The Great Gatsby': 'Francis Scott Fitzgerald'}\n"
     ]
    }
   ],
   "source": [
    "print(books)"
   ]
  },
  {
   "cell_type": "code",
   "execution_count": 36,
   "id": "f6d6b5bb",
   "metadata": {},
   "outputs": [],
   "source": [
    "#3. Add a new book: \"Moby Dick\" by Herman Melville.\n",
    "#user_info['email'] = 'dan@gmail.com' #creates a new key with a value\n",
    "\n",
    "\n",
    "books['Mobby Dick'] = 'Herman Melville'"
   ]
  },
  {
   "cell_type": "code",
   "execution_count": 37,
   "id": "88cb818a",
   "metadata": {},
   "outputs": [
    {
     "name": "stdout",
     "output_type": "stream",
     "text": [
      "{'1984': 'George Orwell', 'Brave New World': 'Aldous Huxley', 'The Great Gatsby': 'Francis Scott Fitzgerald', 'Mobby Dick': 'Herman Melville'}\n"
     ]
    }
   ],
   "source": [
    "print(books)"
   ]
  },
  {
   "cell_type": "code",
   "execution_count": 39,
   "id": "293bae8d",
   "metadata": {},
   "outputs": [
    {
     "name": "stdout",
     "output_type": "stream",
     "text": [
      "None\n"
     ]
    }
   ],
   "source": [
    "#Use the get() method to try to access the author of \"To Kill a Mockingbird\".\n",
    "print(books.get('aaaaaaaaaaaaa'))"
   ]
  },
  {
   "cell_type": "code",
   "execution_count": 41,
   "id": "9667f5c8",
   "metadata": {},
   "outputs": [
    {
     "name": "stdout",
     "output_type": "stream",
     "text": [
      "Aldous Huxley\n"
     ]
    }
   ],
   "source": [
    "#Remove the book \"Brave New World\" using the pop() method.\n",
    "print(books.pop('Brave New World'))"
   ]
  },
  {
   "cell_type": "code",
   "execution_count": 42,
   "id": "30a6e7ea",
   "metadata": {},
   "outputs": [
    {
     "name": "stdout",
     "output_type": "stream",
     "text": [
      "{'1984': 'George Orwell', 'The Great Gatsby': 'Francis Scott Fitzgerald', 'Mobby Dick': 'Herman Melville'}\n"
     ]
    }
   ],
   "source": [
    "print(books)"
   ]
  },
  {
   "cell_type": "code",
   "execution_count": 43,
   "id": "160a0148",
   "metadata": {},
   "outputs": [],
   "source": [
    "#Create a tuple that contains your three favorite fruits. Write code that:\n",
    "#Accesses the first fruit in the tuple.\n",
    "x = (\"mango\", \"banana\", \"strawberry\")"
   ]
  },
  {
   "cell_type": "code",
   "execution_count": 44,
   "id": "01ed9478",
   "metadata": {},
   "outputs": [
    {
     "name": "stdout",
     "output_type": "stream",
     "text": [
      "mango\n"
     ]
    }
   ],
   "source": [
    "print(x[0])"
   ]
  },
  {
   "cell_type": "code",
   "execution_count": 48,
   "id": "7aeea882",
   "metadata": {},
   "outputs": [
    {
     "name": "stdout",
     "output_type": "stream",
     "text": [
      "1\n"
     ]
    }
   ],
   "source": [
    "#Counts how many times a specific fruit appears in the tuple.\n",
    "print(x.count(\"mango\"))\n"
   ]
  },
  {
   "cell_type": "code",
   "execution_count": 51,
   "id": "a794155a",
   "metadata": {},
   "outputs": [
    {
     "name": "stdout",
     "output_type": "stream",
     "text": [
      "2\n"
     ]
    }
   ],
   "source": [
    "#Finds the index of a specific fruit in the tuple.\n",
    "print(x.index(\"strawberry\"))"
   ]
  },
  {
   "cell_type": "code",
   "execution_count": 53,
   "id": "e10911fa",
   "metadata": {},
   "outputs": [],
   "source": [
    "#Create a set of your five favorite numbers. Write code that:\n",
    "s = {5, 10, 15, 20, 25}\n"
   ]
  },
  {
   "cell_type": "code",
   "execution_count": 55,
   "id": "8044f528",
   "metadata": {},
   "outputs": [
    {
     "name": "stdout",
     "output_type": "stream",
     "text": [
      "{20, 5, 25, 10, 30, 15}\n"
     ]
    }
   ],
   "source": [
    "#Adds a new number to the set.\n",
    "s.add(30)\n",
    "print(s)"
   ]
  },
  {
   "cell_type": "code",
   "execution_count": 56,
   "id": "37629700",
   "metadata": {},
   "outputs": [],
   "source": [
    "#Removes all elements from the set.\n"
   ]
  },
  {
   "cell_type": "code",
   "execution_count": null,
   "id": "7549d42e",
   "metadata": {},
   "outputs": [],
   "source": [
    "#Finds the common elements between two sets (use a set of your five favorite numbers and a set of prime numbers).\n"
   ]
  }
 ],
 "metadata": {
  "kernelspec": {
   "display_name": "Python 3",
   "language": "python",
   "name": "python3"
  },
  "language_info": {
   "codemirror_mode": {
    "name": "ipython",
    "version": 3
   },
   "file_extension": ".py",
   "mimetype": "text/x-python",
   "name": "python",
   "nbconvert_exporter": "python",
   "pygments_lexer": "ipython3",
   "version": "3.9.6"
  }
 },
 "nbformat": 4,
 "nbformat_minor": 5
}
