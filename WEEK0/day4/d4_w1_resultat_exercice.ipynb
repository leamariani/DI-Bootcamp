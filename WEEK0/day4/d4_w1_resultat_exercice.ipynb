{
 "cells": [
  {
   "cell_type": "markdown",
   "id": "efdf8d99",
   "metadata": {},
   "source": [
    "### BootCamp : D4_W1 - Crash course project "
   ]
  },
  {
   "cell_type": "markdown",
   "id": "ca07399f",
   "metadata": {},
   "source": [
    "###### Author : Clara Martinez"
   ]
  },
  {
   "cell_type": "code",
   "execution_count": 1,
   "id": "d5666279",
   "metadata": {},
   "outputs": [
    {
     "name": "stdout",
     "output_type": "stream",
     "text": [
      "Welcome to the Number Guessing Game!\n",
      "I'm thinking of a number between 1 and 100. Can you guess it?\n",
      "Too low!\n",
      "Too low!\n",
      "Too high!\n",
      "Too low!\n",
      "Too low!\n",
      "Too low!\n",
      "Too low!\n",
      "Sorry, you've used all 7 attempts. The correct number was 89.\n"
     ]
    }
   ],
   "source": [
    "import random\n",
    "\n",
    "def number_guessing_game():\n",
    "    random_number = random.randint(1, 100)\n",
    "    max_attempts = 7  # Limit the number of guesses to 7 attempts\n",
    "\n",
    "    print(\"Welcome to the Number Guessing Game!\")\n",
    "    print(\"I'm thinking of a number between 1 and 100. Can you guess it?\")\n",
    "\n",
    "    for attempt in range(1, max_attempts + 1):\n",
    "        guess = int(input(f\"Attempt {attempt}/{max_attempts} - Enter your guess (1-100): \"))\n",
    "\n",
    "        if guess < random_number:\n",
    "            print(\"Too low!\")\n",
    "        elif guess > random_number:\n",
    "            print(\"Too high!\")\n",
    "        else:\n",
    "            print(f\"Congratulations! You guessed the correct number in {attempt} attempts!\")\n",
    "            break\n",
    "    else:\n",
    "        print(f\"Sorry, you've used all {max_attempts} attempts. The correct number was {random_number}.\")\n",
    "number_guessing_game()"
   ]
  },
  {
   "cell_type": "markdown",
   "id": "ed955de5",
   "metadata": {},
   "source": [
    "Daily Challenge 1"
   ]
  },
  {
   "cell_type": "markdown",
   "id": "f9377dad",
   "metadata": {},
   "source": [
    "1."
   ]
  },
  {
   "cell_type": "code",
   "execution_count": 13,
   "id": "aea00469",
   "metadata": {},
   "outputs": [
    {
     "name": "stdout",
     "output_type": "stream",
     "text": [
      "7\n",
      "5\n"
     ]
    }
   ],
   "source": [
    "number = int(input(\"Give me a number\"))\n",
    "length = int(input(\"Give me your length\"))\n",
    "print(number)\n",
    "print(length)"
   ]
  },
  {
   "cell_type": "markdown",
   "id": "fb9392b2",
   "metadata": {},
   "source": [
    "2."
   ]
  },
  {
   "cell_type": "code",
   "execution_count": 14,
   "id": "6eada9ea",
   "metadata": {},
   "outputs": [
    {
     "name": "stdout",
     "output_type": "stream",
     "text": [
      "[7, 14, 21, 28, 35]\n"
     ]
    }
   ],
   "source": [
    "multiples = [number * i for i in range(1, length + 1)]\n",
    "print(multiples)"
   ]
  },
  {
   "cell_type": "markdown",
   "id": "253de1f7",
   "metadata": {},
   "source": [
    "*Remise à niveau : for i in range()*"
   ]
  },
  {
   "cell_type": "markdown",
   "id": "532524ea",
   "metadata": {},
   "source": [
    "Exemple 1 : Afficher les nombres de 1 à 10"
   ]
  },
  {
   "cell_type": "code",
   "execution_count": 17,
   "id": "288d13b5",
   "metadata": {},
   "outputs": [
    {
     "name": "stdout",
     "output_type": "stream",
     "text": [
      "1\n",
      "2\n",
      "3\n",
      "4\n",
      "5\n",
      "6\n",
      "7\n",
      "8\n",
      "9\n",
      "10\n"
     ]
    }
   ],
   "source": [
    "for i in range(1,11):\n",
    "    print(i)"
   ]
  },
  {
   "cell_type": "markdown",
   "id": "6fdcabf1",
   "metadata": {},
   "source": [
    "Exemple 2 : Calculer et afficher les carrés des nombres de 1 à 5"
   ]
  },
  {
   "cell_type": "code",
   "execution_count": null,
   "id": "c1225b26",
   "metadata": {},
   "outputs": [],
   "source": [
    "for i in range(1, 6):\n",
    "    print(f\"Le carré de {i} est {i * i}\")"
   ]
  },
  {
   "cell_type": "markdown",
   "id": "c50f6f83",
   "metadata": {},
   "source": [
    "Exemple 3 : Imprimer les éléments d'une liste"
   ]
  },
  {
   "cell_type": "code",
   "execution_count": 23,
   "id": "fcaeca85",
   "metadata": {},
   "outputs": [
    {
     "name": "stdout",
     "output_type": "stream",
     "text": [
      "banana\n",
      "apple\n",
      "kiwi\n",
      "fraise\n"
     ]
    }
   ],
   "source": [
    "list = [\"banana\",\"apple\",\"kiwi\",\"fraise\"]\n",
    "for i in range(len(list)):\n",
    "    print(list[i])"
   ]
  },
  {
   "cell_type": "code",
   "execution_count": 24,
   "id": "6fa363ed",
   "metadata": {},
   "outputs": [
    {
     "data": {
      "text/plain": [
       "4"
      ]
     },
     "execution_count": 24,
     "metadata": {},
     "output_type": "execute_result"
    }
   ],
   "source": [
    "len(list)"
   ]
  },
  {
   "cell_type": "markdown",
   "id": "03aaf1b5",
   "metadata": {},
   "source": [
    "Exemple 4 : Somme des nombres de 1 à 100"
   ]
  },
  {
   "cell_type": "code",
   "execution_count": 25,
   "id": "99daec24",
   "metadata": {},
   "outputs": [
    {
     "name": "stdout",
     "output_type": "stream",
     "text": [
      "5050\n"
     ]
    }
   ],
   "source": [
    "sum = 0\n",
    "for i in range(1,101):\n",
    "    sum +=i\n",
    "print(sum)"
   ]
  },
  {
   "cell_type": "markdown",
   "id": "692d74cb",
   "metadata": {},
   "source": [
    "Exemple 5 : Afficher les nombres pairs de 2 à 20"
   ]
  },
  {
   "cell_type": "code",
   "execution_count": 26,
   "id": "44f42a68",
   "metadata": {},
   "outputs": [
    {
     "name": "stdout",
     "output_type": "stream",
     "text": [
      "2\n",
      "4\n",
      "6\n",
      "8\n",
      "10\n",
      "12\n",
      "14\n",
      "16\n",
      "18\n",
      "20\n"
     ]
    }
   ],
   "source": [
    "for i in range(2,21,2):\n",
    "    print(i)"
   ]
  },
  {
   "cell_type": "markdown",
   "id": "fd7085ed",
   "metadata": {},
   "source": [
    "Exemple 6 : Liste inversée"
   ]
  },
  {
   "cell_type": "code",
   "execution_count": 34,
   "id": "7f24d0c2",
   "metadata": {},
   "outputs": [
    {
     "name": "stdout",
     "output_type": "stream",
     "text": [
      "5\n",
      "4\n",
      "3\n",
      "2\n",
      "1\n"
     ]
    }
   ],
   "source": [
    "list = [1,2,3,4,5]\n",
    "for i in range(len(list)-1,-1,-1):\n",
    "    print(list[i])"
   ]
  },
  {
   "cell_type": "code",
   "execution_count": null,
   "id": "b266107c",
   "metadata": {},
   "outputs": [
    {
     "name": "stdout",
     "output_type": "stream",
     "text": [
      "user's word : yyyy ➞ y\n"
     ]
    }
   ],
   "source": [
    "user_word = input(\"Enter a word\")\n",
    "corrected_word = user_word[0]\n",
    "\n",
    "for index in range(1,len(user_word)):\n",
    "    if user_word[index] != user_word[index-1]:\n",
    "        corrected_word += user_word[index]\n",
    "        \n",
    "print(f\"user's word : {user_word} ➞ {corrected_word}\")"
   ]
  },
  {
   "cell_type": "markdown",
   "id": "0fc97f1d",
   "metadata": {},
   "source": [
    "Daily Challenge 2 "
   ]
  },
  {
   "cell_type": "code",
   "execution_count": 37,
   "id": "02df9bac",
   "metadata": {},
   "outputs": [
    {
     "name": "stdout",
     "output_type": "stream",
     "text": [
      "clara\n"
     ]
    }
   ],
   "source": [
    "user_input = input(\"Enter a string: \")\n",
    "\n",
    "result = user_input[0]\n",
    "\n",
    "for i in range(1, len(user_input)):\n",
    "    if user_input[i] != user_input[i - 1]:\n",
    "        result += user_input[i]\n",
    "        \n",
    "print(result)"
   ]
  }
 ],
 "metadata": {
  "kernelspec": {
   "display_name": "Python 3",
   "language": "python",
   "name": "python3"
  },
  "language_info": {
   "codemirror_mode": {
    "name": "ipython",
    "version": 3
   },
   "file_extension": ".py",
   "mimetype": "text/x-python",
   "name": "python",
   "nbconvert_exporter": "python",
   "pygments_lexer": "ipython3",
   "version": "3.11.9"
  }
 },
 "nbformat": 4,
 "nbformat_minor": 5
}
