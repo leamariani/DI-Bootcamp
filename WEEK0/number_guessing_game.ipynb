{
 "cells": [
  {
   "cell_type": "code",
   "execution_count": 1,
   "id": "bb1de20b",
   "metadata": {},
   "outputs": [],
   "source": [
    "import random"
   ]
  },
  {
   "cell_type": "code",
   "execution_count": 60,
   "id": "b29c7cbd",
   "metadata": {},
   "outputs": [
    {
     "name": "stdout",
     "output_type": "stream",
     "text": [
      "Too low!\n",
      "Too low!\n",
      "Too low!\n",
      "Too high!\n",
      "Too high!\n",
      "Too low!\n",
      "Too low!\n",
      "the right number is 60\n"
     ]
    }
   ],
   "source": [
    "def number_guessing_game():\n",
    "    random_number = random.randint(1, 100)\n",
    "    attempts = 7\n",
    "\n",
    "    for i in range(1,attempts +1):\n",
    "        \n",
    "        i = int(input(\"Enter your guess\"))\n",
    "\n",
    "        if i > random_number:\n",
    "            print(\"Too high!\")\n",
    "\n",
    "        elif i < random_number:\n",
    "            print(\"Too low!\")\n",
    "\n",
    "        else:\n",
    "            print(\"You won!\")\n",
    "\n",
    "    else:\n",
    "        print(f'the right number is {random_number}')\n",
    "\n",
    "\n",
    "number_guessing_game()    "
   ]
  }
 ],
 "metadata": {
  "kernelspec": {
   "display_name": "Python 3",
   "language": "python",
   "name": "python3"
  },
  "language_info": {
   "codemirror_mode": {
    "name": "ipython",
    "version": 3
   },
   "file_extension": ".py",
   "mimetype": "text/x-python",
   "name": "python",
   "nbconvert_exporter": "python",
   "pygments_lexer": "ipython3",
   "version": "3.9.6"
  }
 },
 "nbformat": 4,
 "nbformat_minor": 5
}
