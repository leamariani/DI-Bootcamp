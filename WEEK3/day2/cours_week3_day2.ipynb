{
 "cells": [
  {
   "cell_type": "code",
   "execution_count": 12,
   "id": "bdf23e5a",
   "metadata": {},
   "outputs": [
    {
     "name": "stdout",
     "output_type": "stream",
     "text": [
      "Average Temperature for Each City: [20.85714286 20.14285714 22.42857143 23.14285714]\n",
      "Maximum Temperature for Each City: [27 24 27 29]\n",
      "Minimum Temperature for Each City: [15 17 16 16]\n",
      "Temperature on Day 1 for Each City: [27 24 23 22]\n",
      "Temperature on Day 7 for Each City: [22 21 22 28]\n",
      "Temperature Difference (Day 7 - Day 1) for Each City: [-5 -3 -1  6]\n"
     ]
    }
   ],
   "source": [
    "import numpy as np\n",
    "\n",
    "# Temperature data matrix (4 cities, 7 days)\n",
    "temperature_data = np.array([\n",
    "    [27, 20, 15, 18, 26, 18, 22],  # City 1\n",
    "    [24, 18, 20, 17, 19, 22, 21],  # City 2\n",
    "    [23, 23, 27, 25, 16, 21, 22],  # City 3\n",
    "    [22, 29, 23, 16, 20, 24, 28]   # City 4\n",
    "])\n",
    "\n",
    "# 1. Average Temperature Calculation\n",
    "average_temperatures = np.mean(temperature_data, axis=1)\n",
    "print(\"Average Temperature for Each City:\", average_temperatures)\n",
    "\n",
    "# 2. Maximum and Minimum Temperature Analysis\n",
    "max_temperatures = np.max(temperature_data, axis=1)\n",
    "min_temperatures = np.min(temperature_data, axis=1)\n",
    "print(\"Maximum Temperature for Each City:\", max_temperatures)\n",
    "print(\"Minimum Temperature for Each City:\", min_temperatures)\n",
    "\n",
    "# 3. Day Comparison\n",
    "day_1_temperatures = temperature_data[:, 0]\n",
    "day_7_temperatures = temperature_data[:, 6]\n",
    "temperature_difference = day_7_temperatures - day_1_temperatures\n",
    "print(\"Temperature on Day 1 for Each City:\", day_1_temperatures)\n",
    "print(\"Temperature on Day 7 for Each City:\", day_7_temperatures)\n",
    "print(\"Temperature Difference (Day 7 - Day 1) for Each City:\", temperature_difference)"
   ]
  },
  {
   "cell_type": "code",
   "execution_count": null,
   "id": "f0be6d57",
   "metadata": {},
   "outputs": [],
   "source": []
  }
 ],
 "metadata": {
  "kernelspec": {
   "display_name": "Python 3",
   "language": "python",
   "name": "python3"
  },
  "language_info": {
   "codemirror_mode": {
    "name": "ipython",
    "version": 3
   },
   "file_extension": ".py",
   "mimetype": "text/x-python",
   "name": "python",
   "nbconvert_exporter": "python",
   "pygments_lexer": "ipython3",
   "version": "3.9.6"
  }
 },
 "nbformat": 4,
 "nbformat_minor": 5
}
