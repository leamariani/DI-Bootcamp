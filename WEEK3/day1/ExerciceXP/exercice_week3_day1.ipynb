{
 "cells": [
  {
   "cell_type": "code",
   "execution_count": 2,
   "id": "007aa2ca",
   "metadata": {},
   "outputs": [],
   "source": [
    "# Exercice 1\n",
    "\n",
    "import numpy as np"
   ]
  },
  {
   "cell_type": "code",
   "execution_count": 3,
   "id": "ed358798",
   "metadata": {},
   "outputs": [
    {
     "data": {
      "text/plain": [
       "array([0, 1, 2, 3, 4, 5, 6, 7, 8, 9])"
      ]
     },
     "execution_count": 3,
     "metadata": {},
     "output_type": "execute_result"
    }
   ],
   "source": [
    "array_0_to_9 = np.arange(10)\n",
    "array_0_to_9"
   ]
  },
  {
   "cell_type": "code",
   "execution_count": 4,
   "id": "85da674a",
   "metadata": {},
   "outputs": [
    {
     "data": {
      "text/plain": [
       "array([3, 2, 0, 1, 2])"
      ]
     },
     "execution_count": 4,
     "metadata": {},
     "output_type": "execute_result"
    }
   ],
   "source": [
    "# Exercice 2\n",
    "\n",
    "float_list = [3.14, 2.17, 0, 1, 2]\n",
    "\n",
    "int_array = np.array(float_list, dtype=int)\n",
    "int_array"
   ]
  },
  {
   "cell_type": "code",
   "execution_count": 7,
   "id": "fc3d9978",
   "metadata": {},
   "outputs": [
    {
     "data": {
      "text/plain": [
       "array([[1, 2, 3],\n",
       "       [4, 5, 6],\n",
       "       [7, 8, 9]])"
      ]
     },
     "execution_count": 7,
     "metadata": {},
     "output_type": "execute_result"
    }
   ],
   "source": [
    "# Exercice 3\n",
    "\n",
    "array_3x3 = np.arange(1, 10).reshape(3, 3)\n",
    "array_3x3\n"
   ]
  },
  {
   "cell_type": "code",
   "execution_count": null,
   "id": "6feea909",
   "metadata": {},
   "outputs": [],
   "source": [
    "# Exercice 4\n",
    "\n",
    "\n"
   ]
  },
  {
   "cell_type": "code",
   "execution_count": 10,
   "id": "5ae6758d",
   "metadata": {},
   "outputs": [],
   "source": [
    "# Exercice 5\n",
    "\n",
    "array = np.array([\n",
    "    [21, 22, 23, 22, 22],\n",
    "    [20, 21, 22, 23, 24],\n",
    "    [21, 22, 23, 22, 22]\n",
    "])"
   ]
  },
  {
   "cell_type": "code",
   "execution_count": 11,
   "id": "caf09c2b",
   "metadata": {},
   "outputs": [
    {
     "name": "stdout",
     "output_type": "stream",
     "text": [
      "[20 21 22 23 24]\n"
     ]
    }
   ],
   "source": [
    "second_row = array[1]\n",
    "print(second_row)"
   ]
  },
  {
   "cell_type": "code",
   "execution_count": 12,
   "id": "eee5a8a8",
   "metadata": {},
   "outputs": [
    {
     "name": "stdout",
     "output_type": "stream",
     "text": [
      "[9 8 7 6 5 4 3 2 1 0]\n"
     ]
    }
   ],
   "source": [
    "# Exercice 6\n",
    "\n",
    "arr = np.arange(10)\n",
    "\n",
    "reversed_arr = arr[::-1]\n",
    "\n",
    "print(reversed_arr)\n"
   ]
  },
  {
   "cell_type": "code",
   "execution_count": 13,
   "id": "dedd8c2e",
   "metadata": {},
   "outputs": [
    {
     "name": "stdout",
     "output_type": "stream",
     "text": [
      "[[1. 0. 0. 0.]\n",
      " [0. 1. 0. 0.]\n",
      " [0. 0. 1. 0.]\n",
      " [0. 0. 0. 1.]]\n"
     ]
    }
   ],
   "source": [
    "# Exercice 7\n",
    "\n",
    "identity_matrix = np.identity(4)\n",
    "\n",
    "print(identity_matrix)"
   ]
  },
  {
   "cell_type": "code",
   "execution_count": 14,
   "id": "3c531128",
   "metadata": {},
   "outputs": [
    {
     "name": "stdout",
     "output_type": "stream",
     "text": [
      "Sum: 45, Average: 4.5\n"
     ]
    }
   ],
   "source": [
    "# Exercice 8\n",
    "\n",
    "arr = np.arange(10)\n",
    "\n",
    "total = np.sum(arr)\n",
    "average = np.mean(arr)\n",
    "\n",
    "print(f\"Sum: {total}, Average: {average}\")"
   ]
  },
  {
   "cell_type": "code",
   "execution_count": 15,
   "id": "a46eb90a",
   "metadata": {},
   "outputs": [
    {
     "name": "stdout",
     "output_type": "stream",
     "text": [
      "[1 3 5 7 9]\n"
     ]
    }
   ],
   "source": [
    "# Exercice 10\n",
    "\n",
    "arr = np.arange(10)\n",
    "\n",
    "odd_numbers = arr[arr % 2 == 1]\n",
    "\n",
    "print(odd_numbers)"
   ]
  },
  {
   "cell_type": "code",
   "execution_count": null,
   "id": "38832f8a",
   "metadata": {},
   "outputs": [],
   "source": []
  }
 ],
 "metadata": {
  "kernelspec": {
   "display_name": "Python 3",
   "language": "python",
   "name": "python3"
  },
  "language_info": {
   "codemirror_mode": {
    "name": "ipython",
    "version": 3
   },
   "file_extension": ".py",
   "mimetype": "text/x-python",
   "name": "python",
   "nbconvert_exporter": "python",
   "pygments_lexer": "ipython3",
   "version": "3.9.6"
  }
 },
 "nbformat": 4,
 "nbformat_minor": 5
}
