{
 "cells": [
  {
   "cell_type": "code",
   "execution_count": 1,
   "id": "0fdac08a",
   "metadata": {},
   "outputs": [
    {
     "name": "stdout",
     "output_type": "stream",
     "text": [
      "Defaulting to user installation because normal site-packages is not writeable\n",
      "Requirement already satisfied: numpy in /Users/leamariani/Library/Python/3.9/lib/python/site-packages (2.0.2)\n",
      "\u001b[33mWARNING: You are using pip version 21.2.4; however, version 25.1.1 is available.\n",
      "You should consider upgrading via the '/Library/Developer/CommandLineTools/usr/bin/python3 -m pip install --upgrade pip' command.\u001b[0m\n",
      "Note: you may need to restart the kernel to use updated packages.\n"
     ]
    }
   ],
   "source": [
    "pip install numpy"
   ]
  },
  {
   "cell_type": "code",
   "execution_count": 2,
   "id": "9f235158",
   "metadata": {},
   "outputs": [],
   "source": [
    "import numpy as np\n"
   ]
  },
  {
   "cell_type": "code",
   "execution_count": 3,
   "id": "7e412f78",
   "metadata": {},
   "outputs": [
    {
     "name": "stdout",
     "output_type": "stream",
     "text": [
      "1D Array: [1 2 3 4]\n",
      "2D Array:\n",
      " [[1 2 3]\n",
      " [4 5 6]]\n",
      "Shape: (2, 3)\n",
      "Size: 6\n",
      "Data Type: int64\n"
     ]
    }
   ],
   "source": [
    "# Creating a 1D NumPy array\n",
    "array_1d = np.array([1, 2, 3, 4])\n",
    "print(\"1D Array:\", array_1d)  # Expected Output: 1D Array: [1 2 3 4]\n",
    "\n",
    "# Creating a 2D NumPy array\n",
    "array_2d = np.array([[1, 2, 3], [4, 5, 6]])\n",
    "print(\"2D Array:\\n\", array_2d)\n",
    "# Expected Output:\n",
    "# 2D Array:\n",
    "# [[1 2 3]\n",
    "#  [4 5 6]]\n",
    "\n",
    "# Array attributes\n",
    "print(\"Shape:\", array_2d.shape)  # Expected Output: Shape: (2, 3) - 2 rows and 3 columns\n",
    "print(\"Size:\", array_2d.size)   # Expected Output: Size: 6 - Total 6 elements\n",
    "print(\"Data Type:\", array_2d.dtype)  # Expected Output: Data Type: int64 (or similar, depending on system)\n"
   ]
  },
  {
   "cell_type": "code",
   "execution_count": 4,
   "id": "82c0d063",
   "metadata": {},
   "outputs": [
    {
     "name": "stdout",
     "output_type": "stream",
     "text": [
      "Shape: (2, 3)\n",
      "Size: 6\n",
      "Data Type: int64\n"
     ]
    }
   ],
   "source": [
    "# Array attributes\n",
    "print(\"Shape:\", array_2d.shape)  # Expected Output: Shape: (2, 3) - 2 rows and 3 columns\n",
    "print(\"Size:\", array_2d.size)   # Expected Output: Size: 6 - Total 6 elements\n",
    "print(\"Data Type:\", array_2d.dtype)  # Expected Output: Data Type: int64 (or similar, depending on system)"
   ]
  },
  {
   "cell_type": "code",
   "execution_count": 5,
   "id": "456996e5",
   "metadata": {},
   "outputs": [],
   "source": [
    "array_1d = np.array([1, 2, 3, 4])\n",
    "# Output: 1D Array: [1 2 3 4], Shape: (4,), Size: 4"
   ]
  },
  {
   "cell_type": "markdown",
   "id": "42474aec",
   "metadata": {},
   "source": [
    "1. Create Arrays: Create a 1D array with numbers from 1 to 5 and a 2D array with numbers from 1 to 6 (reshape it to have 2 rows and 3 columns).\n",
    "\n",
    "USE:(https://numpy.org/doc/stable/reference/generated/numpy.reshape.html), (https://numpy.org/doc/stable/reference/generated/numpy.arange.html)\n",
    "\n",
    "2. Inspect Attributes: For each array you created, print its shape, size, and data type.\n",
    "\n",
    "3. Play with Data Types: Create a new array with numbers from 1 to 3, but specify the data type as float. Check and print its data type.\n",
    "\n",
    "Expected Output:\n",
    "\n",
    "Prints of the created arrays with their respective shapes, sizes, and data types.\n",
    "An array with a specified data type different from the default."
   ]
  },
  {
   "cell_type": "code",
   "execution_count": 6,
   "id": "1f4f076e",
   "metadata": {},
   "outputs": [],
   "source": [
    "import numpy as np\n",
    "# 1D array\n",
    "array_1d = np.arange(1, 6)\n",
    "# 2D array\n",
    "array_2d = np.arange(1, 7).reshape(2, 3)"
   ]
  },
  {
   "cell_type": "code",
   "execution_count": 7,
   "id": "79d0d596",
   "metadata": {},
   "outputs": [
    {
     "name": "stdout",
     "output_type": "stream",
     "text": [
      "1D Array:\n",
      "Array: [1 2 3 4 5]\n",
      "Shape: (5,)\n",
      "Size: 5\n",
      "Data type: int64\n",
      "\n",
      "2D Array:\n",
      "Array:\n",
      " [[1 2 3]\n",
      " [4 5 6]]\n",
      "Shape: (2, 3)\n",
      "Size: 6\n",
      "Data type: int64\n"
     ]
    }
   ],
   "source": [
    "# Attributes of the 1D array\n",
    "print(\"1D Array:\")\n",
    "print(\"Array:\", array_1d)\n",
    "print(\"Shape:\", array_1d.shape)\n",
    "print(\"Size:\", array_1d.size)\n",
    "print(\"Data type:\", array_1d.dtype)\n",
    "# Attributes of the 2D array\n",
    "print(\"\\n2D Array:\")\n",
    "print(\"Array:\\n\", array_2d)\n",
    "print(\"Shape:\", array_2d.shape)\n",
    "print(\"Size:\", array_2d.size)\n",
    "print(\"Data type:\", array_2d.dtype)"
   ]
  },
  {
   "cell_type": "code",
   "execution_count": 8,
   "id": "33b18c15",
   "metadata": {},
   "outputs": [
    {
     "name": "stdout",
     "output_type": "stream",
     "text": [
      "\n",
      "Array with float data type:\n",
      "Array: [1. 2. 3.]\n",
      "Data type: float64\n"
     ]
    }
   ],
   "source": [
    "# Array with specified data type\n",
    "array_float = np.arange(1, 4, dtype=float)\n",
    "print(\"\\nArray with float data type:\")\n",
    "print(\"Array:\", array_float)\n",
    "print(\"Data type:\", array_float.dtype)"
   ]
  },
  {
   "cell_type": "markdown",
   "id": "9ea2e920",
   "metadata": {},
   "source": [
    "A one dimensional array with the temperatures from this week.\n",
    "A two dimensional array of shape 2,5 with random values (choose them yourself) from 1 to 10.\n",
    "A 3D array with valid pixel values for a picture with 9 pixels."
   ]
  },
  {
   "cell_type": "code",
   "execution_count": 9,
   "id": "e56f31c3",
   "metadata": {},
   "outputs": [
    {
     "name": "stdout",
     "output_type": "stream",
     "text": [
      "1D Array - Temperatures:\n",
      "[22 24 19 23 25 20 21]\n"
     ]
    }
   ],
   "source": [
    "import numpy as np\n",
    "# Temperatures for a week (example)\n",
    "temperatures = np.array([22, 24, 19, 23, 25, 20, 21])\n",
    "print(\"1D Array - Temperatures:\")\n",
    "print(temperatures)"
   ]
  },
  {
   "cell_type": "code",
   "execution_count": 10,
   "id": "78eadddd",
   "metadata": {},
   "outputs": [
    {
     "name": "stdout",
     "output_type": "stream",
     "text": [
      "\n",
      "2D Array with random values:\n",
      "[[ 3  5  7  2  9]\n",
      " [ 8  6  4  1 10]]\n"
     ]
    }
   ],
   "source": [
    "# 2D Array with random values\n",
    "random_2d = np.array([[3, 5, 7, 2, 9],\n",
    "                      [8, 6, 4, 1, 10]])\n",
    "print(\"\\n2D Array with random values:\")\n",
    "print(random_2d)"
   ]
  },
  {
   "cell_type": "code",
   "execution_count": 11,
   "id": "2e2de922",
   "metadata": {},
   "outputs": [
    {
     "name": "stdout",
     "output_type": "stream",
     "text": [
      "\n",
      "3D Array - Pixels:\n",
      "[[[255   0   0]\n",
      "  [  0 255   0]\n",
      "  [  0   0 255]]\n",
      "\n",
      " [[255 255   0]\n",
      "  [  0 255 255]\n",
      "  [255   0 255]]\n",
      "\n",
      " [[128 128 128]\n",
      "  [ 64  64  64]\n",
      "  [192 192 192]]]\n"
     ]
    }
   ],
   "source": [
    "# 3D Array for 9 pixels (3x3 grid) with RGB values\n",
    "pixels = np.array([\n",
    "    [[255, 0, 0], [0, 255, 0], [0, 0, 255]],\n",
    "    [[255, 255, 0], [0, 255, 255], [255, 0, 255]],\n",
    "    [[128, 128, 128], [64, 64, 64], [192, 192, 192]]\n",
    "])\n",
    "print(\"\\n3D Array - Pixels:\")\n",
    "print(pixels)\n"
   ]
  },
  {
   "cell_type": "markdown",
   "id": "fbb5f2e4",
   "metadata": {},
   "source": [
    "1. Basic Indexing: Create an array of 10 elements and access the 5th element in it.\n",
    "\n",
    "2. Basic Slicing: From the same array, extract a slice containing the 3rd to the 8th elements.\n",
    "\n",
    "3. Boolean Indexing: Create an array of 6 random integers between 10 and 50. Print the elements that are greater than 30.\n",
    "\n",
    "4. Fancy Indexing: From the same array, use fancy indexing to access the 2nd, 4th, and 6th elements.\n",
    "\n",
    "Expected Output:\n",
    "\n",
    "The 5th element of the first array.\n",
    "A slice of the array showing elements from the 3rd to the 8th position.\n",
    "Elements greater than 30 from the random array.\n",
    "Selected elements (2nd, 4th, 6th) from the random array using fancy indexing."
   ]
  },
  {
   "cell_type": "code",
   "execution_count": 12,
   "id": "44182aa6",
   "metadata": {},
   "outputs": [
    {
     "name": "stdout",
     "output_type": "stream",
     "text": [
      "5th element: 5\n"
     ]
    }
   ],
   "source": [
    "import numpy as np\n",
    "# Create an array with 10 elements\n",
    "array_10 = np.array([1, 2, 3, 4, 5, 6, 7, 8, 9, 10])\n",
    "# Access the 5th element (index 4)\n",
    "fifth_element = array_10[4]\n",
    "print(\"5th element:\", fifth_element)"
   ]
  },
  {
   "cell_type": "code",
   "execution_count": 13,
   "id": "2d4bec58",
   "metadata": {},
   "outputs": [
    {
     "name": "stdout",
     "output_type": "stream",
     "text": [
      "Slice from 3rd to 8th elements: [3 4 5 6 7 8]\n"
     ]
    }
   ],
   "source": [
    "# Extract elements from the 3rd to the 8th position (indices 2 to 7)\n",
    "slice_array = array_10[2:8]\n",
    "print(\"Slice from 3rd to 8th elements:\", slice_array)"
   ]
  },
  {
   "cell_type": "code",
   "execution_count": 14,
   "id": "eb44b741",
   "metadata": {},
   "outputs": [
    {
     "name": "stdout",
     "output_type": "stream",
     "text": [
      "Random array elements greater than 30: [47 46]\n"
     ]
    }
   ],
   "source": [
    "# Create an array of 6 random integers between 10 and 50\n",
    "random_array = np.random.randint(10, 50, 6)\n",
    "# Boolean indexing to find elements greater than 30\n",
    "greater_than_30 = random_array[random_array > 30]\n",
    "print(\"Random array elements greater than 30:\", greater_than_30)"
   ]
  },
  {
   "cell_type": "code",
   "execution_count": 15,
   "id": "6462ccdc",
   "metadata": {},
   "outputs": [
    {
     "name": "stdout",
     "output_type": "stream",
     "text": [
      "Elements at 2nd, 4th, and 6th positions: [12 46 16]\n"
     ]
    }
   ],
   "source": [
    "# Use fancy indexing to access 2nd, 4th, and 6th elements\n",
    "fancy_elements = random_array[[1, 3, 5]]\n",
    "print(\"Elements at 2nd, 4th, and 6th positions:\", fancy_elements)\n"
   ]
  },
  {
   "cell_type": "markdown",
   "id": "9b4b4422",
   "metadata": {},
   "source": [
    "After learning about array indexing and slicing, it's important to practice these concepts. Here are some exercises to help solidify your understanding:\n",
    "\n",
    "1. Modifying Specific Elements:\n",
    "\n",
    "Create an array with values from 1 to 10. Change the value of the fifth element to 50.\n",
    "\n",
    "2. Slicing and Modifying a Range:\n",
    "\n",
    "Given an array of 10 elements, modify the elements from index 3 to 7 to be their negative equivalent.\n",
    "\n",
    "3. Conditional Modification with Boolean Indexing:\n",
    "\n",
    "Create an array with 20 random integers between 1 and 100. Set all values greater than 50 to -1.\n",
    "\n",
    "4. Advanced Indexing Modification:\n",
    "\n",
    "Given a 2D array of shape (5, 5), modify the elements in the diagonal to be twice their original value.\n",
    "\n",
    "5. Understanding Slicing Impact:\n",
    "\n",
    "Create an array of 10 elements. Slice the array from index 2 to 5, and modify the first element of the slice. Observe the change in the original array."
   ]
  },
  {
   "cell_type": "code",
   "execution_count": 16,
   "id": "e2e5ce8f",
   "metadata": {},
   "outputs": [
    {
     "ename": "NameError",
     "evalue": "name 'array' is not defined",
     "output_type": "error",
     "traceback": [
      "\u001b[0;31m---------------------------------------------------------------------------\u001b[0m",
      "\u001b[0;31mNameError\u001b[0m                                 Traceback (most recent call last)",
      "Cell \u001b[0;32mIn[16], line 2\u001b[0m\n\u001b[1;32m      1\u001b[0m \u001b[38;5;66;03m# Modify elements from index 3 to 7\u001b[39;00m\n\u001b[0;32m----> 2\u001b[0m array[\u001b[38;5;241m3\u001b[39m:\u001b[38;5;241m8\u001b[39m] \u001b[38;5;241m=\u001b[39m \u001b[38;5;241m-\u001b[39m\u001b[43marray\u001b[49m[\u001b[38;5;241m3\u001b[39m:\u001b[38;5;241m8\u001b[39m]\n\u001b[1;32m      3\u001b[0m \u001b[38;5;28mprint\u001b[39m(\u001b[38;5;124m\"\u001b[39m\u001b[38;5;124mArray after negating elements 3 to 7:\u001b[39m\u001b[38;5;124m\"\u001b[39m, array)\n",
      "\u001b[0;31mNameError\u001b[0m: name 'array' is not defined"
     ]
    }
   ],
   "source": [
    "# Modify elements from index 3 to 7\n",
    "array[3:8] = -array[3:8]\n",
    "print(\"Array after negating elements 3 to 7:\", array)"
   ]
  },
  {
   "cell_type": "code",
   "execution_count": 17,
   "id": "412bf6e1",
   "metadata": {},
   "outputs": [
    {
     "name": "stdout",
     "output_type": "stream",
     "text": [
      "Array after setting values > 50 to -1: [27 23 -1 50 -1 38 18 10 -1 -1 11 -1 32 -1 -1 35 -1 -1 -1  4]\n"
     ]
    }
   ],
   "source": [
    "# Random array with values between 1 and 100\n",
    "random_array = np.random.randint(1, 101, 20)\n",
    "# Set elements greater than 50 to -1\n",
    "random_array[random_array > 50] = -1\n",
    "print(\"Array after setting values > 50 to -1:\", random_array)"
   ]
  },
  {
   "cell_type": "markdown",
   "id": "d9ac894d",
   "metadata": {},
   "source": [
    "1. Reshape Array: Create a 1D array with 12 elements and reshape it to a 4x3 matrix. Then reshape it to a 2x6 matrix.\n",
    "\n",
    "2. Transpose Matrix: Transpose the 2x6 matrix you created in the previous step.\n",
    "\n",
    "3. Combine Reshaping and Transposing: Create a 3x4 matrix, transpose it, and then reshape the transposed matrix to a 1D array."
   ]
  },
  {
   "cell_type": "code",
   "execution_count": 19,
   "id": "d32d0746",
   "metadata": {},
   "outputs": [
    {
     "name": "stdout",
     "output_type": "stream",
     "text": [
      "4x3 Matrix:\n",
      " [[ 0  1  2]\n",
      " [ 3  4  5]\n",
      " [ 6  7  8]\n",
      " [ 9 10 11]]\n",
      "\n",
      "2x6 Matrix:\n",
      " [[ 0  1  2  3  4  5]\n",
      " [ 6  7  8  9 10 11]]\n"
     ]
    }
   ],
   "source": [
    "import numpy as np\n",
    "# Create a 1D array with 12 elements\n",
    "array_1d = np.arange(12)\n",
    "# Reshape to 4x3 matrix\n",
    "matrix_4x3 = array_1d.reshape(4, 3)\n",
    "print(\"4x3 Matrix:\\n\", matrix_4x3)\n",
    "# Reshape to 2x6 matrix\n",
    "matrix_2x6 = array_1d.reshape(2, 6)\n",
    "print(\"\\n2x6 Matrix:\\n\", matrix_2x6)"
   ]
  },
  {
   "cell_type": "code",
   "execution_count": 20,
   "id": "f662eaa2",
   "metadata": {},
   "outputs": [
    {
     "name": "stdout",
     "output_type": "stream",
     "text": [
      "\n",
      "3x4 Matrix:\n",
      " [[ 0  1  2  3]\n",
      " [ 4  5  6  7]\n",
      " [ 8  9 10 11]]\n",
      "\n",
      "Transposed 3x4 Matrix:\n",
      " [[ 0  4  8]\n",
      " [ 1  5  9]\n",
      " [ 2  6 10]\n",
      " [ 3  7 11]]\n",
      "\n",
      "Reshaped 1D Array from Transposed Matrix:\n",
      " [ 0  4  8  1  5  9  2  6 10  3  7 11]\n"
     ]
    }
   ],
   "source": [
    "# Create a 3x4 matrix\n",
    "matrix_3x4 = np.arange(12).reshape(3, 4)\n",
    "print(\"\\n3x4 Matrix:\\n\", matrix_3x4)\n",
    "# Transpose the 3x4 matrix\n",
    "transposed_3x4 = matrix_3x4.T\n",
    "print(\"\\nTransposed 3x4 Matrix:\\n\", transposed_3x4)\n",
    "# Reshape the transposed matrix to a 1D array\n",
    "reshaped_1d = transposed_3x4.reshape(-1)\n",
    "print(\"\\nReshaped 1D Array from Transposed Matrix:\\n\", reshaped_1d)"
   ]
  },
  {
   "cell_type": "code",
   "execution_count": null,
   "id": "00e7394c",
   "metadata": {},
   "outputs": [],
   "source": []
  }
 ],
 "metadata": {
  "kernelspec": {
   "display_name": "Python 3",
   "language": "python",
   "name": "python3"
  },
  "language_info": {
   "codemirror_mode": {
    "name": "ipython",
    "version": 3
   },
   "file_extension": ".py",
   "mimetype": "text/x-python",
   "name": "python",
   "nbconvert_exporter": "python",
   "pygments_lexer": "ipython3",
   "version": "3.9.6"
  }
 },
 "nbformat": 4,
 "nbformat_minor": 5
}
