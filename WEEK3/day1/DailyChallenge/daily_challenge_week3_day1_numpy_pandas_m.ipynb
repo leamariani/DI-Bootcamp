{
 "cells": [
  {
   "cell_type": "code",
   "execution_count": 1,
   "id": "800c7c52",
   "metadata": {},
   "outputs": [],
   "source": [
    "import numpy as np\n",
    "import pandas as pd\n",
    "import matplotlib.pyplot as plt"
   ]
  },
  {
   "cell_type": "code",
   "execution_count": 3,
   "id": "3aa4c449",
   "metadata": {},
   "outputs": [],
   "source": [
    "cities_df = pd.read_csv('cities.csv')\n",
    "countries_df = pd.read_csv('countries.csv')\n"
   ]
  },
  {
   "cell_type": "code",
   "execution_count": 4,
   "id": "1abe806e",
   "metadata": {},
   "outputs": [],
   "source": [
    "num_cities = len(cities_df)\n",
    "months = [\"Jan\", \"Feb\", \"Mar\", \"Apr\", \"May\", \"Jun\",\n",
    "          \"Jul\", \"Aug\", \"Sep\", \"Oct\", \"Nov\", \"Dec\"]"
   ]
  },
  {
   "cell_type": "code",
   "execution_count": 5,
   "id": "339380e4",
   "metadata": {},
   "outputs": [],
   "source": [
    "temperature_data = np.random.uniform(low=-5, high=35, size=(num_cities, 12))"
   ]
  },
  {
   "cell_type": "code",
   "execution_count": 6,
   "id": "100bc110",
   "metadata": {},
   "outputs": [],
   "source": [
    "temperature_df = pd.DataFrame(data=temperature_data, index=cities_df['city_name'], columns=months)"
   ]
  },
  {
   "cell_type": "code",
   "execution_count": 11,
   "id": "959a57c3",
   "metadata": {},
   "outputs": [],
   "source": [
    "annual_avg_temp = temperature_df.mean(axis=1)\n"
   ]
  },
  {
   "cell_type": "code",
   "execution_count": 12,
   "id": "ef4faac7",
   "metadata": {},
   "outputs": [],
   "source": [
    "highest_avg_city = annual_avg_temp.idxmax()\n",
    "lowest_avg_city = annual_avg_temp.idxmin()\n",
    "highest_avg_temp_value = annual_avg_temp.max()\n",
    "lowest_avg_temp_value = annual_avg_temp.min()"
   ]
  },
  {
   "cell_type": "code",
   "execution_count": 13,
   "id": "7d60697f",
   "metadata": {},
   "outputs": [
    {
     "name": "stdout",
     "output_type": "stream",
     "text": [
      "City with Highest Average Temperature: Quelimane\n",
      "Highest Average Temperature (°C): 24.929188946864375\n",
      "City with Lowest Average Temperature: Vientiane\n",
      "Lowest Average Temperature (°C): 1.7665385075263276\n"
     ]
    }
   ],
   "source": [
    "print(\"City with Highest Average Temperature:\", highest_avg_city)\n",
    "print(\"Highest Average Temperature (°C):\", highest_avg_temp_value)\n",
    "print(\"City with Lowest Average Temperature:\", lowest_avg_city)\n",
    "print(\"Lowest Average Temperature (°C):\", lowest_avg_temp_value)"
   ]
  },
  {
   "cell_type": "markdown",
   "id": "8be929b5",
   "metadata": {},
   "source": []
  },
  {
   "cell_type": "code",
   "execution_count": null,
   "id": "8484c68c",
   "metadata": {},
   "outputs": [],
   "source": []
  }
 ],
 "metadata": {
  "kernelspec": {
   "display_name": "Python 3",
   "language": "python",
   "name": "python3"
  },
  "language_info": {
   "codemirror_mode": {
    "name": "ipython",
    "version": 3
   },
   "file_extension": ".py",
   "mimetype": "text/x-python",
   "name": "python",
   "nbconvert_exporter": "python",
   "pygments_lexer": "ipython3",
   "version": "3.9.6"
  }
 },
 "nbformat": 4,
 "nbformat_minor": 5
}
